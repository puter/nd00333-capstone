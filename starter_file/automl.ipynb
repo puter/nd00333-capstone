{
  "cells": [
    {
      "cell_type": "markdown",
      "source": [
        "# Automated ML\n",
        "\n",
        "TODO: Import Dependencies. In the cell below, import all the dependencies that you will need to complete the project."
      ],
      "metadata": {}
    },
    {
      "cell_type": "code",
      "source": [
        "import logging\n",
        "import os\n",
        "import csv\n",
        "\n",
        "from matplotlib import pyplot as plt\n",
        "import numpy as np\n",
        "import pandas as pd\n",
        "import json\n",
        "from sklearn import datasets\n",
        "import pkg_resources\n",
        "\n",
        "import azureml.core\n",
        "from azureml.core.experiment import Experiment\n",
        "from azureml.core.workspace import Workspace\n",
        "from azureml.train.automl import AutoMLConfig\n",
        "from azureml.core.dataset import Dataset\n",
        "\n",
        "from azureml.pipeline.steps import AutoMLStep\n",
        "from azureml.pipeline.core import Pipeline\n",
        "from azureml.pipeline.core import PipelineData, TrainingOutput\n",
        "\n",
        "from azureml.core.compute import AmlCompute\n",
        "from azureml.core.compute import ComputeTarget\n",
        "from azureml.core.compute_target import ComputeTargetException\n",
        "\n",
        "ws = Workspace.from_config()\n",
        "\n",
        "\n",
        "cluster_name = \"pipeline-compute\"\n",
        "\n",
        "try:\n",
        "    compute_target = ComputeTarget(workspace=ws, name=cluster_name)\n",
        "    print('Found existing cluster, use it.')\n",
        "except ComputeTargetException:\n",
        "    compute_config = AmlCompute.provisioning_configuration(vm_size='STANDARD_D2_V2',# for GPU, use \"STANDARD_NC6\"\n",
        "                                                           #vm_priority = 'lowpriority', # optional\n",
        "                                                           max_nodes=4)\n",
        "    compute_target = ComputeTarget.create(ws, cluster_name, compute_config)\n",
        "\n",
        "compute_target.wait_for_completion(show_output=True, min_node_count = 1, timeout_in_minutes = 10)\n",
        "\n"
      ],
      "outputs": [
        {
          "output_type": "stream",
          "name": "stdout",
          "text": "Found existing cluster, use it.\nSucceeded.................................................................................................................\nAmlCompute wait for completion finished\n\nWait timeout has been reached\nCurrent provisioning state of AmlCompute is \"Succeeded\" and current node count is \"0\"\n"
        }
      ],
      "execution_count": 2,
      "metadata": {
        "gather": {
          "logged": 1655337012996
        },
        "jupyter": {
          "outputs_hidden": false,
          "source_hidden": false
        },
        "nteract": {
          "transient": {
            "deleting": false
          }
        }
      }
    },
    {
      "cell_type": "markdown",
      "source": [
        "## Dataset\n",
        "\n",
        "### Overview\n",
        "TODO: In this markdown cell, give an overview of the dataset you are using. Also mention the task you will be performing.\n",
        "\n",
        "\n",
        "TODO: Get data. In the cell below, write code to access the data you will be using in this project. Remember that the dataset needs to be external."
      ],
      "metadata": {}
    },
    {
      "cell_type": "code",
      "source": [
        "# Utility function to clean data from dataset\n",
        "\n",
        "def clean_data(data):\n",
        "    # Clean and one hot encode data\n",
        "    x_df = data.replace('N/A', np.nan).dropna()\n",
        "    x_df.drop('id', inplace=True, axis=1)\n",
        "    x_df['bmi'] = x_df['bmi'].astype(float)\n",
        "\n",
        "    return (x_df)"
      ],
      "outputs": [],
      "execution_count": 3,
      "metadata": {
        "gather": {
          "logged": 1655337013124
        }
      }
    },
    {
      "cell_type": "code",
      "source": [
        "# choose a name for experiment\n",
        "experiment_name = 'stroke-prediction-training-automl'\n",
        "\n",
        "experiment=Experiment(ws, experiment_name)\n",
        "\n",
        "project_folder = './automl'\n",
        "\n",
        "dataset_name = 'stroke-dataset'\n",
        "dataset_description = ''' https://www.kaggle.com/datasets/fedesoriano/stroke-prediction-dataset?select=healthcare-dataset-stroke-data.csv\n",
        "According to the World Health Organization (WHO) stroke is the 2nd leading cause of death globally, responsible for approximately 11% of total deaths.\n",
        "This dataset is used to predict whether a patient is likely to get stroke based on the input parameters like gender, age, various diseases, and smoking status. Each row in the data provides relavant information about the patient.\n",
        "'''\n",
        "start_filename = 'healthcare-dataset-stroke-data.csv'\n",
        "out_filename = 'stroke_data_cleaned.parquet'\n",
        "\n",
        "if dataset_name in ws.datasets.keys():\n",
        "    dataset = ws.datasets[dataset_name]\n",
        "else:\n",
        "    ds = ws.get_default_datastore()\n",
        "    df = pd.read_csv(start_filename)\n",
        "    clean_df = clean_data(df)\n",
        "    clean_df.to_parquet(out_filename, index=False)\n",
        "    ds.upload_files(\n",
        "        files=[\n",
        "            out_filename\n",
        "        ],\n",
        "        target_path='stroke_data',\n",
        "        overwrite=True,\n",
        "        show_progress=True\n",
        "    )\n",
        "\n",
        "    dataset = Dataset.Tabular.from_parquet_files(path=(ds,'stroke_data/*.parquet'))\n",
        "\n",
        "    dataset.register(\n",
        "        workspace=ws,\n",
        "        name=dataset_name,\n",
        "        description=dataset_description\n",
        "    )\n",
        "\n",
        "# https://towardsdatascience.com/azure-machine-learning-service-where-is-my-data-pjainani-86a77b93ab52"
      ],
      "outputs": [],
      "execution_count": 4,
      "metadata": {
        "gather": {
          "logged": 1655337013465
        },
        "jupyter": {
          "outputs_hidden": false,
          "source_hidden": false
        },
        "nteract": {
          "transient": {
            "deleting": false
          }
        }
      }
    },
    {
      "cell_type": "markdown",
      "source": [
        "## AutoML Configuration\n",
        "\n",
        "TODO: Explain why you chose the automl settings and cofiguration you used below."
      ],
      "metadata": {}
    },
    {
      "cell_type": "code",
      "source": [
        "# TODO: Put your automl settings here\n",
        "automl_settings = {\n",
        "    \"experiment_timeout_minutes\": 20,\n",
        "    \"max_concurrent_iterations\": 4, \n",
        "    \"primary_metric\" : 'AUC_weighted'\n",
        "}\n",
        "\n",
        "# TODO: Put your automl config here\n",
        "automl_config = AutoMLConfig(compute_target=compute_target,\n",
        "                             task = \"classification\",\n",
        "                             training_data=dataset,\n",
        "                             label_column_name=\"stroke\",   \n",
        "                             path = project_folder,\n",
        "                             enable_early_stopping= True,\n",
        "                             featurization= 'auto',\n",
        "                             debug_log = \"automl_errors.log\",\n",
        "                             **automl_settings\n",
        "                            )"
      ],
      "outputs": [],
      "execution_count": 5,
      "metadata": {
        "gather": {
          "logged": 1655337013643
        },
        "jupyter": {
          "outputs_hidden": false,
          "source_hidden": false
        },
        "nteract": {
          "transient": {
            "deleting": false
          }
        }
      }
    },
    {
      "cell_type": "markdown",
      "source": [
        "## Run Details\n",
        "\n",
        "OPTIONAL: Write about the different models trained and their performance. Why do you think some models did better than others?\n",
        "\n",
        "TODO: In the cell below, use the `RunDetails` widget to show the different experiments."
      ],
      "metadata": {}
    },
    {
      "cell_type": "code",
      "source": [
        "from azureml.widgets import RunDetails\n",
        "# TODO: Submit your experiment\n",
        "automl_run = Experiment(ws, 'automl_experiment')\n",
        "run = automl_run.submit(config=automl_config)\n",
        "\n",
        "RunDetails(run).show()\n",
        "run.wait_for_completion(show_output=True)"
      ],
      "outputs": [
        {
          "output_type": "stream",
          "name": "stdout",
          "text": "Submitting remote run.\n"
        },
        {
          "output_type": "display_data",
          "data": {
            "text/plain": "<IPython.core.display.HTML object>",
            "text/html": "<table style=\"width:100%\"><tr><th>Experiment</th><th>Id</th><th>Type</th><th>Status</th><th>Details Page</th><th>Docs Page</th></tr><tr><td>automl_experiment</td><td>AutoML_7f652609-adc6-44df-bb87-31822faac8a1</td><td>automl</td><td>NotStarted</td><td><a href=\"https://ml.azure.com/runs/AutoML_7f652609-adc6-44df-bb87-31822faac8a1?wsid=/subscriptions/adf28760-4783-41dd-bbd5-bbe3210d5965/resourcegroups/ml-ops/workspaces/telemetry-ws&amp;tid=3c2a020d-f343-4ca1-b6ef-91768380352f\" target=\"_blank\" rel=\"noopener\">Link to Azure Machine Learning studio</a></td><td><a href=\"https://docs.microsoft.com/en-us/python/api/overview/azure/ml/intro?view=azure-ml-py\" target=\"_blank\" rel=\"noopener\">Link to Documentation</a></td></tr></table>"
          },
          "metadata": {}
        },
        {
          "output_type": "display_data",
          "data": {
            "text/plain": "_AutoMLWidget(widget_settings={'childWidgetDisplay': 'popup', 'send_telemetry': False, 'log_level': 'INFO', 's…",
            "application/vnd.jupyter.widget-view+json": {
              "version_major": 2,
              "version_minor": 0,
              "model_id": "a3c19dcc39734998849f7d69517b0501"
            }
          },
          "metadata": {}
        },
        {
          "output_type": "display_data",
          "data": {
            "application/aml.mini.widget.v1": "{\"status\": \"Completed\", \"workbench_run_details_uri\": \"https://ml.azure.com/runs/AutoML_7f652609-adc6-44df-bb87-31822faac8a1?wsid=/subscriptions/adf28760-4783-41dd-bbd5-bbe3210d5965/resourcegroups/ml-ops/workspaces/telemetry-ws&tid=3c2a020d-f343-4ca1-b6ef-91768380352f\", \"run_id\": \"AutoML_7f652609-adc6-44df-bb87-31822faac8a1\", \"run_properties\": {\"run_id\": \"AutoML_7f652609-adc6-44df-bb87-31822faac8a1\", \"created_utc\": \"2022-06-15T23:50:15.454163Z\", \"properties\": {\"num_iterations\": \"1000\", \"training_type\": \"TrainFull\", \"acquisition_function\": \"EI\", \"primary_metric\": \"AUC_weighted\", \"train_split\": \"0\", \"acquisition_parameter\": \"0\", \"num_cross_validation\": null, \"target\": \"pipeline-compute\", \"AMLSettingsJsonString\": \"{\\\"path\\\":null,\\\"name\\\":\\\"automl_experiment\\\",\\\"subscription_id\\\":\\\"adf28760-4783-41dd-bbd5-bbe3210d5965\\\",\\\"resource_group\\\":\\\"ml-ops\\\",\\\"workspace_name\\\":\\\"telemetry-ws\\\",\\\"region\\\":\\\"eastus\\\",\\\"compute_target\\\":\\\"pipeline-compute\\\",\\\"spark_service\\\":null,\\\"azure_service\\\":\\\"remote\\\",\\\"many_models\\\":false,\\\"pipeline_fetch_max_batch_size\\\":1,\\\"enable_batch_run\\\":true,\\\"enable_run_restructure\\\":false,\\\"start_auxiliary_runs_before_parent_complete\\\":false,\\\"enable_code_generation\\\":false,\\\"iterations\\\":1000,\\\"primary_metric\\\":\\\"AUC_weighted\\\",\\\"task_type\\\":\\\"classification\\\",\\\"data_script\\\":null,\\\"test_size\\\":0.0,\\\"test_include_predictions_only\\\":false,\\\"validation_size\\\":0.0,\\\"n_cross_validations\\\":null,\\\"y_min\\\":null,\\\"y_max\\\":null,\\\"num_classes\\\":null,\\\"featurization\\\":\\\"auto\\\",\\\"_ignore_package_version_incompatibilities\\\":false,\\\"is_timeseries\\\":false,\\\"max_cores_per_iteration\\\":1,\\\"max_concurrent_iterations\\\":4,\\\"iteration_timeout_minutes\\\":null,\\\"mem_in_mb\\\":null,\\\"enforce_time_on_windows\\\":false,\\\"experiment_timeout_minutes\\\":20,\\\"experiment_exit_score\\\":null,\\\"whitelist_models\\\":null,\\\"blacklist_algos\\\":[\\\"TensorFlowLinearClassifier\\\",\\\"TensorFlowDNN\\\"],\\\"supported_models\\\":[\\\"ExtremeRandomTrees\\\",\\\"TensorFlowDNN\\\",\\\"BernoulliNaiveBayes\\\",\\\"RandomForest\\\",\\\"DecisionTree\\\",\\\"XGBoostClassifier\\\",\\\"KNN\\\",\\\"GradientBoosting\\\",\\\"TensorFlowLinearClassifier\\\",\\\"SVM\\\",\\\"MultinomialNaiveBayes\\\",\\\"LogisticRegression\\\",\\\"SGD\\\",\\\"LinearSVM\\\",\\\"AveragedPerceptronClassifier\\\",\\\"LightGBM\\\"],\\\"private_models\\\":[],\\\"auto_blacklist\\\":true,\\\"blacklist_samples_reached\\\":false,\\\"exclude_nan_labels\\\":true,\\\"verbosity\\\":20,\\\"_debug_log\\\":\\\"azureml_automl.log\\\",\\\"show_warnings\\\":false,\\\"model_explainability\\\":true,\\\"service_url\\\":null,\\\"sdk_url\\\":null,\\\"sdk_packages\\\":null,\\\"enable_onnx_compatible_models\\\":false,\\\"enable_split_onnx_featurizer_estimator_models\\\":false,\\\"vm_type\\\":\\\"STANDARD_DS12_V2\\\",\\\"telemetry_verbosity\\\":20,\\\"send_telemetry\\\":true,\\\"enable_dnn\\\":false,\\\"scenario\\\":\\\"SDK-1.13.0\\\",\\\"environment_label\\\":null,\\\"save_mlflow\\\":false,\\\"force_text_dnn\\\":false,\\\"enable_feature_sweeping\\\":true,\\\"enable_early_stopping\\\":true,\\\"early_stopping_n_iters\\\":10,\\\"metrics\\\":null,\\\"enable_metric_confidence\\\":false,\\\"enable_ensembling\\\":true,\\\"enable_stack_ensembling\\\":true,\\\"ensemble_iterations\\\":15,\\\"enable_tf\\\":false,\\\"enable_subsampling\\\":null,\\\"subsample_seed\\\":null,\\\"enable_nimbusml\\\":false,\\\"enable_streaming\\\":false,\\\"force_streaming\\\":false,\\\"track_child_runs\\\":true,\\\"allowed_private_models\\\":[],\\\"label_column_name\\\":\\\"stroke\\\",\\\"weight_column_name\\\":null,\\\"cv_split_column_names\\\":null,\\\"positive_label\\\":null,\\\"enable_local_managed\\\":false,\\\"_local_managed_run_id\\\":null,\\\"cost_mode\\\":1,\\\"lag_length\\\":0,\\\"metric_operation\\\":\\\"maximize\\\",\\\"preprocess\\\":true,\\\"dataset_id\\\":\\\"e985c1b4-a8d6-4c85-a165-13e58ca7eb7c\\\"}\", \"DataPrepJsonString\": \"{\\\\\\\"training_data\\\\\\\": {\\\\\\\"datasetId\\\\\\\": \\\\\\\"e985c1b4-a8d6-4c85-a165-13e58ca7eb7c\\\\\\\"}, \\\\\\\"datasets\\\\\\\": 0}\", \"EnableSubsampling\": null, \"runTemplate\": \"AutoML\", \"azureml.runsource\": \"automl\", \"display_task_type\": \"classification\", \"dependencies_versions\": \"{\\\"azureml-widgets\\\": \\\"1.34.0\\\", \\\"azureml-train\\\": \\\"1.34.0\\\", \\\"azureml-train-restclients-hyperdrive\\\": \\\"1.34.0\\\", \\\"azureml-train-core\\\": \\\"1.34.0\\\", \\\"azureml-train-automl\\\": \\\"1.34.0\\\", \\\"azureml-train-automl-runtime\\\": \\\"1.34.0\\\", \\\"azureml-train-automl-client\\\": \\\"1.34.0\\\", \\\"azureml-tensorboard\\\": \\\"1.34.0\\\", \\\"azureml-telemetry\\\": \\\"1.34.0\\\", \\\"azureml-sdk\\\": \\\"1.34.0\\\", \\\"azureml-samples\\\": \\\"0+unknown\\\", \\\"azureml-responsibleai\\\": \\\"1.34.0\\\", \\\"azureml-pipeline\\\": \\\"1.34.0\\\", \\\"azureml-pipeline-steps\\\": \\\"1.34.0\\\", \\\"azureml-pipeline-core\\\": \\\"1.34.0\\\", \\\"azureml-opendatasets\\\": \\\"1.34.0\\\", \\\"azureml-mlflow\\\": \\\"1.34.0\\\", \\\"azureml-interpret\\\": \\\"1.34.0\\\", \\\"azureml-inference-server-http\\\": \\\"0.3.1\\\", \\\"azureml-explain-model\\\": \\\"1.34.0\\\", \\\"azureml-defaults\\\": \\\"1.34.0\\\", \\\"azureml-dataset-runtime\\\": \\\"1.34.0\\\", \\\"azureml-dataprep\\\": \\\"2.22.2\\\", \\\"azureml-dataprep-rslex\\\": \\\"1.20.1\\\", \\\"azureml-dataprep-native\\\": \\\"38.0.0\\\", \\\"azureml-datadrift\\\": \\\"1.34.0\\\", \\\"azureml-core\\\": \\\"1.34.0\\\", \\\"azureml-contrib-services\\\": \\\"1.34.0\\\", \\\"azureml-contrib-server\\\": \\\"1.34.0\\\", \\\"azureml-contrib-reinforcementlearning\\\": \\\"1.34.0\\\", \\\"azureml-contrib-pipeline-steps\\\": \\\"1.34.0\\\", \\\"azureml-contrib-notebook\\\": \\\"1.34.0\\\", \\\"azureml-contrib-fairness\\\": \\\"1.34.0\\\", \\\"azureml-contrib-dataset\\\": \\\"1.34.0\\\", \\\"azureml-contrib-automl-pipeline-steps\\\": \\\"1.34.0\\\", \\\"azureml-cli-common\\\": \\\"1.34.0\\\", \\\"azureml-automl-runtime\\\": \\\"1.34.0\\\", \\\"azureml-automl-dnn-nlp\\\": \\\"1.34.0\\\", \\\"azureml-automl-core\\\": \\\"1.34.0\\\", \\\"azureml-accel-models\\\": \\\"1.34.0\\\"}\", \"_aml_system_scenario_identification\": \"Remote.Parent\", \"ClientType\": \"SDK\", \"environment_cpu_name\": \"AzureML-AutoML\", \"environment_cpu_label\": \"py36\", \"environment_gpu_name\": \"AzureML-AutoML-GPU\", \"environment_gpu_label\": \"py36\", \"root_attribution\": \"automl\", \"attribution\": \"AutoML\", \"Orchestrator\": \"AutoML\", \"CancelUri\": \"https://eastus.api.azureml.ms/jasmine/v1.0/subscriptions/adf28760-4783-41dd-bbd5-bbe3210d5965/resourceGroups/ml-ops/providers/Microsoft.MachineLearningServices/workspaces/telemetry-ws/experimentids/602e2fab-d64d-4f47-b7a6-c4a47ce88f18/cancel/AutoML_7f652609-adc6-44df-bb87-31822faac8a1\", \"azureml.git.repository_uri\": \"https://github.com/puter/nd00333-capstone.git\", \"mlflow.source.git.repoURL\": \"https://github.com/puter/nd00333-capstone.git\", \"azureml.git.branch\": \"master\", \"mlflow.source.git.branch\": \"master\", \"azureml.git.commit\": \"ca437e6094357db2c136fe015a9e8971c75526a9\", \"mlflow.source.git.commit\": \"ca437e6094357db2c136fe015a9e8971c75526a9\", \"azureml.git.dirty\": \"True\", \"ClientSdkVersion\": \"1.38.0\", \"snapshotId\": \"00000000-0000-0000-0000-000000000000\", \"SetupRunId\": \"AutoML_7f652609-adc6-44df-bb87-31822faac8a1_setup\", \"SetupRunContainerId\": \"dcid.AutoML_7f652609-adc6-44df-bb87-31822faac8a1_setup\", \"FeaturizationRunJsonPath\": \"featurizer_container.json\", \"FeaturizationRunId\": \"AutoML_7f652609-adc6-44df-bb87-31822faac8a1_featurize\", \"ProblemInfoJsonString\": \"{\\\"dataset_num_categorical\\\": 0, \\\"is_sparse\\\": true, \\\"subsampling\\\": false, \\\"has_extra_col\\\": true, \\\"dataset_classes\\\": 2, \\\"dataset_features\\\": 19, \\\"dataset_samples\\\": 4909, \\\"single_frequency_class_detected\\\": false}\", \"ModelExplainRunId\": \"AutoML_7f652609-adc6-44df-bb87-31822faac8a1_ModelExplain\"}, \"tags\": {\"model_explain_run\": \"best_run\", \"_aml_system_automl_run_workspace_id\": \"f0b5fa42-6c26-4575-bef7-7cb2c9b0c3ac\", \"_aml_system_azureml.automlComponent\": \"AutoML\", \"pipeline_id\": \"\", \"score\": \"\", \"predicted_cost\": \"\", \"fit_time\": \"\", \"training_percent\": \"\", \"iteration\": \"\", \"run_preprocessor\": \"\", \"run_algorithm\": \"\", \"dynamic_allowlisting_iterations\": \"<25>;<29>;<35>;<40>;<45>;<50>;\", \"_aml_system_azureml.automl_early_exit_message\": \"Experiment timeout reached, hence experiment stopped. Current experiment timeout: 0 hour(s) 20 minute(s)\", \"automl_best_child_run_id\": \"AutoML_7f652609-adc6-44df-bb87-31822faac8a1_55\", \"model_explain_best_run_child_id\": \"AutoML_7f652609-adc6-44df-bb87-31822faac8a1_55\"}, \"end_time_utc\": \"2022-06-16T00:16:46.28487Z\", \"status\": \"Completed\", \"log_files\": {}, \"log_groups\": [], \"run_duration\": \"0:26:30\", \"run_number\": \"1655337015\", \"run_queued_details\": {\"status\": \"Completed\", \"details\": null}}, \"child_runs\": [{\"run_id\": \"AutoML_7f652609-adc6-44df-bb87-31822faac8a1_setup\", \"run_number\": 1655337028, \"metric\": null, \"status\": \"Completed\", \"run_type\": \"azureml.scriptrun\", \"training_percent\": null, \"start_time\": \"2022-06-15T23:54:17.009387Z\", \"end_time\": \"2022-06-15T23:54:21.208235Z\", \"created_time\": \"2022-06-15T23:50:28.727708Z\", \"created_time_dt\": \"2022-06-15T23:50:28.727708Z\", \"duration\": \"0:03:52\", \"iteration\": null, \"goal\": null, \"run_name\": \"Completed\", \"run_properties\": null}, {\"run_id\": \"AutoML_7f652609-adc6-44df-bb87-31822faac8a1_featurize\", \"run_number\": 1655337261, \"metric\": null, \"status\": \"Completed\", \"run_type\": \"automl.featurization\", \"training_percent\": null, \"start_time\": \"2022-06-15T23:54:22.103606Z\", \"end_time\": \"2022-06-15T23:55:08.758219Z\", \"created_time\": \"2022-06-15T23:54:21.642592Z\", \"created_time_dt\": \"2022-06-15T23:54:21.642592Z\", \"duration\": \"0:00:47\", \"iteration\": null, \"goal\": null, \"run_name\": \"Completed\", \"run_properties\": null}, {\"run_id\": \"AutoML_7f652609-adc6-44df-bb87-31822faac8a1_0\", \"run_number\": 1655337309, \"metric\": null, \"status\": \"Completed\", \"run_type\": null, \"training_percent\": \"100\", \"start_time\": \"2022-06-15T23:55:27.634971Z\", \"end_time\": \"2022-06-15T23:55:36.486358Z\", \"created_time\": \"2022-06-15T23:55:09.623437Z\", \"created_time_dt\": \"2022-06-15T23:55:09.623437Z\", \"duration\": \"0:00:26\", \"iteration\": \"0\", \"goal\": \"AUC_weighted_max\", \"run_name\": \"MaxAbsScaler, LightGBM\", \"run_properties\": \"copy=True\", \"primary_metric\": 0.80483527, \"best_metric\": 0.80483527}, {\"run_id\": \"AutoML_7f652609-adc6-44df-bb87-31822faac8a1_2\", \"run_number\": 1655337310, \"metric\": null, \"status\": \"Completed\", \"run_type\": null, \"training_percent\": \"100\", \"start_time\": \"2022-06-15T23:55:45.796033Z\", \"end_time\": \"2022-06-15T23:55:54.021179Z\", \"created_time\": \"2022-06-15T23:55:10.357484Z\", \"created_time_dt\": \"2022-06-15T23:55:10.357484Z\", \"duration\": \"0:00:43\", \"iteration\": \"2\", \"goal\": \"AUC_weighted_max\", \"run_name\": \"MaxAbsScaler, ExtremeRandomTrees\", \"run_properties\": \"copy=True\", \"primary_metric\": 0.83972948, \"best_metric\": 0.83972948}, {\"run_id\": \"AutoML_7f652609-adc6-44df-bb87-31822faac8a1_4\", \"run_number\": 1655337311, \"metric\": null, \"status\": \"Completed\", \"run_type\": null, \"training_percent\": \"100\", \"start_time\": \"2022-06-15T23:56:02.893087Z\", \"end_time\": \"2022-06-15T23:56:11.221346Z\", \"created_time\": \"2022-06-15T23:55:11.109256Z\", \"created_time_dt\": \"2022-06-15T23:55:11.109256Z\", \"duration\": \"0:01:00\", \"iteration\": \"4\", \"goal\": \"AUC_weighted_max\", \"run_name\": \"StandardScalerWrapper, LightGBM\", \"run_properties\": \"\\n    copy=True,\\n    with_mean=False,\\n    with_std=True\\n\", \"primary_metric\": 0.84110506, \"best_metric\": 0.84110506}, {\"run_id\": \"AutoML_7f652609-adc6-44df-bb87-31822faac8a1_7\", \"run_number\": 1655337312, \"metric\": null, \"status\": \"Completed\", \"run_type\": null, \"training_percent\": \"100\", \"start_time\": \"2022-06-15T23:56:52.816546Z\", \"end_time\": \"2022-06-15T23:57:02.145369Z\", \"created_time\": \"2022-06-15T23:55:12.225655Z\", \"created_time_dt\": \"2022-06-15T23:55:12.225655Z\", \"duration\": \"0:01:49\", \"iteration\": \"7\", \"goal\": \"AUC_weighted_max\", \"run_name\": \"StandardScalerWrapper, XGBoostClassifier\", \"run_properties\": \"\\n    copy=True,\\n    with_mean=False,\\n    with_std=False\\n\", \"primary_metric\": 0.80325766, \"best_metric\": 0.84110506}, {\"run_id\": \"AutoML_7f652609-adc6-44df-bb87-31822faac8a1_worker_1\", \"run_number\": 1655337313, \"metric\": null, \"status\": \"Completed\", \"run_type\": \"azureml.scriptrun\", \"training_percent\": null, \"start_time\": \"2022-06-15T23:57:18.320143Z\", \"end_time\": \"2022-06-15T23:57:26.153592Z\", \"created_time\": \"2022-06-15T23:55:13.228473Z\", \"created_time_dt\": \"2022-06-15T23:55:13.228473Z\", \"duration\": \"0:02:12\", \"iteration\": null, \"goal\": null, \"run_name\": \"Completed\", \"run_properties\": null}, {\"run_id\": \"AutoML_7f652609-adc6-44df-bb87-31822faac8a1_12\", \"run_number\": 1655337314, \"metric\": null, \"status\": \"Completed\", \"run_type\": null, \"training_percent\": \"100\", \"start_time\": \"2022-06-15T23:58:03.864942Z\", \"end_time\": \"2022-06-15T23:58:12.215456Z\", \"created_time\": \"2022-06-15T23:55:14.061487Z\", \"created_time_dt\": \"2022-06-15T23:55:14.061487Z\", \"duration\": \"0:02:58\", \"iteration\": \"12\", \"goal\": \"AUC_weighted_max\", \"run_name\": \"StandardScalerWrapper, XGBoostClassifier\", \"run_properties\": \"\\n    copy=True,\\n    with_mean=False,\\n    with_std=False\\n\", \"primary_metric\": 0.83152617, \"best_metric\": 0.84110506}, {\"run_id\": \"AutoML_7f652609-adc6-44df-bb87-31822faac8a1_worker_2\", \"run_number\": 1655337315, \"metric\": null, \"status\": \"Completed\", \"run_type\": \"azureml.scriptrun\", \"training_percent\": null, \"start_time\": \"2022-06-15T23:58:35.791517Z\", \"end_time\": \"2022-06-15T23:58:39.231869Z\", \"created_time\": \"2022-06-15T23:55:15.063824Z\", \"created_time_dt\": \"2022-06-15T23:55:15.063824Z\", \"duration\": \"0:03:24\", \"iteration\": null, \"goal\": null, \"run_name\": \"Completed\", \"run_properties\": null}, {\"run_id\": \"AutoML_7f652609-adc6-44df-bb87-31822faac8a1_18\", \"run_number\": 1655337316, \"metric\": null, \"status\": \"Completed\", \"run_type\": null, \"training_percent\": \"100\", \"start_time\": \"2022-06-15T23:59:24.616122Z\", \"end_time\": \"2022-06-15T23:59:33.256767Z\", \"created_time\": \"2022-06-15T23:55:16.290519Z\", \"created_time_dt\": \"2022-06-15T23:55:16.290519Z\", \"duration\": \"0:04:16\", \"iteration\": \"18\", \"goal\": \"AUC_weighted_max\", \"run_name\": \"StandardScalerWrapper, XGBoostClassifier\", \"run_properties\": \"\\n    copy=True,\\n    with_mean=False,\\n    with_std=False\\n\", \"primary_metric\": 0.8200117, \"best_metric\": 0.84110506}, {\"run_id\": \"AutoML_7f652609-adc6-44df-bb87-31822faac8a1_22\", \"run_number\": 1655337552, \"metric\": null, \"status\": \"Completed\", \"run_type\": \"azureml.scriptrun\", \"training_percent\": \"100\", \"start_time\": \"2022-06-16T00:00:17.604576Z\", \"end_time\": \"2022-06-16T00:00:23.225178Z\", \"created_time\": \"2022-06-15T23:59:12.86589Z\", \"created_time_dt\": \"2022-06-15T23:59:12.86589Z\", \"duration\": \"0:01:10\", \"iteration\": \"22\", \"goal\": \"AUC_weighted_max\", \"run_name\": \"StandardScalerWrapper, XGBoostClassifier\", \"run_properties\": \"\\n    copy=True,\\n    with_mean=False,\\n    with_std=False\\n\", \"primary_metric\": 0.83855748, \"best_metric\": 0.84110506}, {\"run_id\": \"AutoML_7f652609-adc6-44df-bb87-31822faac8a1_23\", \"run_number\": 1655337619, \"metric\": null, \"status\": \"Completed\", \"run_type\": \"azureml.scriptrun\", \"training_percent\": \"100\", \"start_time\": \"2022-06-16T00:00:57.747938Z\", \"end_time\": \"2022-06-16T00:01:01.544315Z\", \"created_time\": \"2022-06-16T00:00:19.872555Z\", \"created_time_dt\": \"2022-06-16T00:00:19.872555Z\", \"duration\": \"0:00:41\", \"iteration\": \"23\", \"goal\": \"AUC_weighted_max\", \"run_name\": \"MaxAbsScaler, RandomForest\", \"run_properties\": \"copy=True\", \"primary_metric\": 0.81720225, \"best_metric\": 0.84110506}, {\"run_id\": \"AutoML_7f652609-adc6-44df-bb87-31822faac8a1_24\", \"run_number\": 1655337625, \"metric\": null, \"status\": \"Completed\", \"run_type\": \"azureml.scriptrun\", \"training_percent\": \"100\", \"start_time\": \"2022-06-16T00:01:43.142569Z\", \"end_time\": \"2022-06-16T00:01:46.873684Z\", \"created_time\": \"2022-06-16T00:00:25.157313Z\", \"created_time_dt\": \"2022-06-16T00:00:25.157313Z\", \"duration\": \"0:01:21\", \"iteration\": \"24\", \"goal\": \"AUC_weighted_max\", \"run_name\": \"SparseNormalizer, XGBoostClassifier\", \"run_properties\": \"copy=True, norm='max'\", \"primary_metric\": 0.78530815, \"best_metric\": 0.84110506}, {\"run_id\": \"AutoML_7f652609-adc6-44df-bb87-31822faac8a1_25\", \"run_number\": 1655337654, \"metric\": null, \"status\": \"Completed\", \"run_type\": \"azureml.scriptrun\", \"training_percent\": \"100\", \"start_time\": \"2022-06-16T00:01:44.034954Z\", \"end_time\": \"2022-06-16T00:01:48.297808Z\", \"created_time\": \"2022-06-16T00:00:54.1679Z\", \"created_time_dt\": \"2022-06-16T00:00:54.1679Z\", \"duration\": \"0:00:54\", \"iteration\": \"25\", \"goal\": \"AUC_weighted_max\", \"run_name\": \"StandardScalerWrapper, LightGBM\", \"run_properties\": \"\\n    copy=True,\\n    with_mean=False,\\n    with_std=False\\n\", \"primary_metric\": 0.83289448, \"best_metric\": 0.84110506}, {\"run_id\": \"AutoML_7f652609-adc6-44df-bb87-31822faac8a1_26\", \"run_number\": 1655337655, \"metric\": null, \"status\": \"Completed\", \"run_type\": \"azureml.scriptrun\", \"training_percent\": \"100\", \"start_time\": \"2022-06-16T00:01:44.388498Z\", \"end_time\": \"2022-06-16T00:01:48.217332Z\", \"created_time\": \"2022-06-16T00:00:55.916204Z\", \"created_time_dt\": \"2022-06-16T00:00:55.916204Z\", \"duration\": \"0:00:52\", \"iteration\": \"26\", \"goal\": \"AUC_weighted_max\", \"run_name\": \"StandardScalerWrapper, XGBoostClassifier\", \"run_properties\": \"\\n    copy=True,\\n    with_mean=False,\\n    with_std=False\\n\", \"primary_metric\": 0.8276272, \"best_metric\": 0.84110506}, {\"run_id\": \"AutoML_7f652609-adc6-44df-bb87-31822faac8a1_27\", \"run_number\": 1655337663, \"metric\": null, \"status\": \"Completed\", \"run_type\": \"azureml.scriptrun\", \"training_percent\": \"100\", \"start_time\": \"2022-06-16T00:03:06.602971Z\", \"end_time\": \"2022-06-16T00:03:10.3164Z\", \"created_time\": \"2022-06-16T00:01:03.662824Z\", \"created_time_dt\": \"2022-06-16T00:01:03.662824Z\", \"duration\": \"0:02:06\", \"iteration\": \"27\", \"goal\": \"AUC_weighted_max\", \"run_name\": \"StandardScalerWrapper, RandomForest\", \"run_properties\": \"\\n    copy=True,\\n    with_mean=False,\\n    with_std=True\\n\", \"primary_metric\": 0.8382414, \"best_metric\": 0.84110506}, {\"run_id\": \"AutoML_7f652609-adc6-44df-bb87-31822faac8a1_28\", \"run_number\": 1655337708, \"metric\": null, \"status\": \"Completed\", \"run_type\": \"azureml.scriptrun\", \"training_percent\": \"100\", \"start_time\": \"2022-06-16T00:03:50.650016Z\", \"end_time\": \"2022-06-16T00:03:54.703313Z\", \"created_time\": \"2022-06-16T00:01:48.168093Z\", \"created_time_dt\": \"2022-06-16T00:01:48.168093Z\", \"duration\": \"0:02:06\", \"iteration\": \"28\", \"goal\": \"AUC_weighted_max\", \"run_name\": \"StandardScalerWrapper, GradientBoosting\", \"run_properties\": \"\\n    copy=True,\\n    with_mean=False,\\n    with_std=False\\n\", \"primary_metric\": 0.81929122, \"best_metric\": 0.84110506}, {\"run_id\": \"AutoML_7f652609-adc6-44df-bb87-31822faac8a1_29\", \"run_number\": 1655337711, \"metric\": null, \"status\": \"Completed\", \"run_type\": \"azureml.scriptrun\", \"training_percent\": \"100\", \"start_time\": \"2022-06-16T00:03:49.229737Z\", \"end_time\": \"2022-06-16T00:03:53.033546Z\", \"created_time\": \"2022-06-16T00:01:51.227104Z\", \"created_time_dt\": \"2022-06-16T00:01:51.227104Z\", \"duration\": \"0:02:01\", \"iteration\": \"29\", \"goal\": \"AUC_weighted_max\", \"run_name\": \"MaxAbsScaler, LightGBM\", \"run_properties\": \"copy=True\", \"primary_metric\": 0.83932995, \"best_metric\": 0.84110506}, {\"run_id\": \"AutoML_7f652609-adc6-44df-bb87-31822faac8a1_31\", \"run_number\": 1655337792, \"metric\": null, \"status\": \"Completed\", \"run_type\": \"azureml.scriptrun\", \"training_percent\": \"100\", \"start_time\": \"2022-06-16T00:04:56.854912Z\", \"end_time\": \"2022-06-16T00:05:01.655766Z\", \"created_time\": \"2022-06-16T00:03:12.773689Z\", \"created_time_dt\": \"2022-06-16T00:03:12.773689Z\", \"duration\": \"0:01:48\", \"iteration\": \"31\", \"goal\": \"AUC_weighted_max\", \"run_name\": \"StandardScalerWrapper, LogisticRegression\", \"run_properties\": \"\\n    copy=True,\\n    with_mean=False,\\n    with_std=False\\n\", \"primary_metric\": 0.84422383, \"best_metric\": 0.84422383}, {\"run_id\": \"AutoML_7f652609-adc6-44df-bb87-31822faac8a1_32\", \"run_number\": 1655337834, \"metric\": null, \"status\": \"Completed\", \"run_type\": \"azureml.scriptrun\", \"training_percent\": \"100\", \"start_time\": \"2022-06-16T00:05:52.694135Z\", \"end_time\": \"2022-06-16T00:05:56.430527Z\", \"created_time\": \"2022-06-16T00:03:54.447139Z\", \"created_time_dt\": \"2022-06-16T00:03:54.447139Z\", \"duration\": \"0:02:01\", \"iteration\": \"32\", \"goal\": \"AUC_weighted_max\", \"run_name\": \"StandardScalerWrapper, XGBoostClassifier\", \"run_properties\": \"\\n    copy=True,\\n    with_mean=False,\\n    with_std=False\\n\", \"primary_metric\": 0.80764958, \"best_metric\": 0.84422383}, {\"run_id\": \"AutoML_7f652609-adc6-44df-bb87-31822faac8a1_34\", \"run_number\": 1655337836, \"metric\": null, \"status\": \"Completed\", \"run_type\": \"azureml.scriptrun\", \"training_percent\": \"100\", \"start_time\": \"2022-06-16T00:05:50.135211Z\", \"end_time\": \"2022-06-16T00:05:53.829546Z\", \"created_time\": \"2022-06-16T00:03:56.255855Z\", \"created_time_dt\": \"2022-06-16T00:03:56.255855Z\", \"duration\": \"0:01:57\", \"iteration\": \"34\", \"goal\": \"AUC_weighted_max\", \"run_name\": \"TruncatedSVDWrapper, XGBoostClassifier\", \"run_properties\": \"n_components=0.5542105263157895, random_state=None\", \"primary_metric\": 0.79286851, \"best_metric\": 0.84422383}, {\"run_id\": \"AutoML_7f652609-adc6-44df-bb87-31822faac8a1_35\", \"run_number\": 1655337903, \"metric\": null, \"status\": \"Completed\", \"run_type\": \"azureml.scriptrun\", \"training_percent\": \"100\", \"start_time\": \"2022-06-16T00:07:04.184003Z\", \"end_time\": \"2022-06-16T00:07:07.916188Z\", \"created_time\": \"2022-06-16T00:05:03.932724Z\", \"created_time_dt\": \"2022-06-16T00:05:03.932724Z\", \"duration\": \"0:02:03\", \"iteration\": \"35\", \"goal\": \"AUC_weighted_max\", \"run_name\": \"TruncatedSVDWrapper, LogisticRegression\", \"run_properties\": \"n_components=0.01, random_state=None\", \"primary_metric\": 0.3420544, \"best_metric\": 0.84422383}, {\"run_id\": \"AutoML_7f652609-adc6-44df-bb87-31822faac8a1_36\", \"run_number\": 1655337955, \"metric\": null, \"status\": \"Completed\", \"run_type\": \"azureml.scriptrun\", \"training_percent\": \"100\", \"start_time\": \"2022-06-16T00:07:51.134687Z\", \"end_time\": \"2022-06-16T00:07:54.861985Z\", \"created_time\": \"2022-06-16T00:05:55.24467Z\", \"created_time_dt\": \"2022-06-16T00:05:55.24467Z\", \"duration\": \"0:01:59\", \"iteration\": \"36\", \"goal\": \"AUC_weighted_max\", \"run_name\": \"SparseNormalizer, LightGBM\", \"run_properties\": \"copy=True, norm='max'\", \"primary_metric\": 0.81993551, \"best_metric\": 0.84422383}, {\"run_id\": \"AutoML_7f652609-adc6-44df-bb87-31822faac8a1_37\", \"run_number\": 1655337956, \"metric\": null, \"status\": \"Completed\", \"run_type\": \"azureml.scriptrun\", \"training_percent\": \"100\", \"start_time\": \"2022-06-16T00:08:00.00229Z\", \"end_time\": \"2022-06-16T00:08:04.483633Z\", \"created_time\": \"2022-06-16T00:05:56.975909Z\", \"created_time_dt\": \"2022-06-16T00:05:56.975909Z\", \"duration\": \"0:02:07\", \"iteration\": \"37\", \"goal\": \"AUC_weighted_max\", \"run_name\": \"StandardScalerWrapper, XGBoostClassifier\", \"run_properties\": \"\\n    copy=True,\\n    with_mean=False,\\n    with_std=False\\n\", \"primary_metric\": 0.79218352, \"best_metric\": 0.84422383}, {\"run_id\": \"AutoML_7f652609-adc6-44df-bb87-31822faac8a1_38\", \"run_number\": 1655337958, \"metric\": null, \"status\": \"Completed\", \"run_type\": \"azureml.scriptrun\", \"training_percent\": \"100\", \"start_time\": \"2022-06-16T00:07:54.887013Z\", \"end_time\": \"2022-06-16T00:07:59.025949Z\", \"created_time\": \"2022-06-16T00:05:58.763701Z\", \"created_time_dt\": \"2022-06-16T00:05:58.763701Z\", \"duration\": \"0:02:00\", \"iteration\": \"38\", \"goal\": \"AUC_weighted_max\", \"run_name\": \"StandardScalerWrapper, XGBoostClassifier\", \"run_properties\": \"\\n    copy=True,\\n    with_mean=False,\\n    with_std=False\\n\", \"primary_metric\": 0.84296596, \"best_metric\": 0.84422383}, {\"run_id\": \"AutoML_7f652609-adc6-44df-bb87-31822faac8a1_39\", \"run_number\": 1655338029, \"metric\": null, \"status\": \"Completed\", \"run_type\": \"azureml.scriptrun\", \"training_percent\": \"100\", \"start_time\": \"2022-06-16T00:09:07.097659Z\", \"end_time\": \"2022-06-16T00:09:11.827776Z\", \"created_time\": \"2022-06-16T00:07:09.265195Z\", \"created_time_dt\": \"2022-06-16T00:07:09.265195Z\", \"duration\": \"0:02:02\", \"iteration\": \"39\", \"goal\": \"AUC_weighted_max\", \"run_name\": \"SparseNormalizer, LightGBM\", \"run_properties\": \"copy=True, norm='l1'\", \"primary_metric\": 0.82164052, \"best_metric\": 0.84422383}, {\"run_id\": \"AutoML_7f652609-adc6-44df-bb87-31822faac8a1_40\", \"run_number\": 1655338077, \"metric\": null, \"status\": \"Completed\", \"run_type\": \"azureml.scriptrun\", \"training_percent\": \"100\", \"start_time\": \"2022-06-16T00:09:49.635492Z\", \"end_time\": \"2022-06-16T00:09:53.364384Z\", \"created_time\": \"2022-06-16T00:07:57.119498Z\", \"created_time_dt\": \"2022-06-16T00:07:57.119498Z\", \"duration\": \"0:01:56\", \"iteration\": \"40\", \"goal\": \"AUC_weighted_max\", \"run_name\": \"SparseNormalizer, LogisticRegression\", \"run_properties\": \"copy=True, norm='l1'\", \"primary_metric\": 0.67313509, \"best_metric\": 0.84422383}, {\"run_id\": \"AutoML_7f652609-adc6-44df-bb87-31822faac8a1_41\", \"run_number\": 1655338080, \"metric\": null, \"status\": \"Completed\", \"run_type\": \"azureml.scriptrun\", \"training_percent\": \"100\", \"start_time\": \"2022-06-16T00:09:48.938887Z\", \"end_time\": \"2022-06-16T00:09:52.703188Z\", \"created_time\": \"2022-06-16T00:08:00.386851Z\", \"created_time_dt\": \"2022-06-16T00:08:00.386851Z\", \"duration\": \"0:01:52\", \"iteration\": \"41\", \"goal\": \"AUC_weighted_max\", \"run_name\": \"SparseNormalizer, LightGBM\", \"run_properties\": \"copy=True, norm='l2'\", \"primary_metric\": 0.82607976, \"best_metric\": 0.84422383}, {\"run_id\": \"AutoML_7f652609-adc6-44df-bb87-31822faac8a1_42\", \"run_number\": 1655338085, \"metric\": null, \"status\": \"Completed\", \"run_type\": \"azureml.scriptrun\", \"training_percent\": \"100\", \"start_time\": \"2022-06-16T00:09:49.289046Z\", \"end_time\": \"2022-06-16T00:09:52.972039Z\", \"created_time\": \"2022-06-16T00:08:05.926474Z\", \"created_time_dt\": \"2022-06-16T00:08:05.926474Z\", \"duration\": \"0:01:47\", \"iteration\": \"42\", \"goal\": \"AUC_weighted_max\", \"run_name\": \"StandardScalerWrapper, LightGBM\", \"run_properties\": \"\\n    copy=True,\\n    with_mean=False,\\n    with_std=True\\n\", \"primary_metric\": 0.83618661, \"best_metric\": 0.84422383}, {\"run_id\": \"AutoML_7f652609-adc6-44df-bb87-31822faac8a1_43\", \"run_number\": 1655338153, \"metric\": null, \"status\": \"Completed\", \"run_type\": \"azureml.scriptrun\", \"training_percent\": \"100\", \"start_time\": \"2022-06-16T00:11:07.748777Z\", \"end_time\": \"2022-06-16T00:11:11.064003Z\", \"created_time\": \"2022-06-16T00:09:13.304483Z\", \"created_time_dt\": \"2022-06-16T00:09:13.304483Z\", \"duration\": \"0:01:57\", \"iteration\": \"43\", \"goal\": \"AUC_weighted_max\", \"run_name\": \"StandardScalerWrapper, LightGBM\", \"run_properties\": \"\\n    copy=True,\\n    with_mean=False,\\n    with_std=True\\n\", \"primary_metric\": 0.83460996, \"best_metric\": 0.84422383}, {\"run_id\": \"AutoML_7f652609-adc6-44df-bb87-31822faac8a1_44\", \"run_number\": 1655338194, \"metric\": null, \"status\": \"Completed\", \"run_type\": \"azureml.scriptrun\", \"training_percent\": \"100\", \"start_time\": \"2022-06-16T00:11:48.564791Z\", \"end_time\": \"2022-06-16T00:11:52.706169Z\", \"created_time\": \"2022-06-16T00:09:54.017498Z\", \"created_time_dt\": \"2022-06-16T00:09:54.017498Z\", \"duration\": \"0:01:58\", \"iteration\": \"44\", \"goal\": \"AUC_weighted_max\", \"run_name\": \"MaxAbsScaler, LightGBM\", \"run_properties\": \"copy=True\", \"primary_metric\": 0.84589639, \"best_metric\": 0.84589639}, {\"run_id\": \"AutoML_7f652609-adc6-44df-bb87-31822faac8a1_45\", \"run_number\": 1655338196, \"metric\": null, \"status\": \"Completed\", \"run_type\": \"azureml.scriptrun\", \"training_percent\": \"100\", \"start_time\": \"2022-06-16T00:11:51.687142Z\", \"end_time\": \"2022-06-16T00:11:55.841893Z\", \"created_time\": \"2022-06-16T00:09:56.611815Z\", \"created_time_dt\": \"2022-06-16T00:09:56.611815Z\", \"duration\": \"0:01:59\", \"iteration\": \"45\", \"goal\": \"AUC_weighted_max\", \"run_name\": \"StandardScalerWrapper, LogisticRegression\", \"run_properties\": \"\\n    copy=True,\\n    with_mean=False,\\n    with_std=True\\n\", \"primary_metric\": 0.7415286, \"best_metric\": 0.84589639}, {\"run_id\": \"AutoML_7f652609-adc6-44df-bb87-31822faac8a1_46\", \"run_number\": 1655338198, \"metric\": null, \"status\": \"Completed\", \"run_type\": \"azureml.scriptrun\", \"training_percent\": \"100\", \"start_time\": \"2022-06-16T00:11:52.614372Z\", \"end_time\": \"2022-06-16T00:11:56.32843Z\", \"created_time\": \"2022-06-16T00:09:58.373615Z\", \"created_time_dt\": \"2022-06-16T00:09:58.373615Z\", \"duration\": \"0:01:57\", \"iteration\": \"46\", \"goal\": \"AUC_weighted_max\", \"run_name\": \"MaxAbsScaler, SGD\", \"run_properties\": \"copy=True\", \"primary_metric\": 0.82466476, \"best_metric\": 0.84589639}, {\"run_id\": \"AutoML_7f652609-adc6-44df-bb87-31822faac8a1_47\", \"run_number\": 1655338272, \"metric\": null, \"status\": \"Completed\", \"run_type\": \"azureml.scriptrun\", \"training_percent\": \"100\", \"start_time\": \"2022-06-16T00:13:07.360755Z\", \"end_time\": \"2022-06-16T00:13:11.345163Z\", \"created_time\": \"2022-06-16T00:11:12.628251Z\", \"created_time_dt\": \"2022-06-16T00:11:12.628251Z\", \"duration\": \"0:01:58\", \"iteration\": \"47\", \"goal\": \"AUC_weighted_max\", \"run_name\": \"StandardScalerWrapper, XGBoostClassifier\", \"run_properties\": \"\\n    copy=True,\\n    with_mean=False,\\n    with_std=False\\n\", \"primary_metric\": 0.80063878, \"best_metric\": 0.84589639}, {\"run_id\": \"AutoML_7f652609-adc6-44df-bb87-31822faac8a1_48\", \"run_number\": 1655338313, \"metric\": null, \"status\": \"Completed\", \"run_type\": \"azureml.scriptrun\", \"training_percent\": \"100\", \"start_time\": \"2022-06-16T00:13:53.590344Z\", \"end_time\": \"2022-06-16T00:13:57.61689Z\", \"created_time\": \"2022-06-16T00:11:53.979268Z\", \"created_time_dt\": \"2022-06-16T00:11:53.979268Z\", \"duration\": \"0:02:03\", \"iteration\": \"48\", \"goal\": \"AUC_weighted_max\", \"run_name\": \"StandardScalerWrapper, GradientBoosting\", \"run_properties\": \"\\n    copy=True,\\n    with_mean=False,\\n    with_std=False\\n\", \"primary_metric\": 0.80571717, \"best_metric\": 0.84589639}, {\"run_id\": \"AutoML_7f652609-adc6-44df-bb87-31822faac8a1_49\", \"run_number\": 1655338317, \"metric\": null, \"status\": \"Completed\", \"run_type\": \"azureml.scriptrun\", \"training_percent\": \"100\", \"start_time\": \"2022-06-16T00:13:55.995505Z\", \"end_time\": \"2022-06-16T00:13:59.740221Z\", \"created_time\": \"2022-06-16T00:11:57.211827Z\", \"created_time_dt\": \"2022-06-16T00:11:57.211827Z\", \"duration\": \"0:02:02\", \"iteration\": \"49\", \"goal\": \"AUC_weighted_max\", \"run_name\": \"StandardScalerWrapper, ExtremeRandomTrees\", \"run_properties\": \"\\n    copy=True,\\n    with_mean=False,\\n    with_std=False\\n\", \"primary_metric\": 0.81897329, \"best_metric\": 0.84589639}, {\"run_id\": \"AutoML_7f652609-adc6-44df-bb87-31822faac8a1_50\", \"run_number\": 1655338320, \"metric\": null, \"status\": \"Completed\", \"run_type\": \"azureml.scriptrun\", \"training_percent\": \"100\", \"start_time\": \"2022-06-16T00:13:53.261478Z\", \"end_time\": \"2022-06-16T00:13:56.948503Z\", \"created_time\": \"2022-06-16T00:12:00.176958Z\", \"created_time_dt\": \"2022-06-16T00:12:00.176958Z\", \"duration\": \"0:01:56\", \"iteration\": \"50\", \"goal\": \"AUC_weighted_max\", \"run_name\": \"SparseNormalizer, LightGBM\", \"run_properties\": \"copy=True, norm='l1'\", \"primary_metric\": 0.80983292, \"best_metric\": 0.84589639}, {\"run_id\": \"AutoML_7f652609-adc6-44df-bb87-31822faac8a1_51\", \"run_number\": 1655338392, \"metric\": null, \"status\": \"Completed\", \"run_type\": \"azureml.scriptrun\", \"training_percent\": \"100\", \"start_time\": \"2022-06-16T00:15:10.681077Z\", \"end_time\": \"2022-06-16T00:15:14.410988Z\", \"created_time\": \"2022-06-16T00:13:12.721419Z\", \"created_time_dt\": \"2022-06-16T00:13:12.721419Z\", \"duration\": \"0:02:01\", \"iteration\": \"51\", \"goal\": \"AUC_weighted_max\", \"run_name\": \"StandardScalerWrapper, ExtremeRandomTrees\", \"run_properties\": \"\\n    copy=True,\\n    with_mean=False,\\n    with_std=False\\n\", \"primary_metric\": 0.83521336, \"best_metric\": 0.84589639}, {\"run_id\": \"AutoML_7f652609-adc6-44df-bb87-31822faac8a1_52\", \"run_number\": 1655338438, \"metric\": null, \"status\": \"Canceled\", \"run_type\": \"azureml.scriptrun\", \"training_percent\": \"100\", \"start_time\": \"2022-06-16T00:15:15.721195Z\", \"end_time\": \"2022-06-16T00:15:17.00741Z\", \"created_time\": \"2022-06-16T00:13:58.227746Z\", \"created_time_dt\": \"2022-06-16T00:13:58.227746Z\", \"duration\": \"0:01:18\", \"iteration\": \"52\", \"goal\": null, \"run_name\": \"Canceled\", \"run_properties\": null}, {\"run_id\": \"AutoML_7f652609-adc6-44df-bb87-31822faac8a1_53\", \"run_number\": 1655338439, \"metric\": null, \"status\": \"Canceled\", \"run_type\": \"azureml.scriptrun\", \"training_percent\": \"100\", \"start_time\": \"2022-06-16T00:15:15.475021Z\", \"end_time\": \"2022-06-16T00:15:19.058179Z\", \"created_time\": \"2022-06-16T00:13:59.912451Z\", \"created_time_dt\": \"2022-06-16T00:13:59.912451Z\", \"duration\": \"0:01:19\", \"iteration\": \"53\", \"goal\": null, \"run_name\": \"Canceled\", \"run_properties\": null}, {\"run_id\": \"AutoML_7f652609-adc6-44df-bb87-31822faac8a1_54\", \"run_number\": 1655338441, \"metric\": null, \"status\": \"Canceled\", \"run_type\": \"azureml.scriptrun\", \"training_percent\": \"100\", \"start_time\": \"2022-06-16T00:15:15.674492Z\", \"end_time\": \"2022-06-16T00:15:15.855878Z\", \"created_time\": \"2022-06-16T00:14:01.693979Z\", \"created_time_dt\": \"2022-06-16T00:14:01.693979Z\", \"duration\": \"0:01:14\", \"iteration\": \"54\", \"goal\": null, \"run_name\": \"Canceled\", \"run_properties\": null}, {\"run_id\": \"AutoML_7f652609-adc6-44df-bb87-31822faac8a1_55\", \"run_number\": 1655338519, \"metric\": null, \"status\": \"Completed\", \"run_type\": \"azureml.scriptrun\", \"training_percent\": \"100\", \"start_time\": \"2022-06-16T00:16:38.137866Z\", \"end_time\": \"2022-06-16T00:16:42.304785Z\", \"created_time\": \"2022-06-16T00:15:19.589388Z\", \"created_time_dt\": \"2022-06-16T00:15:19.589388Z\", \"duration\": \"0:01:22\", \"iteration\": \"55\", \"goal\": \"AUC_weighted_max\", \"run_name\": \"VotingEnsemble\", \"run_properties\": \"\\n    estimators=[('44', Pipeline(\\n        memory=None,\\n        steps=[('maxabsscaler', MaxAbsScaler(\\n            copy=True\\n        \", \"primary_metric\": 0.84936074, \"best_metric\": 0.84936074}], \"children_metrics\": {\"categories\": [0], \"series\": {\"norm_macro_recall\": [{\"categories\": [\"0\", \"2\", \"4\", \"7\", \"12\", \"18\", \"22\", \"23\", \"24\", \"25\", \"26\", \"27\", \"28\", \"29\", \"31\", \"32\", \"34\", \"35\", \"36\", \"37\", \"38\", \"39\", \"40\", \"41\", \"42\", \"43\", \"44\", \"45\", \"46\", \"47\", \"48\", \"49\", \"50\", \"51\", \"55\"], \"mode\": \"markers\", \"name\": \"norm_macro_recall\", \"stepped\": false, \"type\": \"scatter\", \"data\": [0.04004138525651091, 0.0, 0.0, 0.0, 0.00877192982456143, 0.004385964912280678, 0.008558254610886218, 0.4616259895075547, 0.0, 0.0, 0.008888001040051533, 0.0, 0.0, 0.004385964912280678, 0.5277721730479428, 0.028708837728193066, 0.004385964912280678, 0.0, 0.0, 0.06917822632752986, 0.0, 0.0, 0.0, 0.0, 0.0, 0.004385964912280678, 0.0, 0.0, 0.4699435839693959, 0.021032984581928076, 0.0, 0.4675766210860435, 0.0, 0.0, 0.0]}, {\"categories\": [\"0\", \"2\", \"4\", \"7\", \"12\", \"18\", \"22\", \"23\", \"24\", \"25\", \"26\", \"27\", \"28\", \"29\", \"31\", \"32\", \"34\", \"35\", \"36\", \"37\", \"38\", \"39\", \"40\", \"41\", \"42\", \"43\", \"44\", \"45\", \"46\", \"47\", \"48\", \"49\", \"50\", \"51\", \"55\"], \"mode\": \"lines\", \"name\": \"norm_macro_recall_max\", \"stepped\": true, \"type\": \"scatter\", \"data\": [0.04004138525651091, 0.04004138525651091, 0.04004138525651091, 0.04004138525651091, 0.04004138525651091, 0.04004138525651091, 0.04004138525651091, 0.4616259895075547, 0.4616259895075547, 0.4616259895075547, 0.4616259895075547, 0.4616259895075547, 0.4616259895075547, 0.4616259895075547, 0.5277721730479428, 0.5277721730479428, 0.5277721730479428, 0.5277721730479428, 0.5277721730479428, 0.5277721730479428, 0.5277721730479428, 0.5277721730479428, 0.5277721730479428, 0.5277721730479428, 0.5277721730479428, 0.5277721730479428, 0.5277721730479428, 0.5277721730479428, 0.5277721730479428, 0.5277721730479428, 0.5277721730479428, 0.5277721730479428, 0.5277721730479428, 0.5277721730479428, 0.5277721730479428]}], \"f1_score_macro\": [{\"categories\": [\"0\", \"2\", \"4\", \"7\", \"12\", \"18\", \"22\", \"23\", \"24\", \"25\", \"26\", \"27\", \"28\", \"29\", \"31\", \"32\", \"34\", \"35\", \"36\", \"37\", \"38\", \"39\", \"40\", \"41\", \"42\", \"43\", \"44\", \"45\", \"46\", \"47\", \"48\", \"49\", \"50\", \"51\", \"55\"], \"mode\": \"markers\", \"name\": \"f1_score_macro\", \"stepped\": false, \"type\": \"scatter\", \"data\": [0.5269674255039404, 0.4891236455109908, 0.4891236455109908, 0.4891236455109908, 0.4977194289515068, 0.4935035742153391, 0.49745152111896873, 0.4844387715036563, 0.4891236455109908, 0.4891236455109908, 0.49786256969262516, 0.4891236455109908, 0.4891236455109908, 0.4934505353645915, 0.5246561357258003, 0.5181979318901885, 0.4935035742153391, 0.4891236455109908, 0.4891236455109908, 0.5481147605140786, 0.4891236455109908, 0.4891236455109908, 0.4891236455109908, 0.4891236455109908, 0.4891236455109908, 0.4933974634266008, 0.4891236455109908, 0.4891236455109908, 0.46698742515400804, 0.51062235354226, 0.4891236455109908, 0.47702736319958466, 0.4891236455109908, 0.4891236455109908, 0.4891236455109908]}, {\"categories\": [\"0\", \"2\", \"4\", \"7\", \"12\", \"18\", \"22\", \"23\", \"24\", \"25\", \"26\", \"27\", \"28\", \"29\", \"31\", \"32\", \"34\", \"35\", \"36\", \"37\", \"38\", \"39\", \"40\", \"41\", \"42\", \"43\", \"44\", \"45\", \"46\", \"47\", \"48\", \"49\", \"50\", \"51\", \"55\"], \"mode\": \"lines\", \"name\": \"f1_score_macro_max\", \"stepped\": true, \"type\": \"scatter\", \"data\": [0.5269674255039404, 0.5269674255039404, 0.5269674255039404, 0.5269674255039404, 0.5269674255039404, 0.5269674255039404, 0.5269674255039404, 0.5269674255039404, 0.5269674255039404, 0.5269674255039404, 0.5269674255039404, 0.5269674255039404, 0.5269674255039404, 0.5269674255039404, 0.5269674255039404, 0.5269674255039404, 0.5269674255039404, 0.5269674255039404, 0.5269674255039404, 0.5481147605140786, 0.5481147605140786, 0.5481147605140786, 0.5481147605140786, 0.5481147605140786, 0.5481147605140786, 0.5481147605140786, 0.5481147605140786, 0.5481147605140786, 0.5481147605140786, 0.5481147605140786, 0.5481147605140786, 0.5481147605140786, 0.5481147605140786, 0.5481147605140786, 0.5481147605140786]}], \"balanced_accuracy\": [{\"categories\": [\"0\", \"2\", \"4\", \"7\", \"12\", \"18\", \"22\", \"23\", \"24\", \"25\", \"26\", \"27\", \"28\", \"29\", \"31\", \"32\", \"34\", \"35\", \"36\", \"37\", \"38\", \"39\", \"40\", \"41\", \"42\", \"43\", \"44\", \"45\", \"46\", \"47\", \"48\", \"49\", \"50\", \"51\", \"55\"], \"mode\": \"markers\", \"name\": \"balanced_accuracy\", \"stepped\": false, \"type\": \"scatter\", \"data\": [0.5200206926282555, 0.5, 0.5, 0.5, 0.5042797401406639, 0.5021929824561403, 0.5039604529905929, 0.7308129947537774, 0.5, 0.5, 0.504231821440883, 0.5, 0.5, 0.5020868929165689, 0.7638860865239714, 0.5143544188640965, 0.5021929824561403, 0.5, 0.5, 0.534589113163765, 0.5, 0.5, 0.5, 0.5, 0.5, 0.5019808033769976, 0.5, 0.5, 0.734971791984698, 0.5105164922909641, 0.5, 0.7337883105430217, 0.5, 0.5, 0.5]}, {\"categories\": [\"0\", \"2\", \"4\", \"7\", \"12\", \"18\", \"22\", \"23\", \"24\", \"25\", \"26\", \"27\", \"28\", \"29\", \"31\", \"32\", \"34\", \"35\", \"36\", \"37\", \"38\", \"39\", \"40\", \"41\", \"42\", \"43\", \"44\", \"45\", \"46\", \"47\", \"48\", \"49\", \"50\", \"51\", \"55\"], \"mode\": \"lines\", \"name\": \"balanced_accuracy_max\", \"stepped\": true, \"type\": \"scatter\", \"data\": [0.5200206926282555, 0.5200206926282555, 0.5200206926282555, 0.5200206926282555, 0.5200206926282555, 0.5200206926282555, 0.5200206926282555, 0.7308129947537774, 0.7308129947537774, 0.7308129947537774, 0.7308129947537774, 0.7308129947537774, 0.7308129947537774, 0.7308129947537774, 0.7638860865239714, 0.7638860865239714, 0.7638860865239714, 0.7638860865239714, 0.7638860865239714, 0.7638860865239714, 0.7638860865239714, 0.7638860865239714, 0.7638860865239714, 0.7638860865239714, 0.7638860865239714, 0.7638860865239714, 0.7638860865239714, 0.7638860865239714, 0.7638860865239714, 0.7638860865239714, 0.7638860865239714, 0.7638860865239714, 0.7638860865239714, 0.7638860865239714, 0.7638860865239714]}], \"weighted_accuracy\": [{\"categories\": [\"0\", \"2\", \"4\", \"7\", \"12\", \"18\", \"22\", \"23\", \"24\", \"25\", \"26\", \"27\", \"28\", \"29\", \"31\", \"32\", \"34\", \"35\", \"36\", \"37\", \"38\", \"39\", \"40\", \"41\", \"42\", \"43\", \"44\", \"45\", \"46\", \"47\", \"48\", \"49\", \"50\", \"51\", \"55\"], \"mode\": \"markers\", \"name\": \"weighted_accuracy\", \"stepped\": false, \"type\": \"scatter\", \"data\": [0.9904719407763061, 0.9980167186824357, 0.9980167186824357, 0.9980167186824357, 0.9978254261730628, 0.9980271038519763, 0.9971881312066363, 0.6696534918479867, 0.9980167186824357, 0.9980167186824357, 0.9965509051059884, 0.9980167186824357, 0.9980167186824357, 0.9978152986011746, 0.7371509173714973, 0.9898146780706604, 0.9980271038519763, 0.9980167186824357, 0.9980167186824357, 0.9871397403465099, 0.9980167186824357, 0.9980167186824357, 0.9980167186824357, 0.9980167186824357, 0.9980167186824357, 0.9976034933503727, 0.9980167186824357, 0.9980167186824357, 0.6298661891570644, 0.9946655042240833, 0.9980167186824357, 0.6520659652631745, 0.9980167186824357, 0.9980167186824357, 0.9980167186824357]}, {\"categories\": [\"0\", \"2\", \"4\", \"7\", \"12\", \"18\", \"22\", \"23\", \"24\", \"25\", \"26\", \"27\", \"28\", \"29\", \"31\", \"32\", \"34\", \"35\", \"36\", \"37\", \"38\", \"39\", \"40\", \"41\", \"42\", \"43\", \"44\", \"45\", \"46\", \"47\", \"48\", \"49\", \"50\", \"51\", \"55\"], \"mode\": \"lines\", \"name\": \"weighted_accuracy_max\", \"stepped\": true, \"type\": \"scatter\", \"data\": [0.9904719407763061, 0.9980167186824357, 0.9980167186824357, 0.9980167186824357, 0.9980167186824357, 0.9980271038519763, 0.9980271038519763, 0.9980271038519763, 0.9980271038519763, 0.9980271038519763, 0.9980271038519763, 0.9980271038519763, 0.9980271038519763, 0.9980271038519763, 0.9980271038519763, 0.9980271038519763, 0.9980271038519763, 0.9980271038519763, 0.9980271038519763, 0.9980271038519763, 0.9980271038519763, 0.9980271038519763, 0.9980271038519763, 0.9980271038519763, 0.9980271038519763, 0.9980271038519763, 0.9980271038519763, 0.9980271038519763, 0.9980271038519763, 0.9980271038519763, 0.9980271038519763, 0.9980271038519763, 0.9980271038519763, 0.9980271038519763, 0.9980271038519763]}], \"log_loss\": [{\"categories\": [\"0\", \"2\", \"4\", \"7\", \"12\", \"18\", \"22\", \"23\", \"24\", \"25\", \"26\", \"27\", \"28\", \"29\", \"31\", \"32\", \"34\", \"35\", \"36\", \"37\", \"38\", \"39\", \"40\", \"41\", \"42\", \"43\", \"44\", \"45\", \"46\", \"47\", \"48\", \"49\", \"50\", \"51\", \"55\"], \"mode\": \"markers\", \"name\": \"log_loss\", \"stepped\": false, \"type\": \"scatter\", \"data\": [0.19165189333340296, 0.14930752192802896, 0.14524435581945128, 0.28180070850895006, 0.16497900168585797, 0.2812318155366525, 0.14613171225970414, 0.5132390060778066, 0.2832559727867822, 0.14598459266779037, 0.14974781701615067, 0.14561546305792358, 0.14707766187145965, 0.1438390252020563, 0.4908032843764065, 0.16578768702726365, 0.2834563564715028, 0.22961606189598083, 0.1484192656571904, 0.21587627575994908, 0.1444957152748949, 0.14926858524551131, 0.1761714986937788, 0.14721439814928794, 0.14422764553091985, 0.14548304365245182, 0.1425464243348947, 0.1616646553072941, 3.509223415605161, 0.16358406901996977, 0.15085211158374745, 0.542583875026506, 0.16344676216412515, 0.1473410899297403, 0.1469019679879331]}, {\"categories\": [\"0\", \"2\", \"4\", \"7\", \"12\", \"18\", \"22\", \"23\", \"24\", \"25\", \"26\", \"27\", \"28\", \"29\", \"31\", \"32\", \"34\", \"35\", \"36\", \"37\", \"38\", \"39\", \"40\", \"41\", \"42\", \"43\", \"44\", \"45\", \"46\", \"47\", \"48\", \"49\", \"50\", \"51\", \"55\"], \"mode\": \"lines\", \"name\": \"log_loss_min\", \"stepped\": true, \"type\": \"scatter\", \"data\": [0.19165189333340296, 0.14930752192802896, 0.14524435581945128, 0.14524435581945128, 0.14524435581945128, 0.14524435581945128, 0.14524435581945128, 0.14524435581945128, 0.14524435581945128, 0.14524435581945128, 0.14524435581945128, 0.14524435581945128, 0.14524435581945128, 0.1438390252020563, 0.1438390252020563, 0.1438390252020563, 0.1438390252020563, 0.1438390252020563, 0.1438390252020563, 0.1438390252020563, 0.1438390252020563, 0.1438390252020563, 0.1438390252020563, 0.1438390252020563, 0.1438390252020563, 0.1438390252020563, 0.1425464243348947, 0.1425464243348947, 0.1425464243348947, 0.1425464243348947, 0.1425464243348947, 0.1425464243348947, 0.1425464243348947, 0.1425464243348947, 0.1425464243348947]}], \"f1_score_micro\": [{\"categories\": [\"0\", \"2\", \"4\", \"7\", \"12\", \"18\", \"22\", \"23\", \"24\", \"25\", \"26\", \"27\", \"28\", \"29\", \"31\", \"32\", \"34\", \"35\", \"36\", \"37\", \"38\", \"39\", \"40\", \"41\", \"42\", \"43\", \"44\", \"45\", \"46\", \"47\", \"48\", \"49\", \"50\", \"51\", \"55\"], \"mode\": \"markers\", \"name\": \"f1_score_micro\", \"stepped\": false, \"type\": \"scatter\", \"data\": [0.9521281998049388, 0.9574246775986645, 0.9574246775986645, 0.9574246775986645, 0.9576284265799196, 0.9576284265799195, 0.9570171796361544, 0.6744840558020789, 0.9574246775986645, 0.9574246775986645, 0.9564061816221158, 0.9574246775986645, 0.9574246775986645, 0.9574248020635278, 0.7392545749549811, 0.9511090815040734, 0.9576284265799195, 0.9574246775986645, 0.9574246775986645, 0.9502943345087794, 0.9574246775986645, 0.9574246775986645, 0.9574246775986645, 0.9574246775986645, 0.9574246775986645, 0.9572211775471361, 0.9574246775986645, 0.9574246775986645, 0.6382049129766569, 0.9551836877345852, 0.9574246775986645, 0.6585906395452751, 0.9574246775986645, 0.9574246775986645, 0.9574246775986645]}, {\"categories\": [\"0\", \"2\", \"4\", \"7\", \"12\", \"18\", \"22\", \"23\", \"24\", \"25\", \"26\", \"27\", \"28\", \"29\", \"31\", \"32\", \"34\", \"35\", \"36\", \"37\", \"38\", \"39\", \"40\", \"41\", \"42\", \"43\", \"44\", \"45\", \"46\", \"47\", \"48\", \"49\", \"50\", \"51\", \"55\"], \"mode\": \"lines\", \"name\": \"f1_score_micro_max\", \"stepped\": true, \"type\": \"scatter\", \"data\": [0.9521281998049388, 0.9574246775986645, 0.9574246775986645, 0.9574246775986645, 0.9576284265799196, 0.9576284265799196, 0.9576284265799196, 0.9576284265799196, 0.9576284265799196, 0.9576284265799196, 0.9576284265799196, 0.9576284265799196, 0.9576284265799196, 0.9576284265799196, 0.9576284265799196, 0.9576284265799196, 0.9576284265799196, 0.9576284265799196, 0.9576284265799196, 0.9576284265799196, 0.9576284265799196, 0.9576284265799196, 0.9576284265799196, 0.9576284265799196, 0.9576284265799196, 0.9576284265799196, 0.9576284265799196, 0.9576284265799196, 0.9576284265799196, 0.9576284265799196, 0.9576284265799196, 0.9576284265799196, 0.9576284265799196, 0.9576284265799196, 0.9576284265799196]}], \"AUC_macro\": [{\"categories\": [\"0\", \"2\", \"4\", \"7\", \"12\", \"18\", \"22\", \"23\", \"24\", \"25\", \"26\", \"27\", \"28\", \"29\", \"31\", \"32\", \"34\", \"35\", \"36\", \"37\", \"38\", \"39\", \"40\", \"41\", \"42\", \"43\", \"44\", \"45\", \"46\", \"47\", \"48\", \"49\", \"50\", \"51\", \"55\"], \"mode\": \"markers\", \"name\": \"AUC_macro\", \"stepped\": false, \"type\": \"scatter\", \"data\": [0.8048352654439767, 0.8397294806093042, 0.8411050570984789, 0.8032576597838332, 0.8315261672231001, 0.8200116959425877, 0.8385574799230802, 0.8172022509677438, 0.7853081520519926, 0.8328944778060543, 0.8276272015219082, 0.8382414029579627, 0.8192912199929823, 0.8393299486058963, 0.844223832251405, 0.8076502212167788, 0.7928685120031598, 0.3420543969655627, 0.8199355079208216, 0.7921835083150027, 0.842965963188394, 0.8216405180839, 0.6731350939133472, 0.8260797606900788, 0.8361866087298425, 0.8346099572289113, 0.8458963853466749, 0.7415285950169764, 0.8246647616622326, 0.8006387765272325, 0.8057171737336265, 0.8189732871611666, 0.8098329212675752, 0.8352133606280567, 0.8493607443178907]}, {\"categories\": [\"0\", \"2\", \"4\", \"7\", \"12\", \"18\", \"22\", \"23\", \"24\", \"25\", \"26\", \"27\", \"28\", \"29\", \"31\", \"32\", \"34\", \"35\", \"36\", \"37\", \"38\", \"39\", \"40\", \"41\", \"42\", \"43\", \"44\", \"45\", \"46\", \"47\", \"48\", \"49\", \"50\", \"51\", \"55\"], \"mode\": \"lines\", \"name\": \"AUC_macro_max\", \"stepped\": true, \"type\": \"scatter\", \"data\": [0.8048352654439767, 0.8397294806093042, 0.8411050570984789, 0.8411050570984789, 0.8411050570984789, 0.8411050570984789, 0.8411050570984789, 0.8411050570984789, 0.8411050570984789, 0.8411050570984789, 0.8411050570984789, 0.8411050570984789, 0.8411050570984789, 0.8411050570984789, 0.844223832251405, 0.844223832251405, 0.844223832251405, 0.844223832251405, 0.844223832251405, 0.844223832251405, 0.844223832251405, 0.844223832251405, 0.844223832251405, 0.844223832251405, 0.844223832251405, 0.844223832251405, 0.8458963853466749, 0.8458963853466749, 0.8458963853466749, 0.8458963853466749, 0.8458963853466749, 0.8458963853466749, 0.8458963853466749, 0.8458963853466749, 0.8493607443178907]}], \"precision_score_weighted\": [{\"categories\": [\"0\", \"2\", \"4\", \"7\", \"12\", \"18\", \"22\", \"23\", \"24\", \"25\", \"26\", \"27\", \"28\", \"29\", \"31\", \"32\", \"34\", \"35\", \"36\", \"37\", \"38\", \"39\", \"40\", \"41\", \"42\", \"43\", \"44\", \"45\", \"46\", \"47\", \"48\", \"49\", \"50\", \"51\", \"55\"], \"mode\": \"markers\", \"name\": \"precision_score_weighted\", \"stepped\": false, \"type\": \"scatter\", \"data\": [0.9282932028780398, 0.916669605715812, 0.916669605715812, 0.916669605715812, 0.9325174913042251, 0.932339900056743, 0.927330991380605, 0.9485112027568264, 0.916669605715812, 0.916669605715812, 0.920890397242799, 0.916669605715812, 0.916669605715812, 0.9323320165724313, 0.9504988951164139, 0.9262921293861145, 0.932339900056743, 0.916669605715812, 0.916669605715812, 0.9306686353750934, 0.916669605715812, 0.916669605715812, 0.916669605715812, 0.916669605715812, 0.916669605715812, 0.9323241234447138, 0.916669605715812, 0.916669605715812, 0.951288989121298, 0.9275697804610372, 0.916669605715812, 0.9495062561307802, 0.916669605715812, 0.916669605715812, 0.916669605715812]}, {\"categories\": [\"0\", \"2\", \"4\", \"7\", \"12\", \"18\", \"22\", \"23\", \"24\", \"25\", \"26\", \"27\", \"28\", \"29\", \"31\", \"32\", \"34\", \"35\", \"36\", \"37\", \"38\", \"39\", \"40\", \"41\", \"42\", \"43\", \"44\", \"45\", \"46\", \"47\", \"48\", \"49\", \"50\", \"51\", \"55\"], \"mode\": \"lines\", \"name\": \"precision_score_weighted_max\", \"stepped\": true, \"type\": \"scatter\", \"data\": [0.9282932028780398, 0.9282932028780398, 0.9282932028780398, 0.9282932028780398, 0.9325174913042251, 0.9325174913042251, 0.9325174913042251, 0.9485112027568264, 0.9485112027568264, 0.9485112027568264, 0.9485112027568264, 0.9485112027568264, 0.9485112027568264, 0.9485112027568264, 0.9504988951164139, 0.9504988951164139, 0.9504988951164139, 0.9504988951164139, 0.9504988951164139, 0.9504988951164139, 0.9504988951164139, 0.9504988951164139, 0.9504988951164139, 0.9504988951164139, 0.9504988951164139, 0.9504988951164139, 0.9504988951164139, 0.9504988951164139, 0.951288989121298, 0.951288989121298, 0.951288989121298, 0.951288989121298, 0.951288989121298, 0.951288989121298, 0.951288989121298]}], \"matthews_correlation\": [{\"categories\": [\"0\", \"2\", \"4\", \"7\", \"12\", \"18\", \"22\", \"23\", \"24\", \"25\", \"26\", \"27\", \"28\", \"29\", \"31\", \"32\", \"34\", \"35\", \"36\", \"37\", \"38\", \"39\", \"40\", \"41\", \"42\", \"43\", \"44\", \"45\", \"46\", \"47\", \"48\", \"49\", \"50\", \"51\", \"55\"], \"mode\": \"markers\", \"name\": \"matthews_correlation\", \"stepped\": false, \"type\": \"scatter\", \"data\": [0.08680409098396275, 0.0, 0.0, 0.0, 0.05113166914456721, 0.03734868967473357, 0.039149412014675124, 0.19548707186240907, 0.0, 0.0, 0.02459673955852878, 0.0, 0.0, 0.03565952896584491, 0.23588286034205752, 0.06567797383137915, 0.03734868967473357, 0.0, 0.0, 0.12296540627536574, 0.0, 0.0, 0.0, 0.0, 0.0, 0.034959125272593004, 0.0, 0.0, 0.1980400125516342, 0.06434357634115036, 0.0, 0.19552268970583275, 0.0, 0.0, 0.0]}, {\"categories\": [\"0\", \"2\", \"4\", \"7\", \"12\", \"18\", \"22\", \"23\", \"24\", \"25\", \"26\", \"27\", \"28\", \"29\", \"31\", \"32\", \"34\", \"35\", \"36\", \"37\", \"38\", \"39\", \"40\", \"41\", \"42\", \"43\", \"44\", \"45\", \"46\", \"47\", \"48\", \"49\", \"50\", \"51\", \"55\"], \"mode\": \"lines\", \"name\": \"matthews_correlation_max\", \"stepped\": true, \"type\": \"scatter\", \"data\": [0.08680409098396275, 0.08680409098396275, 0.08680409098396275, 0.08680409098396275, 0.08680409098396275, 0.08680409098396275, 0.08680409098396275, 0.19548707186240907, 0.19548707186240907, 0.19548707186240907, 0.19548707186240907, 0.19548707186240907, 0.19548707186240907, 0.19548707186240907, 0.23588286034205752, 0.23588286034205752, 0.23588286034205752, 0.23588286034205752, 0.23588286034205752, 0.23588286034205752, 0.23588286034205752, 0.23588286034205752, 0.23588286034205752, 0.23588286034205752, 0.23588286034205752, 0.23588286034205752, 0.23588286034205752, 0.23588286034205752, 0.23588286034205752, 0.23588286034205752, 0.23588286034205752, 0.23588286034205752, 0.23588286034205752, 0.23588286034205752, 0.23588286034205752]}], \"average_precision_score_micro\": [{\"categories\": [\"0\", \"2\", \"4\", \"7\", \"12\", \"18\", \"22\", \"23\", \"24\", \"25\", \"26\", \"27\", \"28\", \"29\", \"31\", \"32\", \"34\", \"35\", \"36\", \"37\", \"38\", \"39\", \"40\", \"41\", \"42\", \"43\", \"44\", \"45\", \"46\", \"47\", \"48\", \"49\", \"50\", \"51\", \"55\"], \"mode\": \"markers\", \"name\": \"average_precision_score_micro\", \"stepped\": false, \"type\": \"scatter\", \"data\": [0.9817121206722429, 0.9848503711711737, 0.9852157465945881, 0.9817999272730615, 0.9843897037311818, 0.9805278215782782, 0.9851314384292355, 0.8323169123335766, 0.9770753101643628, 0.9844526657773573, 0.9841831411691994, 0.9850008305297541, 0.9833372656879278, 0.98503919134351, 0.8493104484553363, 0.9822567182654295, 0.9790951493895864, 0.9155318724713624, 0.9832633799772005, 0.9806309277374995, 0.9846480174729383, 0.9833930188397243, 0.9702793576353202, 0.9837883179085826, 0.9844946829097019, 0.9845656667682565, 0.985746648918337, 0.9733749617404927, 0.6823010026716055, 0.9816488258190864, 0.9820940239154151, 0.7998537447982157, 0.9819397965139864, 0.9845775058813323, 0.9859598378552142]}, {\"categories\": [\"0\", \"2\", \"4\", \"7\", \"12\", \"18\", \"22\", \"23\", \"24\", \"25\", \"26\", \"27\", \"28\", \"29\", \"31\", \"32\", \"34\", \"35\", \"36\", \"37\", \"38\", \"39\", \"40\", \"41\", \"42\", \"43\", \"44\", \"45\", \"46\", \"47\", \"48\", \"49\", \"50\", \"51\", \"55\"], \"mode\": \"lines\", \"name\": \"average_precision_score_micro_max\", \"stepped\": true, \"type\": \"scatter\", \"data\": [0.9817121206722429, 0.9848503711711737, 0.9852157465945881, 0.9852157465945881, 0.9852157465945881, 0.9852157465945881, 0.9852157465945881, 0.9852157465945881, 0.9852157465945881, 0.9852157465945881, 0.9852157465945881, 0.9852157465945881, 0.9852157465945881, 0.9852157465945881, 0.9852157465945881, 0.9852157465945881, 0.9852157465945881, 0.9852157465945881, 0.9852157465945881, 0.9852157465945881, 0.9852157465945881, 0.9852157465945881, 0.9852157465945881, 0.9852157465945881, 0.9852157465945881, 0.9852157465945881, 0.985746648918337, 0.985746648918337, 0.985746648918337, 0.985746648918337, 0.985746648918337, 0.985746648918337, 0.985746648918337, 0.985746648918337, 0.9859598378552142]}], \"AUC_weighted\": [{\"categories\": [\"0\", \"2\", \"4\", \"7\", \"12\", \"18\", \"22\", \"23\", \"24\", \"25\", \"26\", \"27\", \"28\", \"29\", \"31\", \"32\", \"34\", \"35\", \"36\", \"37\", \"38\", \"39\", \"40\", \"41\", \"42\", \"43\", \"44\", \"45\", \"46\", \"47\", \"48\", \"49\", \"50\", \"51\", \"55\"], \"mode\": \"markers\", \"name\": \"AUC_weighted\", \"stepped\": false, \"type\": \"scatter\", \"data\": [0.8048352654439767, 0.8397294806093044, 0.8411050570984786, 0.8032576597838333, 0.8315261672231001, 0.8200116959425877, 0.8385574799230803, 0.8172022509677439, 0.7853081520519926, 0.8328944778060543, 0.8276272015219082, 0.8382414029579626, 0.8192912199929824, 0.8393299486058963, 0.844223832251405, 0.8076495836419472, 0.7928685120031597, 0.3420543969655627, 0.8199355079208216, 0.792183519423733, 0.842965963188394, 0.8216405180839, 0.6731350939133472, 0.8260797606900786, 0.8361866087298425, 0.8346099572289113, 0.8458963853466749, 0.7415285950169764, 0.8246647616622326, 0.8006387765272325, 0.8057171737336265, 0.8189732871611666, 0.8098329212675752, 0.8352133606280567, 0.8493607443178907]}, {\"categories\": [\"0\", \"2\", \"4\", \"7\", \"12\", \"18\", \"22\", \"23\", \"24\", \"25\", \"26\", \"27\", \"28\", \"29\", \"31\", \"32\", \"34\", \"35\", \"36\", \"37\", \"38\", \"39\", \"40\", \"41\", \"42\", \"43\", \"44\", \"45\", \"46\", \"47\", \"48\", \"49\", \"50\", \"51\", \"55\"], \"mode\": \"lines\", \"name\": \"AUC_weighted_max\", \"stepped\": true, \"type\": \"scatter\", \"data\": [0.8048352654439767, 0.8397294806093044, 0.8411050570984786, 0.8411050570984786, 0.8411050570984786, 0.8411050570984786, 0.8411050570984786, 0.8411050570984786, 0.8411050570984786, 0.8411050570984786, 0.8411050570984786, 0.8411050570984786, 0.8411050570984786, 0.8411050570984786, 0.844223832251405, 0.844223832251405, 0.844223832251405, 0.844223832251405, 0.844223832251405, 0.844223832251405, 0.844223832251405, 0.844223832251405, 0.844223832251405, 0.844223832251405, 0.844223832251405, 0.844223832251405, 0.8458963853466749, 0.8458963853466749, 0.8458963853466749, 0.8458963853466749, 0.8458963853466749, 0.8458963853466749, 0.8458963853466749, 0.8458963853466749, 0.8493607443178907]}], \"accuracy\": [{\"categories\": [\"0\", \"2\", \"4\", \"7\", \"12\", \"18\", \"22\", \"23\", \"24\", \"25\", \"26\", \"27\", \"28\", \"29\", \"31\", \"32\", \"34\", \"35\", \"36\", \"37\", \"38\", \"39\", \"40\", \"41\", \"42\", \"43\", \"44\", \"45\", \"46\", \"47\", \"48\", \"49\", \"50\", \"51\", \"55\"], \"mode\": \"markers\", \"name\": \"accuracy\", \"stepped\": false, \"type\": \"scatter\", \"data\": [0.9521281998049388, 0.9574246775986645, 0.9574246775986645, 0.9574246775986645, 0.9576284265799195, 0.9576284265799195, 0.9570171796361544, 0.6744840558020789, 0.9574246775986645, 0.9574246775986645, 0.9564061816221158, 0.9574246775986645, 0.9574246775986645, 0.9574248020635278, 0.7392545749549809, 0.9511090815040734, 0.9576284265799195, 0.9574246775986645, 0.9574246775986645, 0.9502943345087794, 0.9574246775986645, 0.9574246775986645, 0.9574246775986645, 0.9574246775986645, 0.9574246775986645, 0.9572211775471361, 0.9574246775986645, 0.9574246775986645, 0.6382049129766569, 0.9551836877345852, 0.9574246775986645, 0.6585906395452751, 0.9574246775986645, 0.9574246775986645, 0.9574246775986645]}, {\"categories\": [\"0\", \"2\", \"4\", \"7\", \"12\", \"18\", \"22\", \"23\", \"24\", \"25\", \"26\", \"27\", \"28\", \"29\", \"31\", \"32\", \"34\", \"35\", \"36\", \"37\", \"38\", \"39\", \"40\", \"41\", \"42\", \"43\", \"44\", \"45\", \"46\", \"47\", \"48\", \"49\", \"50\", \"51\", \"55\"], \"mode\": \"lines\", \"name\": \"accuracy_max\", \"stepped\": true, \"type\": \"scatter\", \"data\": [0.9521281998049388, 0.9574246775986645, 0.9574246775986645, 0.9574246775986645, 0.9576284265799195, 0.9576284265799195, 0.9576284265799195, 0.9576284265799195, 0.9576284265799195, 0.9576284265799195, 0.9576284265799195, 0.9576284265799195, 0.9576284265799195, 0.9576284265799195, 0.9576284265799195, 0.9576284265799195, 0.9576284265799195, 0.9576284265799195, 0.9576284265799195, 0.9576284265799195, 0.9576284265799195, 0.9576284265799195, 0.9576284265799195, 0.9576284265799195, 0.9576284265799195, 0.9576284265799195, 0.9576284265799195, 0.9576284265799195, 0.9576284265799195, 0.9576284265799195, 0.9576284265799195, 0.9576284265799195, 0.9576284265799195, 0.9576284265799195, 0.9576284265799195]}], \"recall_score_weighted\": [{\"categories\": [\"0\", \"2\", \"4\", \"7\", \"12\", \"18\", \"22\", \"23\", \"24\", \"25\", \"26\", \"27\", \"28\", \"29\", \"31\", \"32\", \"34\", \"35\", \"36\", \"37\", \"38\", \"39\", \"40\", \"41\", \"42\", \"43\", \"44\", \"45\", \"46\", \"47\", \"48\", \"49\", \"50\", \"51\", \"55\"], \"mode\": \"markers\", \"name\": \"recall_score_weighted\", \"stepped\": false, \"type\": \"scatter\", \"data\": [0.9521281998049388, 0.9574246775986645, 0.9574246775986645, 0.9574246775986645, 0.9576284265799195, 0.9576284265799195, 0.9570171796361544, 0.6744840558020789, 0.9574246775986645, 0.9574246775986645, 0.9564061816221158, 0.9574246775986645, 0.9574246775986645, 0.9574248020635278, 0.7392545749549809, 0.9511090815040734, 0.9576284265799195, 0.9574246775986645, 0.9574246775986645, 0.9502943345087794, 0.9574246775986645, 0.9574246775986645, 0.9574246775986645, 0.9574246775986645, 0.9574246775986645, 0.9572211775471361, 0.9574246775986645, 0.9574246775986645, 0.6382049129766569, 0.9551836877345852, 0.9574246775986645, 0.6585906395452751, 0.9574246775986645, 0.9574246775986645, 0.9574246775986645]}, {\"categories\": [\"0\", \"2\", \"4\", \"7\", \"12\", \"18\", \"22\", \"23\", \"24\", \"25\", \"26\", \"27\", \"28\", \"29\", \"31\", \"32\", \"34\", \"35\", \"36\", \"37\", \"38\", \"39\", \"40\", \"41\", \"42\", \"43\", \"44\", \"45\", \"46\", \"47\", \"48\", \"49\", \"50\", \"51\", \"55\"], \"mode\": \"lines\", \"name\": \"recall_score_weighted_max\", \"stepped\": true, \"type\": \"scatter\", \"data\": [0.9521281998049388, 0.9574246775986645, 0.9574246775986645, 0.9574246775986645, 0.9576284265799195, 0.9576284265799195, 0.9576284265799195, 0.9576284265799195, 0.9576284265799195, 0.9576284265799195, 0.9576284265799195, 0.9576284265799195, 0.9576284265799195, 0.9576284265799195, 0.9576284265799195, 0.9576284265799195, 0.9576284265799195, 0.9576284265799195, 0.9576284265799195, 0.9576284265799195, 0.9576284265799195, 0.9576284265799195, 0.9576284265799195, 0.9576284265799195, 0.9576284265799195, 0.9576284265799195, 0.9576284265799195, 0.9576284265799195, 0.9576284265799195, 0.9576284265799195, 0.9576284265799195, 0.9576284265799195, 0.9576284265799195, 0.9576284265799195, 0.9576284265799195]}], \"recall_score_macro\": [{\"categories\": [\"0\", \"2\", \"4\", \"7\", \"12\", \"18\", \"22\", \"23\", \"24\", \"25\", \"26\", \"27\", \"28\", \"29\", \"31\", \"32\", \"34\", \"35\", \"36\", \"37\", \"38\", \"39\", \"40\", \"41\", \"42\", \"43\", \"44\", \"45\", \"46\", \"47\", \"48\", \"49\", \"50\", \"51\", \"55\"], \"mode\": \"markers\", \"name\": \"recall_score_macro\", \"stepped\": false, \"type\": \"scatter\", \"data\": [0.5200206926282555, 0.5, 0.5, 0.5, 0.5042797401406639, 0.5021929824561403, 0.5039604529905929, 0.7308129947537774, 0.5, 0.5, 0.504231821440883, 0.5, 0.5, 0.5020868929165689, 0.7638860865239714, 0.5143544188640965, 0.5021929824561403, 0.5, 0.5, 0.534589113163765, 0.5, 0.5, 0.5, 0.5, 0.5, 0.5019808033769976, 0.5, 0.5, 0.734971791984698, 0.5105164922909641, 0.5, 0.7337883105430217, 0.5, 0.5, 0.5]}, {\"categories\": [\"0\", \"2\", \"4\", \"7\", \"12\", \"18\", \"22\", \"23\", \"24\", \"25\", \"26\", \"27\", \"28\", \"29\", \"31\", \"32\", \"34\", \"35\", \"36\", \"37\", \"38\", \"39\", \"40\", \"41\", \"42\", \"43\", \"44\", \"45\", \"46\", \"47\", \"48\", \"49\", \"50\", \"51\", \"55\"], \"mode\": \"lines\", \"name\": \"recall_score_macro_max\", \"stepped\": true, \"type\": \"scatter\", \"data\": [0.5200206926282555, 0.5200206926282555, 0.5200206926282555, 0.5200206926282555, 0.5200206926282555, 0.5200206926282555, 0.5200206926282555, 0.7308129947537774, 0.7308129947537774, 0.7308129947537774, 0.7308129947537774, 0.7308129947537774, 0.7308129947537774, 0.7308129947537774, 0.7638860865239714, 0.7638860865239714, 0.7638860865239714, 0.7638860865239714, 0.7638860865239714, 0.7638860865239714, 0.7638860865239714, 0.7638860865239714, 0.7638860865239714, 0.7638860865239714, 0.7638860865239714, 0.7638860865239714, 0.7638860865239714, 0.7638860865239714, 0.7638860865239714, 0.7638860865239714, 0.7638860865239714, 0.7638860865239714, 0.7638860865239714, 0.7638860865239714, 0.7638860865239714]}], \"average_precision_score_macro\": [{\"categories\": [\"0\", \"2\", \"4\", \"7\", \"12\", \"18\", \"22\", \"23\", \"24\", \"25\", \"26\", \"27\", \"28\", \"29\", \"31\", \"32\", \"34\", \"35\", \"36\", \"37\", \"38\", \"39\", \"40\", \"41\", \"42\", \"43\", \"44\", \"45\", \"46\", \"47\", \"48\", \"49\", \"50\", \"51\", \"55\"], \"mode\": \"markers\", \"name\": \"average_precision_score_macro\", \"stepped\": false, \"type\": \"scatter\", \"data\": [0.5622640890241352, 0.5856610687280775, 0.5862048235567245, 0.5640928135870499, 0.5785175326108477, 0.576500923767944, 0.5797907571560682, 0.5728934831616534, 0.5597912183114331, 0.577954048181687, 0.5692532766295397, 0.5899036724415686, 0.5620553494289804, 0.5817076598306828, 0.5936256423217402, 0.5672257475840149, 0.5622513084161097, 0.47996181921251524, 0.5724462669066779, 0.5607947382562884, 0.5806913493826932, 0.569962159366832, 0.5349250892880544, 0.5733311798700577, 0.5809954429096851, 0.5787517075222849, 0.5826223574534238, 0.5558445686934282, 0.5658221306952745, 0.5674070509114112, 0.5592996625556096, 0.569584381019555, 0.5685033738618446, 0.581529727715254, 0.5872757038063158]}, {\"categories\": [\"0\", \"2\", \"4\", \"7\", \"12\", \"18\", \"22\", \"23\", \"24\", \"25\", \"26\", \"27\", \"28\", \"29\", \"31\", \"32\", \"34\", \"35\", \"36\", \"37\", \"38\", \"39\", \"40\", \"41\", \"42\", \"43\", \"44\", \"45\", \"46\", \"47\", \"48\", \"49\", \"50\", \"51\", \"55\"], \"mode\": \"lines\", \"name\": \"average_precision_score_macro_max\", \"stepped\": true, \"type\": \"scatter\", \"data\": [0.5622640890241352, 0.5856610687280775, 0.5862048235567245, 0.5862048235567245, 0.5862048235567245, 0.5862048235567245, 0.5862048235567245, 0.5862048235567245, 0.5862048235567245, 0.5862048235567245, 0.5862048235567245, 0.5899036724415686, 0.5899036724415686, 0.5899036724415686, 0.5936256423217402, 0.5936256423217402, 0.5936256423217402, 0.5936256423217402, 0.5936256423217402, 0.5936256423217402, 0.5936256423217402, 0.5936256423217402, 0.5936256423217402, 0.5936256423217402, 0.5936256423217402, 0.5936256423217402, 0.5936256423217402, 0.5936256423217402, 0.5936256423217402, 0.5936256423217402, 0.5936256423217402, 0.5936256423217402, 0.5936256423217402, 0.5936256423217402, 0.5936256423217402]}], \"f1_score_weighted\": [{\"categories\": [\"0\", \"2\", \"4\", \"7\", \"12\", \"18\", \"22\", \"23\", \"24\", \"25\", \"26\", \"27\", \"28\", \"29\", \"31\", \"32\", \"34\", \"35\", \"36\", \"37\", \"38\", \"39\", \"40\", \"41\", \"42\", \"43\", \"44\", \"45\", \"46\", \"47\", \"48\", \"49\", \"50\", \"51\", \"55\"], \"mode\": \"markers\", \"name\": \"f1_score_weighted\", \"stepped\": false, \"type\": \"scatter\", \"data\": [0.9372587548741151, 0.9366020641753475, 0.9366020641753475, 0.9366020641753475, 0.93748859661024, 0.9371013873471581, 0.9371727786578464, 0.7703931312801636, 0.9366020641753475, 0.9366020641753475, 0.9368217831490958, 0.9366020641753475, 0.9366020641753475, 0.936999586449755, 0.8168346913343746, 0.9360976093556479, 0.9371013873471581, 0.9366020641753475, 0.9366020641753475, 0.9381938685785373, 0.9366020641753475, 0.9366020641753475, 0.9366020641753475, 0.9366020641753475, 0.9366020641753475, 0.9368977220458657, 0.9366020641753475, 0.9366020641753475, 0.7398264001508861, 0.9373009903612881, 0.9366020641753475, 0.7588217295765293, 0.9366020641753475, 0.9366020641753475, 0.9366020641753475]}, {\"categories\": [\"0\", \"2\", \"4\", \"7\", \"12\", \"18\", \"22\", \"23\", \"24\", \"25\", \"26\", \"27\", \"28\", \"29\", \"31\", \"32\", \"34\", \"35\", \"36\", \"37\", \"38\", \"39\", \"40\", \"41\", \"42\", \"43\", \"44\", \"45\", \"46\", \"47\", \"48\", \"49\", \"50\", \"51\", \"55\"], \"mode\": \"lines\", \"name\": \"f1_score_weighted_max\", \"stepped\": true, \"type\": \"scatter\", \"data\": [0.9372587548741151, 0.9372587548741151, 0.9372587548741151, 0.9372587548741151, 0.93748859661024, 0.93748859661024, 0.93748859661024, 0.93748859661024, 0.93748859661024, 0.93748859661024, 0.93748859661024, 0.93748859661024, 0.93748859661024, 0.93748859661024, 0.93748859661024, 0.93748859661024, 0.93748859661024, 0.93748859661024, 0.93748859661024, 0.9381938685785373, 0.9381938685785373, 0.9381938685785373, 0.9381938685785373, 0.9381938685785373, 0.9381938685785373, 0.9381938685785373, 0.9381938685785373, 0.9381938685785373, 0.9381938685785373, 0.9381938685785373, 0.9381938685785373, 0.9381938685785373, 0.9381938685785373, 0.9381938685785373, 0.9381938685785373]}], \"recall_score_micro\": [{\"categories\": [\"0\", \"2\", \"4\", \"7\", \"12\", \"18\", \"22\", \"23\", \"24\", \"25\", \"26\", \"27\", \"28\", \"29\", \"31\", \"32\", \"34\", \"35\", \"36\", \"37\", \"38\", \"39\", \"40\", \"41\", \"42\", \"43\", \"44\", \"45\", \"46\", \"47\", \"48\", \"49\", \"50\", \"51\", \"55\"], \"mode\": \"markers\", \"name\": \"recall_score_micro\", \"stepped\": false, \"type\": \"scatter\", \"data\": [0.9521281998049388, 0.9574246775986645, 0.9574246775986645, 0.9574246775986645, 0.9576284265799195, 0.9576284265799195, 0.9570171796361544, 0.6744840558020789, 0.9574246775986645, 0.9574246775986645, 0.9564061816221158, 0.9574246775986645, 0.9574246775986645, 0.9574248020635278, 0.7392545749549809, 0.9511090815040734, 0.9576284265799195, 0.9574246775986645, 0.9574246775986645, 0.9502943345087794, 0.9574246775986645, 0.9574246775986645, 0.9574246775986645, 0.9574246775986645, 0.9574246775986645, 0.9572211775471361, 0.9574246775986645, 0.9574246775986645, 0.6382049129766569, 0.9551836877345852, 0.9574246775986645, 0.6585906395452751, 0.9574246775986645, 0.9574246775986645, 0.9574246775986645]}, {\"categories\": [\"0\", \"2\", \"4\", \"7\", \"12\", \"18\", \"22\", \"23\", \"24\", \"25\", \"26\", \"27\", \"28\", \"29\", \"31\", \"32\", \"34\", \"35\", \"36\", \"37\", \"38\", \"39\", \"40\", \"41\", \"42\", \"43\", \"44\", \"45\", \"46\", \"47\", \"48\", \"49\", \"50\", \"51\", \"55\"], \"mode\": \"lines\", \"name\": \"recall_score_micro_max\", \"stepped\": true, \"type\": \"scatter\", \"data\": [0.9521281998049388, 0.9574246775986645, 0.9574246775986645, 0.9574246775986645, 0.9576284265799195, 0.9576284265799195, 0.9576284265799195, 0.9576284265799195, 0.9576284265799195, 0.9576284265799195, 0.9576284265799195, 0.9576284265799195, 0.9576284265799195, 0.9576284265799195, 0.9576284265799195, 0.9576284265799195, 0.9576284265799195, 0.9576284265799195, 0.9576284265799195, 0.9576284265799195, 0.9576284265799195, 0.9576284265799195, 0.9576284265799195, 0.9576284265799195, 0.9576284265799195, 0.9576284265799195, 0.9576284265799195, 0.9576284265799195, 0.9576284265799195, 0.9576284265799195, 0.9576284265799195, 0.9576284265799195, 0.9576284265799195, 0.9576284265799195, 0.9576284265799195]}], \"average_precision_score_weighted\": [{\"categories\": [\"0\", \"2\", \"4\", \"7\", \"12\", \"18\", \"22\", \"23\", \"24\", \"25\", \"26\", \"27\", \"28\", \"29\", \"31\", \"32\", \"34\", \"35\", \"36\", \"37\", \"38\", \"39\", \"40\", \"41\", \"42\", \"43\", \"44\", \"45\", \"46\", \"47\", \"48\", \"49\", \"50\", \"51\", \"55\"], \"mode\": \"markers\", \"name\": \"average_precision_score_weighted\", \"stepped\": false, \"type\": \"scatter\", \"data\": [0.9526630560884907, 0.9565480741647918, 0.9569022544663318, 0.9526290695952969, 0.9557585874653048, 0.9525652708297652, 0.9564122860106848, 0.9543264103958918, 0.9488753983016904, 0.9556611603586732, 0.9548551329814178, 0.95705948053936, 0.9536486209236608, 0.9563935411251934, 0.9576790709783477, 0.9535088011696023, 0.9503207749253194, 0.8907161703708324, 0.9543697602560476, 0.9518810533295724, 0.9560079637583242, 0.9542452960689163, 0.9419367060698584, 0.9547772809115154, 0.9558428975063061, 0.9558121849731749, 0.9569986592354817, 0.9450420390282464, 0.9532741573253837, 0.9529135858079171, 0.9525346057169339, 0.9541938880830676, 0.9529521244789999, 0.9560345515591545, 0.9575168583955237]}, {\"categories\": [\"0\", \"2\", \"4\", \"7\", \"12\", \"18\", \"22\", \"23\", \"24\", \"25\", \"26\", \"27\", \"28\", \"29\", \"31\", \"32\", \"34\", \"35\", \"36\", \"37\", \"38\", \"39\", \"40\", \"41\", \"42\", \"43\", \"44\", \"45\", \"46\", \"47\", \"48\", \"49\", \"50\", \"51\", \"55\"], \"mode\": \"lines\", \"name\": \"average_precision_score_weighted_max\", \"stepped\": true, \"type\": \"scatter\", \"data\": [0.9526630560884907, 0.9565480741647918, 0.9569022544663318, 0.9569022544663318, 0.9569022544663318, 0.9569022544663318, 0.9569022544663318, 0.9569022544663318, 0.9569022544663318, 0.9569022544663318, 0.9569022544663318, 0.95705948053936, 0.95705948053936, 0.95705948053936, 0.9576790709783477, 0.9576790709783477, 0.9576790709783477, 0.9576790709783477, 0.9576790709783477, 0.9576790709783477, 0.9576790709783477, 0.9576790709783477, 0.9576790709783477, 0.9576790709783477, 0.9576790709783477, 0.9576790709783477, 0.9576790709783477, 0.9576790709783477, 0.9576790709783477, 0.9576790709783477, 0.9576790709783477, 0.9576790709783477, 0.9576790709783477, 0.9576790709783477, 0.9576790709783477]}], \"AUC_micro\": [{\"categories\": [\"0\", \"2\", \"4\", \"7\", \"12\", \"18\", \"22\", \"23\", \"24\", \"25\", \"26\", \"27\", \"28\", \"29\", \"31\", \"32\", \"34\", \"35\", \"36\", \"37\", \"38\", \"39\", \"40\", \"41\", \"42\", \"43\", \"44\", \"45\", \"46\", \"47\", \"48\", \"49\", \"50\", \"51\", \"55\"], \"mode\": \"markers\", \"name\": \"AUC_micro\", \"stepped\": false, \"type\": \"scatter\", \"data\": [0.9820875093711159, 0.9850855209904973, 0.9851891397768532, 0.982107073973652, 0.9844348250283185, 0.9834916683359252, 0.9849994440715375, 0.8128776227687217, 0.9806276609829133, 0.9844975125879355, 0.9841058733076767, 0.9849706113413648, 0.9833782429866567, 0.9850401655751405, 0.8380557833233245, 0.9823077315063972, 0.9812312744226032, 0.9446276540300386, 0.9834717482498879, 0.9808880408030755, 0.9853479983463088, 0.9836039456648673, 0.9716692236147364, 0.983967576238629, 0.9847986071046959, 0.9846659343806236, 0.985585552188502, 0.977105496961765, 0.6959339759440776, 0.9818525965955223, 0.9822658726113035, 0.7744398092438556, 0.9826398837010236, 0.9847111712253858, 0.9858577487574612]}, {\"categories\": [\"0\", \"2\", \"4\", \"7\", \"12\", \"18\", \"22\", \"23\", \"24\", \"25\", \"26\", \"27\", \"28\", \"29\", \"31\", \"32\", \"34\", \"35\", \"36\", \"37\", \"38\", \"39\", \"40\", \"41\", \"42\", \"43\", \"44\", \"45\", \"46\", \"47\", \"48\", \"49\", \"50\", \"51\", \"55\"], \"mode\": \"lines\", \"name\": \"AUC_micro_max\", \"stepped\": true, \"type\": \"scatter\", \"data\": [0.9820875093711159, 0.9850855209904973, 0.9851891397768532, 0.9851891397768532, 0.9851891397768532, 0.9851891397768532, 0.9851891397768532, 0.9851891397768532, 0.9851891397768532, 0.9851891397768532, 0.9851891397768532, 0.9851891397768532, 0.9851891397768532, 0.9851891397768532, 0.9851891397768532, 0.9851891397768532, 0.9851891397768532, 0.9851891397768532, 0.9851891397768532, 0.9851891397768532, 0.9853479983463088, 0.9853479983463088, 0.9853479983463088, 0.9853479983463088, 0.9853479983463088, 0.9853479983463088, 0.985585552188502, 0.985585552188502, 0.985585552188502, 0.985585552188502, 0.985585552188502, 0.985585552188502, 0.985585552188502, 0.985585552188502, 0.9858577487574612]}], \"precision_score_macro\": [{\"categories\": [\"0\", \"2\", \"4\", \"7\", \"12\", \"18\", \"22\", \"23\", \"24\", \"25\", \"26\", \"27\", \"28\", \"29\", \"31\", \"32\", \"34\", \"35\", \"36\", \"37\", \"38\", \"39\", \"40\", \"41\", \"42\", \"43\", \"44\", \"45\", \"46\", \"47\", \"48\", \"49\", \"50\", \"51\", \"55\"], \"mode\": \"markers\", \"name\": \"precision_score_macro\", \"stepped\": false, \"type\": \"scatter\", \"data\": [0.595281403476362, 0.4787123387993322, 0.4787123387993322, 0.4787123387993322, 0.6455693524638931, 0.6454762068148546, 0.5900008100922279, 0.5414746702491394, 0.4787123387993322, 0.4787123387993322, 0.5264984608796314, 0.4787123387993322, 0.4787123387993322, 0.645472099474365, 0.5528041698201781, 0.5760242290937252, 0.6454762068148546, 0.4787123387993322, 0.4787123387993322, 0.610143248700747, 0.4787123387993322, 0.4787123387993322, 0.4787123387993322, 0.4787123387993322, 0.4787123387993322, 0.6454679871096057, 0.4787123387993322, 0.4787123387993322, 0.5418428303355104, 0.5995032320514525, 0.4787123387993322, 0.5409451658896413, 0.4787123387993322, 0.4787123387993322, 0.4787123387993322]}, {\"categories\": [\"0\", \"2\", \"4\", \"7\", \"12\", \"18\", \"22\", \"23\", \"24\", \"25\", \"26\", \"27\", \"28\", \"29\", \"31\", \"32\", \"34\", \"35\", \"36\", \"37\", \"38\", \"39\", \"40\", \"41\", \"42\", \"43\", \"44\", \"45\", \"46\", \"47\", \"48\", \"49\", \"50\", \"51\", \"55\"], \"mode\": \"lines\", \"name\": \"precision_score_macro_max\", \"stepped\": true, \"type\": \"scatter\", \"data\": [0.595281403476362, 0.595281403476362, 0.595281403476362, 0.595281403476362, 0.6455693524638931, 0.6455693524638931, 0.6455693524638931, 0.6455693524638931, 0.6455693524638931, 0.6455693524638931, 0.6455693524638931, 0.6455693524638931, 0.6455693524638931, 0.6455693524638931, 0.6455693524638931, 0.6455693524638931, 0.6455693524638931, 0.6455693524638931, 0.6455693524638931, 0.6455693524638931, 0.6455693524638931, 0.6455693524638931, 0.6455693524638931, 0.6455693524638931, 0.6455693524638931, 0.6455693524638931, 0.6455693524638931, 0.6455693524638931, 0.6455693524638931, 0.6455693524638931, 0.6455693524638931, 0.6455693524638931, 0.6455693524638931, 0.6455693524638931, 0.6455693524638931]}], \"precision_score_micro\": [{\"categories\": [\"0\", \"2\", \"4\", \"7\", \"12\", \"18\", \"22\", \"23\", \"24\", \"25\", \"26\", \"27\", \"28\", \"29\", \"31\", \"32\", \"34\", \"35\", \"36\", \"37\", \"38\", \"39\", \"40\", \"41\", \"42\", \"43\", \"44\", \"45\", \"46\", \"47\", \"48\", \"49\", \"50\", \"51\", \"55\"], \"mode\": \"markers\", \"name\": \"precision_score_micro\", \"stepped\": false, \"type\": \"scatter\", \"data\": [0.9521281998049388, 0.9574246775986645, 0.9574246775986645, 0.9574246775986645, 0.9576284265799195, 0.9576284265799195, 0.9570171796361544, 0.6744840558020789, 0.9574246775986645, 0.9574246775986645, 0.9564061816221158, 0.9574246775986645, 0.9574246775986645, 0.9574248020635278, 0.7392545749549809, 0.9511090815040734, 0.9576284265799195, 0.9574246775986645, 0.9574246775986645, 0.9502943345087794, 0.9574246775986645, 0.9574246775986645, 0.9574246775986645, 0.9574246775986645, 0.9574246775986645, 0.9572211775471361, 0.9574246775986645, 0.9574246775986645, 0.6382049129766569, 0.9551836877345852, 0.9574246775986645, 0.6585906395452751, 0.9574246775986645, 0.9574246775986645, 0.9574246775986645]}, {\"categories\": [\"0\", \"2\", \"4\", \"7\", \"12\", \"18\", \"22\", \"23\", \"24\", \"25\", \"26\", \"27\", \"28\", \"29\", \"31\", \"32\", \"34\", \"35\", \"36\", \"37\", \"38\", \"39\", \"40\", \"41\", \"42\", \"43\", \"44\", \"45\", \"46\", \"47\", \"48\", \"49\", \"50\", \"51\", \"55\"], \"mode\": \"lines\", \"name\": \"precision_score_micro_max\", \"stepped\": true, \"type\": \"scatter\", \"data\": [0.9521281998049388, 0.9574246775986645, 0.9574246775986645, 0.9574246775986645, 0.9576284265799195, 0.9576284265799195, 0.9576284265799195, 0.9576284265799195, 0.9576284265799195, 0.9576284265799195, 0.9576284265799195, 0.9576284265799195, 0.9576284265799195, 0.9576284265799195, 0.9576284265799195, 0.9576284265799195, 0.9576284265799195, 0.9576284265799195, 0.9576284265799195, 0.9576284265799195, 0.9576284265799195, 0.9576284265799195, 0.9576284265799195, 0.9576284265799195, 0.9576284265799195, 0.9576284265799195, 0.9576284265799195, 0.9576284265799195, 0.9576284265799195, 0.9576284265799195, 0.9576284265799195, 0.9576284265799195, 0.9576284265799195, 0.9576284265799195, 0.9576284265799195]}]}, \"metricName\": null, \"primaryMetricName\": \"AUC_weighted\", \"showLegend\": false}, \"run_metrics\": [{\"name\": \"experiment_status\", \"run_id\": \"AutoML_7f652609-adc6-44df-bb87-31822faac8a1\", \"categories\": [0, 1, 2, 3, 4, 5, 6, 7, 8, 9, 10, 11, 12, 13, 14], \"series\": [{\"data\": [\"DatasetEvaluation\", \"FeaturesGeneration\", \"DatasetFeaturization\", \"DatasetFeaturizationCompleted\", \"DatasetBalancing\", \"DatasetCrossValidationSplit\", \"ModelSelection\", \"BestRunExplainModel\", \"ModelExplanationDataSetSetup\", \"PickSurrogateModel\", \"EngineeredFeatureExplanations\", \"EngineeredFeatureExplanations\", \"RawFeaturesExplanations\", \"RawFeaturesExplanations\", \"BestRunExplainModel\"]}]}, {\"name\": \"experiment_status_description\", \"run_id\": \"AutoML_7f652609-adc6-44df-bb87-31822faac8a1\", \"categories\": [0, 1, 2, 3, 4, 5, 6, 7, 8, 9, 10, 11, 12, 13, 14], \"series\": [{\"data\": [\"Gathering dataset statistics.\", \"Generating features for the dataset.\", \"Beginning to fit featurizers and featurize the dataset.\", \"Completed fit featurizers and featurizing the dataset.\", \"Performing class balancing sweeping\", \"Generating individually featurized CV splits.\", \"Beginning model selection.\", \"Best run model explanations started\", \"Model explanations data setup completed\", \"Choosing LightGBM as the surrogate model for explanations\", \"Computation of engineered features started\", \"Computation of engineered features completed\", \"Computation of raw features started\", \"Computation of raw features completed\", \"Best run model explanations completed\"]}]}, {\"name\": \"recall_score_micro\", \"run_id\": \"AutoML_7f652609-adc6-44df-bb87-31822faac8a1\", \"categories\": [0], \"series\": [{\"data\": [0.9574246775986645]}]}, {\"name\": \"f1_score_macro\", \"run_id\": \"AutoML_7f652609-adc6-44df-bb87-31822faac8a1\", \"categories\": [0], \"series\": [{\"data\": [0.4891236455109908]}]}, {\"name\": \"AUC_macro\", \"run_id\": \"AutoML_7f652609-adc6-44df-bb87-31822faac8a1\", \"categories\": [0], \"series\": [{\"data\": [0.8493607443178907]}]}, {\"name\": \"average_precision_score_weighted\", \"run_id\": \"AutoML_7f652609-adc6-44df-bb87-31822faac8a1\", \"categories\": [0], \"series\": [{\"data\": [0.9575168583955237]}]}, {\"name\": \"precision_score_weighted\", \"run_id\": \"AutoML_7f652609-adc6-44df-bb87-31822faac8a1\", \"categories\": [0], \"series\": [{\"data\": [0.916669605715812]}]}, {\"name\": \"f1_score_weighted\", \"run_id\": \"AutoML_7f652609-adc6-44df-bb87-31822faac8a1\", \"categories\": [0], \"series\": [{\"data\": [0.9366020641753475]}]}, {\"name\": \"log_loss\", \"run_id\": \"AutoML_7f652609-adc6-44df-bb87-31822faac8a1\", \"categories\": [0], \"series\": [{\"data\": [0.1469019679879331]}]}, {\"name\": \"recall_score_macro\", \"run_id\": \"AutoML_7f652609-adc6-44df-bb87-31822faac8a1\", \"categories\": [0], \"series\": [{\"data\": [0.5]}]}, {\"name\": \"average_precision_score_macro\", \"run_id\": \"AutoML_7f652609-adc6-44df-bb87-31822faac8a1\", \"categories\": [0], \"series\": [{\"data\": [0.5872757038063158]}]}, {\"name\": \"precision_score_micro\", \"run_id\": \"AutoML_7f652609-adc6-44df-bb87-31822faac8a1\", \"categories\": [0], \"series\": [{\"data\": [0.9574246775986645]}]}, {\"name\": \"balanced_accuracy\", \"run_id\": \"AutoML_7f652609-adc6-44df-bb87-31822faac8a1\", \"categories\": [0], \"series\": [{\"data\": [0.5]}]}, {\"name\": \"average_precision_score_micro\", \"run_id\": \"AutoML_7f652609-adc6-44df-bb87-31822faac8a1\", \"categories\": [0], \"series\": [{\"data\": [0.9859598378552142]}]}, {\"name\": \"accuracy\", \"run_id\": \"AutoML_7f652609-adc6-44df-bb87-31822faac8a1\", \"categories\": [0], \"series\": [{\"data\": [0.9574246775986645]}]}, {\"name\": \"precision_score_macro\", \"run_id\": \"AutoML_7f652609-adc6-44df-bb87-31822faac8a1\", \"categories\": [0], \"series\": [{\"data\": [0.4787123387993322]}]}, {\"name\": \"recall_score_weighted\", \"run_id\": \"AutoML_7f652609-adc6-44df-bb87-31822faac8a1\", \"categories\": [0], \"series\": [{\"data\": [0.9574246775986645]}]}, {\"name\": \"weighted_accuracy\", \"run_id\": \"AutoML_7f652609-adc6-44df-bb87-31822faac8a1\", \"categories\": [0], \"series\": [{\"data\": [0.9980167186824357]}]}, {\"name\": \"AUC_weighted\", \"run_id\": \"AutoML_7f652609-adc6-44df-bb87-31822faac8a1\", \"categories\": [0], \"series\": [{\"data\": [0.8493607443178907]}]}, {\"name\": \"matthews_correlation\", \"run_id\": \"AutoML_7f652609-adc6-44df-bb87-31822faac8a1\", \"categories\": [0], \"series\": [{\"data\": [0.0]}]}, {\"name\": \"AUC_micro\", \"run_id\": \"AutoML_7f652609-adc6-44df-bb87-31822faac8a1\", \"categories\": [0], \"series\": [{\"data\": [0.9858577487574612]}]}, {\"name\": \"f1_score_micro\", \"run_id\": \"AutoML_7f652609-adc6-44df-bb87-31822faac8a1\", \"categories\": [0], \"series\": [{\"data\": [0.9574246775986645]}]}, {\"name\": \"norm_macro_recall\", \"run_id\": \"AutoML_7f652609-adc6-44df-bb87-31822faac8a1\", \"categories\": [0], \"series\": [{\"data\": [0.0]}]}], \"run_logs\": \"\\nRun is completed.\", \"graph\": {}, \"widget_settings\": {\"childWidgetDisplay\": \"popup\", \"send_telemetry\": false, \"log_level\": \"INFO\", \"sdk_version\": \"1.34.0\"}, \"loading\": false}"
          },
          "metadata": {}
        },
        {
          "output_type": "display_data",
          "data": {
            "text/plain": "<IPython.core.display.HTML object>",
            "text/html": "<table style=\"width:100%\"><tr><th>Experiment</th><th>Id</th><th>Type</th><th>Status</th><th>Details Page</th><th>Docs Page</th></tr><tr><td>automl_experiment</td><td>AutoML_7f652609-adc6-44df-bb87-31822faac8a1</td><td>automl</td><td>NotStarted</td><td><a href=\"https://ml.azure.com/runs/AutoML_7f652609-adc6-44df-bb87-31822faac8a1?wsid=/subscriptions/adf28760-4783-41dd-bbd5-bbe3210d5965/resourcegroups/ml-ops/workspaces/telemetry-ws&amp;tid=3c2a020d-f343-4ca1-b6ef-91768380352f\" target=\"_blank\" rel=\"noopener\">Link to Azure Machine Learning studio</a></td><td><a href=\"https://docs.microsoft.com/en-us/python/api/overview/azure/ml/intro?view=azure-ml-py\" target=\"_blank\" rel=\"noopener\">Link to Documentation</a></td></tr></table>"
          },
          "metadata": {}
        },
        {
          "output_type": "stream",
          "name": "stdout",
          "text": "\nCurrent status: FeaturesGeneration. Generating features for the dataset.\nCurrent status: DatasetCrossValidationSplit. Generating individually featurized CV splits.\nCurrent status: ModelSelection. Beginning model selection.\n\n****************************************************************************************************\nDATA GUARDRAILS: \n\nTYPE:         Cross validation\nSTATUS:       DONE\nDESCRIPTION:  Each iteration of the trained model was validated through cross-validation.\n              \nDETAILS:      \n+---------------------------------+\n|Number of folds                  |\n+=================================+\n|3                                |\n+---------------------------------+\n\n****************************************************************************************************\n\nTYPE:         Class balancing detection\nSTATUS:       ALERTED\nDESCRIPTION:  To decrease model bias, please cancel the current run and fix balancing problem.\n              Learn more about imbalanced data: https://aka.ms/AutomatedMLImbalancedData\nDETAILS:      Imbalanced data can lead to a falsely perceived positive effect of a model's accuracy because the input data has bias towards one class.\n+---------------------------------+---------------------------------+--------------------------------------+\n|Size of the smallest class       |Name/Label of the smallest class |Number of samples in the training data|\n+=================================+=================================+======================================+\n|209                              |1                                |4909                                  |\n+---------------------------------+---------------------------------+--------------------------------------+\n\n****************************************************************************************************\n\nTYPE:         Missing feature values imputation\nSTATUS:       PASSED\nDESCRIPTION:  No feature missing values were detected in the training data.\n              Learn more about missing value imputation: https://aka.ms/AutomatedMLFeaturization\n\n****************************************************************************************************\n\nTYPE:         High cardinality feature detection\nSTATUS:       PASSED\nDESCRIPTION:  Your inputs were analyzed, and no high cardinality features were detected.\n              Learn more about high cardinality feature handling: https://aka.ms/AutomatedMLFeaturization\n\n****************************************************************************************************\n\n****************************************************************************************************\nITERATION: The iteration being evaluated.\nPIPELINE: A summary description of the pipeline being evaluated.\nDURATION: Time taken for the current iteration.\nMETRIC: The result of computing score on the fitted pipeline.\nBEST: The best observed score thus far.\n****************************************************************************************************\n\n ITERATION   PIPELINE                                       DURATION      METRIC      BEST\n         0   MaxAbsScaler LightGBM                          0:00:09       0.8048    0.8048\n         1   MaxAbsScaler XGBoostClassifier                 0:00:09       0.8385    0.8385\n         2   MaxAbsScaler ExtremeRandomTrees                0:00:08       0.8397    0.8397\n         3   MaxAbsScaler RandomForest                      0:00:08       0.8362    0.8397\n         4   StandardScalerWrapper LightGBM                 0:00:08       0.8411    0.8411\n         5   SparseNormalizer XGBoostClassifier             0:00:09       0.8147    0.8411\n         6   SparseNormalizer RandomForest                  0:00:12       0.8317    0.8411\n         7   StandardScalerWrapper XGBoostClassifier        0:00:09       0.8033    0.8411\n         8   SparseNormalizer XGBoostClassifier             0:00:09       0.7903    0.8411\n         9   MaxAbsScaler RandomForest                      0:00:09       0.8165    0.8411\n        10   SparseNormalizer LightGBM                      0:00:09       0.8218    0.8411\n        11   MaxAbsScaler ExtremeRandomTrees                0:00:14       0.8304    0.8411\n        12   StandardScalerWrapper XGBoostClassifier        0:00:08       0.8315    0.8411\n        13   StandardScalerWrapper ExtremeRandomTrees       0:00:08       0.8012    0.8411\n        14   StandardScalerWrapper RandomForest             0:00:13       0.7883    0.8411\n        15   MaxAbsScaler LightGBM                          0:00:09       0.8439    0.8439\n        16   MaxAbsScaler LogisticRegression                0:00:09       0.8419    0.8439\n        17   StandardScalerWrapper ExtremeRandomTrees       0:00:14       0.8396    0.8439\n        18   StandardScalerWrapper XGBoostClassifier        0:00:09       0.8200    0.8439\n        19   MaxAbsScaler ExtremeRandomTrees                0:00:10       0.8141    0.8439\n        22   StandardScalerWrapper XGBoostClassifier        0:00:06       0.8386    0.8439\n        20   MaxAbsScaler LogisticRegression                0:00:04       0.8438    0.8439\n        21   StandardScalerWrapper XGBoostClassifier        0:00:04       0.8201    0.8439\n        23   MaxAbsScaler RandomForest                      0:00:04       0.8172    0.8439\n        24   SparseNormalizer XGBoostClassifier             0:00:04       0.7853    0.8439\n        25   StandardScalerWrapper LightGBM                 0:00:04       0.8329    0.8439\n        26   StandardScalerWrapper XGBoostClassifier        0:00:04       0.8276    0.8439\n        27   StandardScalerWrapper RandomForest             0:00:04       0.8382    0.8439\n        28   StandardScalerWrapper GradientBoosting         0:00:04       0.8193    0.8439\n        29   MaxAbsScaler LightGBM                          0:00:04       0.8393    0.8439\n        30   MaxAbsScaler GradientBoosting                  0:00:04       0.8191    0.8439\n        31   StandardScalerWrapper LogisticRegression       0:00:05       0.8442    0.8442\n        32   StandardScalerWrapper XGBoostClassifier        0:00:04       0.8076    0.8442\n        33   MaxAbsScaler LightGBM                          0:00:04       0.8350    0.8442\n        34   TruncatedSVDWrapper XGBoostClassifier          0:00:04       0.7929    0.8442\n        35   TruncatedSVDWrapper LogisticRegression         0:00:04       0.3421    0.8442\n        36   SparseNormalizer LightGBM                      0:00:04       0.8199    0.8442\n        38   StandardScalerWrapper XGBoostClassifier        0:00:04       0.8430    0.8442\n        37   StandardScalerWrapper XGBoostClassifier        0:00:04       0.7922    0.8442\n        39   SparseNormalizer LightGBM                      0:00:05       0.8216    0.8442\n        40   SparseNormalizer LogisticRegression            0:00:04       0.6731    0.8442\n        41   SparseNormalizer LightGBM                      0:00:04       0.8261    0.8442\n        42   StandardScalerWrapper LightGBM                 0:00:04       0.8362    0.8442\n        43   StandardScalerWrapper LightGBM                 0:00:03       0.8346    0.8442\n        44   MaxAbsScaler LightGBM                          0:00:04       0.8459    0.8459\n        45   StandardScalerWrapper LogisticRegression       0:00:04       0.7415    0.8459\n        46   MaxAbsScaler SGD                               0:00:04       0.8247    0.8459\n        47   StandardScalerWrapper XGBoostClassifier        0:00:04       0.8006    0.8459\n        48   StandardScalerWrapper GradientBoosting         0:00:04       0.8057    0.8459\n        49   StandardScalerWrapper ExtremeRandomTrees       0:00:04       0.8190    0.8459\n        50   SparseNormalizer LightGBM                      0:00:04       0.8098    0.8459\n        51   StandardScalerWrapper ExtremeRandomTrees       0:00:04       0.8352    0.8459\n        52                                                  0:00:01          nan    0.8459\nERROR: {\n    \"additional_properties\": {},\n    \"error\": {\n        \"additional_properties\": {\n            \"debugInfo\": null\n        },\n        \"code\": \"UserError\",\n        \"severity\": null,\n        \"message\": \"Experiment timeout reached, please consider increasing your experiment timeout.\",\n        \"message_format\": \"Experiment timeout reached, please consider increasing your experiment timeout.\",\n        \"message_parameters\": {},\n        \"reference_code\": null,\n        \"details_uri\": null,\n        \"target\": null,\n        \"details\": [],\n        \"inner_error\": {\n            \"additional_properties\": {},\n            \"code\": \"ResourceExhausted\",\n            \"inner_error\": {\n                \"additional_properties\": {},\n                \"code\": \"Timeout\",\n                \"inner_error\": {\n                    \"additional_properties\": {},\n                    \"code\": \"ExperimentTimeoutForIterations\",\n                    \"inner_error\": null\n                }\n            }\n        },\n        \"additional_info\": null\n    },\n    \"correlation\": null,\n    \"environment\": null,\n    \"location\": null,\n    \"time\": {},\n    \"component_name\": null\n}\n        53                                                  0:00:04          nan    0.8459\nERROR: {\n    \"additional_properties\": {},\n    \"error\": {\n        \"additional_properties\": {\n            \"debugInfo\": null\n        },\n        \"code\": \"UserError\",\n        \"severity\": null,\n        \"message\": \"Experiment timeout reached, please consider increasing your experiment timeout.\",\n        \"message_format\": \"Experiment timeout reached, please consider increasing your experiment timeout.\",\n        \"message_parameters\": {},\n        \"reference_code\": null,\n        \"details_uri\": null,\n        \"target\": null,\n        \"details\": [],\n        \"inner_error\": {\n            \"additional_properties\": {},\n            \"code\": \"ResourceExhausted\",\n            \"inner_error\": {\n                \"additional_properties\": {},\n                \"code\": \"Timeout\",\n                \"inner_error\": {\n                    \"additional_properties\": {},\n                    \"code\": \"ExperimentTimeoutForIterations\",\n                    \"inner_error\": null\n                }\n            }\n        },\n        \"additional_info\": null\n    },\n    \"correlation\": null,\n    \"environment\": null,\n    \"location\": null,\n    \"time\": {},\n    \"component_name\": null\n}\n        54                                                  0:00:00          nan    0.8459\nERROR: {\n    \"additional_properties\": {},\n    \"error\": {\n        \"additional_properties\": {\n            \"debugInfo\": null\n        },\n        \"code\": \"UserError\",\n        \"severity\": null,\n        \"message\": \"Experiment timeout reached, please consider increasing your experiment timeout.\",\n        \"message_format\": \"Experiment timeout reached, please consider increasing your experiment timeout.\",\n        \"message_parameters\": {},\n        \"reference_code\": null,\n        \"details_uri\": null,\n        \"target\": null,\n        \"details\": [],\n        \"inner_error\": {\n            \"additional_properties\": {},\n            \"code\": \"ResourceExhausted\",\n            \"inner_error\": {\n                \"additional_properties\": {},\n                \"code\": \"Timeout\",\n                \"inner_error\": {\n                    \"additional_properties\": {},\n                    \"code\": \"ExperimentTimeoutForIterations\",\n                    \"inner_error\": null\n                }\n            }\n        },\n        \"additional_info\": null\n    },\n    \"correlation\": null,\n    \"environment\": null,\n    \"location\": null,\n    \"time\": {},\n    \"component_name\": null\n}\n        55    VotingEnsemble                                0:00:04       0.8494    0.8494\n        56    StackEnsemble                                 0:00:04       0.8458    0.8494\n"
        },
        {
          "output_type": "execute_result",
          "execution_count": 6,
          "data": {
            "text/plain": "{'runId': 'AutoML_7f652609-adc6-44df-bb87-31822faac8a1',\n 'target': 'pipeline-compute',\n 'status': 'Completed',\n 'startTimeUtc': '2022-06-15T23:50:30.311913Z',\n 'endTimeUtc': '2022-06-16T00:16:46.28487Z',\n 'services': {},\n 'warnings': [{'source': 'JasmineService',\n   'message': 'Experiment timeout reached, hence experiment stopped. Current experiment timeout: 0 hour(s) 20 minute(s)'}],\n 'properties': {'num_iterations': '1000',\n  'training_type': 'TrainFull',\n  'acquisition_function': 'EI',\n  'primary_metric': 'AUC_weighted',\n  'train_split': '0',\n  'acquisition_parameter': '0',\n  'num_cross_validation': None,\n  'target': 'pipeline-compute',\n  'AMLSettingsJsonString': '{\"path\":null,\"name\":\"automl_experiment\",\"subscription_id\":\"adf28760-4783-41dd-bbd5-bbe3210d5965\",\"resource_group\":\"ml-ops\",\"workspace_name\":\"telemetry-ws\",\"region\":\"eastus\",\"compute_target\":\"pipeline-compute\",\"spark_service\":null,\"azure_service\":\"remote\",\"many_models\":false,\"pipeline_fetch_max_batch_size\":1,\"enable_batch_run\":true,\"enable_run_restructure\":false,\"start_auxiliary_runs_before_parent_complete\":false,\"enable_code_generation\":false,\"iterations\":1000,\"primary_metric\":\"AUC_weighted\",\"task_type\":\"classification\",\"data_script\":null,\"test_size\":0.0,\"test_include_predictions_only\":false,\"validation_size\":0.0,\"n_cross_validations\":null,\"y_min\":null,\"y_max\":null,\"num_classes\":null,\"featurization\":\"auto\",\"_ignore_package_version_incompatibilities\":false,\"is_timeseries\":false,\"max_cores_per_iteration\":1,\"max_concurrent_iterations\":4,\"iteration_timeout_minutes\":null,\"mem_in_mb\":null,\"enforce_time_on_windows\":false,\"experiment_timeout_minutes\":20,\"experiment_exit_score\":null,\"whitelist_models\":null,\"blacklist_algos\":[\"TensorFlowLinearClassifier\",\"TensorFlowDNN\"],\"supported_models\":[\"ExtremeRandomTrees\",\"TensorFlowDNN\",\"BernoulliNaiveBayes\",\"RandomForest\",\"DecisionTree\",\"XGBoostClassifier\",\"KNN\",\"GradientBoosting\",\"TensorFlowLinearClassifier\",\"SVM\",\"MultinomialNaiveBayes\",\"LogisticRegression\",\"SGD\",\"LinearSVM\",\"AveragedPerceptronClassifier\",\"LightGBM\"],\"private_models\":[],\"auto_blacklist\":true,\"blacklist_samples_reached\":false,\"exclude_nan_labels\":true,\"verbosity\":20,\"_debug_log\":\"azureml_automl.log\",\"show_warnings\":false,\"model_explainability\":true,\"service_url\":null,\"sdk_url\":null,\"sdk_packages\":null,\"enable_onnx_compatible_models\":false,\"enable_split_onnx_featurizer_estimator_models\":false,\"vm_type\":\"STANDARD_DS12_V2\",\"telemetry_verbosity\":20,\"send_telemetry\":true,\"enable_dnn\":false,\"scenario\":\"SDK-1.13.0\",\"environment_label\":null,\"save_mlflow\":false,\"force_text_dnn\":false,\"enable_feature_sweeping\":true,\"enable_early_stopping\":true,\"early_stopping_n_iters\":10,\"metrics\":null,\"enable_metric_confidence\":false,\"enable_ensembling\":true,\"enable_stack_ensembling\":true,\"ensemble_iterations\":15,\"enable_tf\":false,\"enable_subsampling\":null,\"subsample_seed\":null,\"enable_nimbusml\":false,\"enable_streaming\":false,\"force_streaming\":false,\"track_child_runs\":true,\"allowed_private_models\":[],\"label_column_name\":\"stroke\",\"weight_column_name\":null,\"cv_split_column_names\":null,\"positive_label\":null,\"enable_local_managed\":false,\"_local_managed_run_id\":null,\"cost_mode\":1,\"lag_length\":0,\"metric_operation\":\"maximize\",\"preprocess\":true,\"dataset_id\":\"e985c1b4-a8d6-4c85-a165-13e58ca7eb7c\"}',\n  'DataPrepJsonString': '{\\\\\"training_data\\\\\": {\\\\\"datasetId\\\\\": \\\\\"e985c1b4-a8d6-4c85-a165-13e58ca7eb7c\\\\\"}, \\\\\"datasets\\\\\": 0}',\n  'EnableSubsampling': None,\n  'runTemplate': 'AutoML',\n  'azureml.runsource': 'automl',\n  'display_task_type': 'classification',\n  'dependencies_versions': '{\"azureml-widgets\": \"1.34.0\", \"azureml-train\": \"1.34.0\", \"azureml-train-restclients-hyperdrive\": \"1.34.0\", \"azureml-train-core\": \"1.34.0\", \"azureml-train-automl\": \"1.34.0\", \"azureml-train-automl-runtime\": \"1.34.0\", \"azureml-train-automl-client\": \"1.34.0\", \"azureml-tensorboard\": \"1.34.0\", \"azureml-telemetry\": \"1.34.0\", \"azureml-sdk\": \"1.34.0\", \"azureml-samples\": \"0+unknown\", \"azureml-responsibleai\": \"1.34.0\", \"azureml-pipeline\": \"1.34.0\", \"azureml-pipeline-steps\": \"1.34.0\", \"azureml-pipeline-core\": \"1.34.0\", \"azureml-opendatasets\": \"1.34.0\", \"azureml-mlflow\": \"1.34.0\", \"azureml-interpret\": \"1.34.0\", \"azureml-inference-server-http\": \"0.3.1\", \"azureml-explain-model\": \"1.34.0\", \"azureml-defaults\": \"1.34.0\", \"azureml-dataset-runtime\": \"1.34.0\", \"azureml-dataprep\": \"2.22.2\", \"azureml-dataprep-rslex\": \"1.20.1\", \"azureml-dataprep-native\": \"38.0.0\", \"azureml-datadrift\": \"1.34.0\", \"azureml-core\": \"1.34.0\", \"azureml-contrib-services\": \"1.34.0\", \"azureml-contrib-server\": \"1.34.0\", \"azureml-contrib-reinforcementlearning\": \"1.34.0\", \"azureml-contrib-pipeline-steps\": \"1.34.0\", \"azureml-contrib-notebook\": \"1.34.0\", \"azureml-contrib-fairness\": \"1.34.0\", \"azureml-contrib-dataset\": \"1.34.0\", \"azureml-contrib-automl-pipeline-steps\": \"1.34.0\", \"azureml-cli-common\": \"1.34.0\", \"azureml-automl-runtime\": \"1.34.0\", \"azureml-automl-dnn-nlp\": \"1.34.0\", \"azureml-automl-core\": \"1.34.0\", \"azureml-accel-models\": \"1.34.0\"}',\n  '_aml_system_scenario_identification': 'Remote.Parent',\n  'ClientType': 'SDK',\n  'environment_cpu_name': 'AzureML-AutoML',\n  'environment_cpu_label': 'py36',\n  'environment_gpu_name': 'AzureML-AutoML-GPU',\n  'environment_gpu_label': 'py36',\n  'root_attribution': 'automl',\n  'attribution': 'AutoML',\n  'Orchestrator': 'AutoML',\n  'CancelUri': 'https://eastus.api.azureml.ms/jasmine/v1.0/subscriptions/adf28760-4783-41dd-bbd5-bbe3210d5965/resourceGroups/ml-ops/providers/Microsoft.MachineLearningServices/workspaces/telemetry-ws/experimentids/602e2fab-d64d-4f47-b7a6-c4a47ce88f18/cancel/AutoML_7f652609-adc6-44df-bb87-31822faac8a1',\n  'azureml.git.repository_uri': 'https://github.com/puter/nd00333-capstone.git',\n  'mlflow.source.git.repoURL': 'https://github.com/puter/nd00333-capstone.git',\n  'azureml.git.branch': 'master',\n  'mlflow.source.git.branch': 'master',\n  'azureml.git.commit': 'ca437e6094357db2c136fe015a9e8971c75526a9',\n  'mlflow.source.git.commit': 'ca437e6094357db2c136fe015a9e8971c75526a9',\n  'azureml.git.dirty': 'True',\n  'ClientSdkVersion': '1.38.0',\n  'snapshotId': '00000000-0000-0000-0000-000000000000',\n  'SetupRunId': 'AutoML_7f652609-adc6-44df-bb87-31822faac8a1_setup',\n  'SetupRunContainerId': 'dcid.AutoML_7f652609-adc6-44df-bb87-31822faac8a1_setup',\n  'FeaturizationRunJsonPath': 'featurizer_container.json',\n  'FeaturizationRunId': 'AutoML_7f652609-adc6-44df-bb87-31822faac8a1_featurize',\n  'ProblemInfoJsonString': '{\"dataset_num_categorical\": 0, \"is_sparse\": true, \"subsampling\": false, \"has_extra_col\": true, \"dataset_classes\": 2, \"dataset_features\": 19, \"dataset_samples\": 4909, \"single_frequency_class_detected\": false}',\n  'ModelExplainRunId': 'AutoML_7f652609-adc6-44df-bb87-31822faac8a1_ModelExplain'},\n 'inputDatasets': [{'dataset': {'id': 'e985c1b4-a8d6-4c85-a165-13e58ca7eb7c'}, 'consumptionDetails': {'type': 'RunInput', 'inputName': 'training_data', 'mechanism': 'Direct'}}],\n 'outputDatasets': [],\n 'logFiles': {},\n 'submittedBy': 'Chad Puterbaugh'}"
          },
          "metadata": {}
        }
      ],
      "execution_count": 6,
      "metadata": {
        "gather": {
          "logged": 1655340464002
        },
        "jupyter": {
          "outputs_hidden": false,
          "source_hidden": false
        },
        "nteract": {
          "transient": {
            "deleting": false
          }
        }
      }
    },
    {
      "cell_type": "markdown",
      "source": [
        "## Best Model\n",
        "\n",
        "TODO: In the cell below, get the best model from the automl experiments and display all the properties of the model.\n",
        "\n"
      ],
      "metadata": {}
    },
    {
      "cell_type": "code",
      "source": [
        "best_run, best_model = run.get_output(return_onnx_model=False)\n",
        "\n",
        "print(best_run)\n",
        "print(best_model)\n",
        "\n",
        "if \"automl\" not in os.listdir():\n",
        "    os.mkdir(\"./automl/outputs\")\n",
        "\n",
        "best_run.download_files(output_directory='./automl')\n",
        "\n",
        "print(best_run.get_file_names())\n",
        "print(best_run.get_environment())\n",
        "\n",
        "best_run_metrics = best_run.get_metrics()\n",
        "\n",
        "print('Best Run Id: ', best_run.id)\n",
        "print('Accuracy: ', best_run_metrics['accuracy'])\n",
        "print('AUC_Weighted: ', best_run_metrics['AUC_weighted'])"
      ],
      "outputs": [
        {
          "output_type": "stream",
          "name": "stderr",
          "text": "WARNING:root:Received unrecognized parameter dataset_id\nWARNING:root:Received unrecognized parameter dataset_id\nWARNING:root:Received unrecognized parameter dataset_id\nWARNING:root:The version of the SDK does not match the version the model was trained on.\nWARNING:root:The consistency in the result may not be guaranteed.\nWARNING:root:Package:azureml-automl-core, training version:1.38.0, current version:1.34.0\nPackage:azureml-automl-runtime, training version:1.38.0, current version:1.34.0\nPackage:azureml-core, training version:1.38.0, current version:1.34.0\nPackage:azureml-dataprep, training version:2.26.0, current version:2.22.2\nPackage:azureml-dataprep-rslex, training version:2.2.0, current version:1.20.1\nPackage:azureml-dataset-runtime, training version:1.38.0, current version:1.34.0\nPackage:azureml-defaults, training version:1.38.0, current version:1.34.0\nPackage:azureml-inference-server-http, training version:0.4.2, current version:0.3.1\nPackage:azureml-interpret, training version:1.38.0, current version:1.34.0\nPackage:azureml-mlflow, training version:1.38.0, current version:1.34.0\nPackage:azureml-pipeline-core, training version:1.38.0, current version:1.34.0\nPackage:azureml-responsibleai, training version:1.38.0, current version:1.34.0\nPackage:azureml-telemetry, training version:1.38.0, current version:1.34.0\nPackage:azureml-train-automl-client, training version:1.38.0, current version:1.34.0\nPackage:azureml-train-automl-runtime, training version:1.38.0, current version:1.34.0\nPackage:azureml-train-core, training version:1.38.0, current version:1.34.0\nPackage:azureml-train-restclients-hyperdrive, training version:1.38.0, current version:1.34.0\nWARNING:root:Please ensure the version of your local conda dependencies match the version on which your model was trained in order to properly retrieve your model.\n"
        },
        {
          "output_type": "stream",
          "name": "stdout",
          "text": "Run(Experiment: automl_experiment,\nId: AutoML_7f652609-adc6-44df-bb87-31822faac8a1_55,\nType: azureml.scriptrun,\nStatus: Completed)\nPipeline(memory=None,\n         steps=[('datatransformer',\n                 DataTransformer(enable_dnn=False, enable_feature_sweeping=True, feature_sweeping_config={}, feature_sweeping_timeout=86400, featurization_config=None, force_text_dnn=False, is_cross_validation=True, is_onnx_compatible=False, observer=None, task='classification', working_dir='/mnt/batch/tasks/shared/LS_root/mount...\n    gpu_training_param_dict={'processing_unit_type': 'cpu'}\n), random_state=0, reg_alpha=0, reg_lambda=0.10416666666666667, subsample=0.8, tree_method='auto'))], verbose=False))], flatten_transform=None, weights=[0.13333333333333333, 0.06666666666666667, 0.2, 0.06666666666666667, 0.06666666666666667, 0.06666666666666667, 0.13333333333333333, 0.2, 0.06666666666666667]))],\n         verbose=False)\n['accuracy_table', 'automl_driver.py', 'confusion_matrix', 'logs/azureml/azureml_automl.log', 'outputs/conda_env_v_1_0_0.yml', 'outputs/engineered_feature_names.json', 'outputs/env_dependencies.json', 'outputs/featurization_summary.json', 'outputs/internal_cross_validated_models.pkl', 'outputs/model.pkl', 'outputs/pipeline_graph.json', 'outputs/scoring_file_v_1_0_0.py', 'outputs/scoring_file_v_2_0_0.py', 'system_logs/cs_capability/cs-capability.log', 'system_logs/hosttools_capability/hosttools-capability.log', 'system_logs/lifecycler/execution-wrapper.log', 'system_logs/lifecycler/lifecycler.log', 'system_logs/lifecycler/vm-bootstrapper.log', 'system_logs/metrics_capability/metrics-capability.log', 'user_logs/std_log.txt']\nEnvironment(Name: AzureML-AutoML,\nVersion: 98)\n"
        }
      ],
      "execution_count": 7,
      "metadata": {
        "gather": {
          "logged": 1655340464127
        },
        "jupyter": {
          "outputs_hidden": false,
          "source_hidden": false
        },
        "nteract": {
          "transient": {
            "deleting": false
          }
        }
      }
    },
    {
      "cell_type": "code",
      "source": [
        "#TODO: Save the best model\n",
        "model_name = 'stroke-prediction-automl-model'\n",
        "# https://docs.microsoft.com/en-us/python/api/azureml-core/azureml.core.run.run?view=azure-ml-py#azureml-core-run-run-register-model\n",
        "\n",
        "model = run.register_model(model_name=model_name)"
      ],
      "outputs": [
        {
          "output_type": "stream",
          "name": "stderr",
          "text": "WARNING:root:Received unrecognized parameter dataset_id\nWARNING:root:Received unrecognized parameter dataset_id\n"
        }
      ],
      "execution_count": 8,
      "metadata": {
        "gather": {
          "logged": 1655340464275
        },
        "jupyter": {
          "outputs_hidden": false,
          "source_hidden": false
        },
        "nteract": {
          "transient": {
            "deleting": false
          }
        }
      }
    },
    {
      "cell_type": "markdown",
      "source": [
        "## Model Deployment\n",
        "\n",
        "Remember you have to deploy only one of the two models you trained but you still need to register both the models. Perform the steps in the rest of this notebook only if you wish to deploy this model.\n",
        "\n",
        "TODO: In the cell below, register the model, create an inference config and deploy the model as a web service."
      ],
      "metadata": {}
    },
    {
      "cell_type": "code",
      "source": [
        "from azureml.core import Environment\n",
        "from azureml.core.model import InferenceConfig\n",
        "\n",
        "env = name=best_run.get_environment()\n",
        "\n",
        "inference_config = InferenceConfig(environment=env, source_directory='./automl/outputs', entry_script='./scoring_file_v_2_0_0.py')"
      ],
      "outputs": [],
      "execution_count": 9,
      "metadata": {
        "gather": {
          "logged": 1655340464360
        }
      }
    },
    {
      "cell_type": "markdown",
      "source": [
        "# Here the model is being deployed to an Azure Container Instance\r\n",
        "`service` represents that ACI"
      ],
      "metadata": {
        "nteract": {
          "transient": {
            "deleting": false
          }
        }
      }
    },
    {
      "cell_type": "code",
      "source": [
        "from azureml.core.webservice import AciWebservice, Webservice\n",
        "from azureml.core.model import Model\n",
        "\n",
        "deployment_config = AciWebservice.deploy_configuration(cpu_cores = 1, memory_gb = 1, enable_app_insights=True)\n",
        "\n",
        "# Deploy \n",
        "service = Model.deploy(\n",
        "    ws,\n",
        "    \"strokepredictor\",\n",
        "    [model],\n",
        "    inference_config,\n",
        "    deployment_config,\n",
        "    overwrite=True,\n",
        ")\n",
        "service.wait_for_deployment(show_output=True)\n",
        "print(service.state)\n"
      ],
      "outputs": [
        {
          "output_type": "stream",
          "name": "stdout",
          "text": "Tips: You can try get_logs(): https://aka.ms/debugimage#dockerlog or local deployment: https://aka.ms/debugimage#debug-locally to debug if deployment takes longer than 10 minutes.\nRunning\n2022-06-16 00:17:32+00:00 Creating Container Registry if not exists.\n2022-06-16 00:17:33+00:00 Registering the environment.\n2022-06-16 00:17:33+00:00 Use the existing image.\n2022-06-16 00:17:33+00:00 Generating deployment configuration.\n2022-06-16 00:17:34+00:00 Submitting deployment to compute.\n2022-06-16 00:17:37+00:00 Checking the status of deployment strokepredictor..\n2022-06-16 00:22:55+00:00 Checking the status of inference endpoint strokepredictor.\nSucceeded\nACI service creation operation finished, operation \"Succeeded\"\nHealthy\n"
        }
      ],
      "execution_count": 10,
      "metadata": {
        "gather": {
          "logged": 1655340464671
        },
        "jupyter": {
          "outputs_hidden": false,
          "source_hidden": false
        },
        "nteract": {
          "transient": {
            "deleting": false
          }
        }
      }
    },
    {
      "cell_type": "markdown",
      "source": [
        "TODO: In the cell below, send a request to the web service you deployed to test it."
      ],
      "metadata": {
        "collapsed": true,
        "gather": {
          "logged": 1598431657736
        },
        "jupyter": {
          "outputs_hidden": false,
          "source_hidden": false
        },
        "nteract": {
          "transient": {
            "deleting": false
          }
        }
      }
    },
    {
      "cell_type": "markdown",
      "source": [
        "# Here the model's API is retrieved using service.scoring_uri\r\n",
        "The API Interface is called using the code below, and the response is printed below."
      ],
      "metadata": {
        "nteract": {
          "transient": {
            "deleting": false
          }
        }
      }
    },
    {
      "cell_type": "code",
      "source": [
        "import requests\n",
        "import json\n",
        "\n",
        "#\n",
        "uri = service.scoring_uri\n",
        "print(uri)\n",
        "\n",
        "headers = {\"Content-Type\": \"application/json\"}\n",
        "data =  {\n",
        "  \"Inputs\": {\n",
        "    \"data\": [\n",
        "      {\n",
        "        \"gender\": \"Male\",\n",
        "        \"age\": 67,\n",
        "        \"hypertension\": 0,\n",
        "        \"heart_disease\": 1,\n",
        "        \"ever_married\": \"Yes\",\n",
        "        \"work_type\": \"Private\",\n",
        "        \"Residence_type\": \"Urban\",\n",
        "        \"avg_glucose_level\": 228.69,\n",
        "        \"bmi\": 36.6,\n",
        "        \"smoking_status\": \"formerly smoked\"\n",
        "      },\n",
        "      {\n",
        "        \"gender\": \"Female\",\n",
        "        \"age\": 102,\n",
        "        \"hypertension\": 1,\n",
        "        \"heart_disease\": 1,\n",
        "        \"ever_married\": \"No\",\n",
        "        \"work_type\": \"Self-employed\",\n",
        "        \"Residence_type\": \"Rural\",\n",
        "        \"avg_glucose_level\": 202.21,\n",
        "        \"bmi\": 38.5,\n",
        "        \"smoking_status\": \"never smoked\"\n",
        "      }\n",
        "    ]\n",
        "  },\n",
        "  \"GlobalParameters\": {\n",
        "    \"method\": \"predict\"\n",
        "  }\n",
        "}\n",
        "data = json.dumps(data)\n",
        "response = requests.post(uri, data=data, headers=headers)\n",
        "print(response.json())"
      ],
      "outputs": [
        {
          "output_type": "stream",
          "name": "stdout",
          "text": "http://2088f2fd-b530-447e-ac8f-bc05384af291.eastus.azurecontainer.io/score\n{'Results': [0, 0]}\n"
        }
      ],
      "execution_count": 13,
      "metadata": {
        "gather": {
          "logged": 1655341697790
        },
        "jupyter": {
          "outputs_hidden": false,
          "source_hidden": false
        },
        "nteract": {
          "transient": {
            "deleting": false
          }
        }
      }
    },
    {
      "cell_type": "markdown",
      "source": [
        "TODO: In the cell below, print the logs of the web service and delete the service"
      ],
      "metadata": {
        "collapsed": true,
        "gather": {
          "logged": 1598432765711
        },
        "jupyter": {
          "outputs_hidden": false,
          "source_hidden": false
        },
        "nteract": {
          "transient": {
            "deleting": false
          }
        }
      }
    },
    {
      "cell_type": "code",
      "source": [
        "# Print logs\n",
        "logs = service.get_logs()\n",
        "\n",
        "for line in logs.split('\\n'):\n",
        "    print(line)\n",
        "\n",
        "# delete service\n",
        "service.delete()\n",
        "model.delete()"
      ],
      "outputs": [
        {
          "output_type": "stream",
          "name": "stdout",
          "text": "2022-06-16T00:22:37,816185600+00:00 - gunicorn/run \n2022-06-16T00:22:37,815656000+00:00 - iot-server/run \nDynamic Python package installation is disabled.\nStarting HTTP server\n2022-06-16T00:22:37,825590300+00:00 - rsyslog/run \n2022-06-16T00:22:37,891636500+00:00 - nginx/run \nrsyslogd: /azureml-envs/azureml_6797cf9b513e59b405ce80f3e9222a7d/lib/libuuid.so.1: no version information available (required by rsyslogd)\nEdgeHubConnectionString and IOTEDGE_IOTHUBHOSTNAME are not set. Exiting...\n2022-06-16T00:22:38,330148800+00:00 - iot-server/finish 1 0\n2022-06-16T00:22:38,332166800+00:00 - Exit code 1 is normal. Not restarting iot-server.\nStarting gunicorn 20.1.0\nListening at: http://127.0.0.1:31311 (75)\nUsing worker: sync\nworker timeout is set to 300\nBooting worker with pid: 103\nSPARK_HOME not set. Skipping PySpark Initialization.\nGenerating new fontManager, this may take some time...\nInitializing logger\n2022-06-16 00:22:41,545 | root | INFO | Starting up app insights client\nlogging socket was found. logging is available.\nlogging socket was found. logging is available.\n2022-06-16 00:22:41,548 | root | INFO | Starting up request id generator\n2022-06-16 00:22:41,548 | root | INFO | Starting up app insight hooks\n2022-06-16 00:22:41,549 | root | INFO | Invoking user's init function\n2022-06-16 00:22:48,344 | root | INFO | Users's init has completed successfully\n2022-06-16 00:22:48,384 | root | INFO | Skipping middleware: dbg_model_info as it's not enabled.\n2022-06-16 00:22:48,385 | root | INFO | Skipping middleware: dbg_resource_usage as it's not enabled.\nGenerating swagger file: /tmp/tmpoyh0tdxf\n2022-06-16 00:22:48,389 | root | INFO | Scoring timeout is found from os.environ: 60000 ms\n2022-06-16 00:22:55,228 | root | INFO | 200\n127.0.0.1 - - [16/Jun/2022:00:22:55 +0000] \"GET /swagger.json HTTP/1.0\" 200 3133 \"-\" \"Go-http-client/1.1\"\n2022-06-16 00:23:00,599 | root | INFO | 200\n127.0.0.1 - - [16/Jun/2022:00:23:00 +0000] \"GET /swagger.json HTTP/1.0\" 200 3133 \"-\" \"Go-http-client/1.1\"\n2022-06-16 00:23:00,785 | root | INFO | Validation Request Content-Type\n2022-06-16 00:23:00,789 | root | INFO | Scoring Timer is set to 60.0 seconds\n2022-06-16 00:23:00,971 | root | INFO | 200\n127.0.0.1 - - [16/Jun/2022:00:23:00 +0000] \"POST /score HTTP/1.0\" 200 19 \"-\" \"python-requests/2.26.0\"\n127.0.0.1 - - [16/Jun/2022:00:38:44 +0000] \"POST / HTTP/1.0\" 405 178 \"-\" \"Mozilla/5.0 (X11; Linux x86_64) AppleWebKit/537.36 (KHTML, like Gecko) Chrome/81.0.4044.129 Safari/537.36\"\n127.0.0.1 - - [16/Jun/2022:00:38:44 +0000] \"GET /.env HTTP/1.0\" 404 232 \"-\" \"Mozilla/5.0 (X11; Linux x86_64) AppleWebKit/537.36 (KHTML, like Gecko) Chrome/81.0.4044.129 Safari/537.36\"\n2022-06-16 00:52:04,535 | root | INFO | 200\n127.0.0.1 - - [16/Jun/2022:00:52:04 +0000] \"GET /swagger.json HTTP/1.0\" 200 3133 \"-\" \"Go-http-client/1.1\"\n2022-06-16 01:05:01,427 | root | INFO | 200\n127.0.0.1 - - [16/Jun/2022:01:05:01 +0000] \"GET /swagger.json HTTP/1.0\" 200 3133 \"-\" \"Go-http-client/1.1\"\n2022-06-16 01:05:02,493 | root | INFO | 200\n127.0.0.1 - - [16/Jun/2022:01:05:02 +0000] \"GET /swagger.json HTTP/1.0\" 200 3133 \"-\" \"Go-http-client/1.1\"\n2022-06-16 01:08:16,332 | root | INFO | Validation Request Content-Type\n2022-06-16 01:08:16,340 | root | INFO | Scoring Timer is set to 60.0 seconds\n2022-06-16 01:08:16,505 | root | INFO | 200\n127.0.0.1 - - [16/Jun/2022:01:08:16 +0000] \"POST /score HTTP/1.0\" 200 19 \"-\" \"python-requests/2.26.0\"\n127.0.0.1 - - [16/Jun/2022:01:10:54 +0000] \"GET /boaform/admin/formLogin?psd=ec8&username=ec8 HTTP/1.0\" 404 232 \"-\" \"Go-http-client/1.1\"\n\n"
        }
      ],
      "execution_count": 15,
      "metadata": {
        "jupyter": {
          "outputs_hidden": false,
          "source_hidden": false
        },
        "nteract": {
          "transient": {
            "deleting": false
          }
        },
        "gather": {
          "logged": 1655342213377
        }
      }
    },
    {
      "cell_type": "markdown",
      "source": [
        "**Submission Checklist**\n",
        "- I have registered the model.\n",
        "- I have deployed the model with the best accuracy as a webservice.\n",
        "- I have tested the webservice by sending a request to the model endpoint.\n",
        "- I have deleted the webservice and shutdown all the computes that I have used.\n",
        "- I have taken a screenshot showing the model endpoint as active.\n",
        "- The project includes a file containing the environment details.\n"
      ],
      "metadata": {}
    },
    {
      "cell_type": "markdown",
      "source": [],
      "metadata": {}
    }
  ],
  "metadata": {
    "kernel_info": {
      "name": "python3"
    },
    "kernelspec": {
      "name": "python3",
      "language": "python",
      "display_name": "Python 3"
    },
    "language_info": {
      "name": "python",
      "version": "3.6.9",
      "mimetype": "text/x-python",
      "codemirror_mode": {
        "name": "ipython",
        "version": 3
      },
      "pygments_lexer": "ipython3",
      "nbconvert_exporter": "python",
      "file_extension": ".py"
    },
    "nteract": {
      "version": "nteract-front-end@1.0.0"
    },
    "microsoft": {
      "host": {
        "AzureML": {
          "notebookHasBeenCompleted": true
        }
      }
    }
  },
  "nbformat": 4,
  "nbformat_minor": 2
}