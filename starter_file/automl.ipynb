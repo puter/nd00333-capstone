{
  "cells": [
    {
      "cell_type": "markdown",
      "source": [
        "# Automated ML\n",
        "\n",
        "TODO: Import Dependencies. In the cell below, import all the dependencies that you will need to complete the project."
      ],
      "metadata": {}
    },
    {
      "cell_type": "code",
      "source": [
        "import logging\n",
        "import os\n",
        "import csv\n",
        "\n",
        "from matplotlib import pyplot as plt\n",
        "import numpy as np\n",
        "import pandas as pd\n",
        "import json\n",
        "from sklearn import datasets\n",
        "import pkg_resources\n",
        "\n",
        "import azureml.core\n",
        "from azureml.core.experiment import Experiment\n",
        "from azureml.core.workspace import Workspace\n",
        "from azureml.train.automl import AutoMLConfig\n",
        "from azureml.core.dataset import Dataset\n",
        "\n",
        "from azureml.pipeline.steps import AutoMLStep\n",
        "from azureml.pipeline.core import Pipeline\n",
        "from azureml.pipeline.core import PipelineData, TrainingOutput\n",
        "\n",
        "from azureml.core.compute import AmlCompute\n",
        "from azureml.core.compute import ComputeTarget\n",
        "from azureml.core.compute_target import ComputeTargetException\n",
        "\n",
        "ws = Workspace.from_config()\n",
        "\n",
        "\n",
        "cluster_name = \"azuremlCluster\"\n",
        "\n",
        "try:\n",
        "    compute_target = ComputeTarget(workspace=ws, name=cluster_name)\n",
        "    print('Found existing cluster, use it.')\n",
        "except ComputeTargetException:\n",
        "    compute_config = AmlCompute.provisioning_configuration(vm_size='STANDARD_D2_V2',# for GPU, use \"STANDARD_NC6\"\n",
        "                                                           #vm_priority = 'lowpriority', # optional\n",
        "                                                           max_nodes=4)\n",
        "    compute_target = ComputeTarget.create(ws, cluster_name, compute_config)\n",
        "\n",
        "compute_target.wait_for_completion(show_output=True, min_node_count = 1, timeout_in_minutes = 10)\n",
        "\n"
      ],
      "outputs": [
        {
          "output_type": "stream",
          "name": "stdout",
          "text": "Found existing cluster, use it.\nSucceeded\nAmlCompute wait for completion finished\n\nMinimum number of nodes requested have been provisioned\n"
        }
      ],
      "execution_count": 1,
      "metadata": {
        "gather": {
          "logged": 1655263093047
        },
        "jupyter": {
          "outputs_hidden": false,
          "source_hidden": false
        },
        "nteract": {
          "transient": {
            "deleting": false
          }
        }
      }
    },
    {
      "cell_type": "markdown",
      "source": [
        "## Dataset\n",
        "\n",
        "### Overview\n",
        "TODO: In this markdown cell, give an overview of the dataset you are using. Also mention the task you will be performing.\n",
        "\n",
        "\n",
        "TODO: Get data. In the cell below, write code to access the data you will be using in this project. Remember that the dataset needs to be external."
      ],
      "metadata": {}
    },
    {
      "cell_type": "code",
      "source": [
        "# Utility function to clean data from dataset\n",
        "\n",
        "def clean_data(data):\n",
        "    # Clean and one hot encode data\n",
        "    x_df = data.replace('N/A', np.nan).dropna()\n",
        "    x_df.drop('id', inplace=True, axis=1)\n",
        "    x_df['bmi'] = x_df['bmi'].astype(float)\n",
        "\n",
        "    return (x_df)"
      ],
      "outputs": [],
      "execution_count": 2,
      "metadata": {
        "gather": {
          "logged": 1655263101820
        }
      }
    },
    {
      "cell_type": "code",
      "source": [
        "# choose a name for experiment\n",
        "experiment_name = 'stroke-prediction-training-automl'\n",
        "\n",
        "experiment=Experiment(ws, experiment_name)\n",
        "\n",
        "project_folder = './automl'\n",
        "\n",
        "dataset_name = 'stroke-dataset'\n",
        "dataset_description = ''' https://www.kaggle.com/datasets/fedesoriano/stroke-prediction-dataset?select=healthcare-dataset-stroke-data.csv\n",
        "According to the World Health Organization (WHO) stroke is the 2nd leading cause of death globally, responsible for approximately 11% of total deaths.\n",
        "This dataset is used to predict whether a patient is likely to get stroke based on the input parameters like gender, age, various diseases, and smoking status. Each row in the data provides relavant information about the patient.\n",
        "'''\n",
        "start_filename = 'healthcare-dataset-stroke-data.csv'\n",
        "out_filename = 'stroke_data_cleaned.parquet'\n",
        "\n",
        "if dataset_name in ws.datasets.keys():\n",
        "    dataset = ws.datasets[dataset_name]\n",
        "else:\n",
        "    ds = ws.get_default_datastore()\n",
        "    df = pd.read_csv(start_filename)\n",
        "    clean_df = clean_data(df)\n",
        "    clean_df.to_parquet(out_filename, index=False)\n",
        "    ds.upload_files(\n",
        "        files=[\n",
        "            out_filename\n",
        "        ],\n",
        "        target_path='stroke_data',\n",
        "        overwrite=True,\n",
        "        show_progress=True\n",
        "    )\n",
        "\n",
        "    dataset = Dataset.Tabular.from_parquet_files(path=(ds,'stroke_data/*.parquet'))\n",
        "\n",
        "    dataset.register(\n",
        "        workspace=ws,\n",
        "        name=dataset_name,\n",
        "        description=dataset_description\n",
        "    )\n",
        "\n",
        "# https://towardsdatascience.com/azure-machine-learning-service-where-is-my-data-pjainani-86a77b93ab52"
      ],
      "outputs": [],
      "execution_count": 3,
      "metadata": {
        "gather": {
          "logged": 1655263105903
        },
        "jupyter": {
          "outputs_hidden": false,
          "source_hidden": false
        },
        "nteract": {
          "transient": {
            "deleting": false
          }
        }
      }
    },
    {
      "cell_type": "markdown",
      "source": [
        "## AutoML Configuration\n",
        "\n",
        "TODO: Explain why you chose the automl settings and cofiguration you used below."
      ],
      "metadata": {}
    },
    {
      "cell_type": "code",
      "source": [
        "# TODO: Put your automl settings here\n",
        "automl_settings = {\n",
        "    \"experiment_timeout_minutes\": 20,\n",
        "    \"max_concurrent_iterations\": 4, \n",
        "    \"primary_metric\" : 'AUC_weighted'\n",
        "}\n",
        "\n",
        "# TODO: Put your automl config here\n",
        "automl_config = AutoMLConfig(compute_target=compute_target,\n",
        "                             task = \"classification\",\n",
        "                             training_data=dataset,\n",
        "                             label_column_name=\"stroke\",   \n",
        "                             path = project_folder,\n",
        "                             enable_early_stopping= True,\n",
        "                             featurization= 'auto',\n",
        "                             debug_log = \"automl_errors.log\",\n",
        "                             **automl_settings\n",
        "                            )"
      ],
      "outputs": [],
      "execution_count": 8,
      "metadata": {
        "gather": {
          "logged": 1655265391644
        },
        "jupyter": {
          "outputs_hidden": false,
          "source_hidden": false
        },
        "nteract": {
          "transient": {
            "deleting": false
          }
        }
      }
    },
    {
      "cell_type": "markdown",
      "source": [
        "## Run Details\n",
        "\n",
        "OPTIONAL: Write about the different models trained and their performance. Why do you think some models did better than others?\n",
        "\n",
        "TODO: In the cell below, use the `RunDetails` widget to show the different experiments."
      ],
      "metadata": {}
    },
    {
      "cell_type": "code",
      "source": [
        "from azureml.widgets import RunDetails\n",
        "# TODO: Submit your experiment\n",
        "automl_run = Experiment(ws, 'automl_experiment')\n",
        "run = automl_run.submit(config=automl_config)\n",
        "\n",
        "RunDetails(run).show()\n",
        "run.wait_for_completion(show_output=True)"
      ],
      "outputs": [
        {
          "output_type": "stream",
          "name": "stdout",
          "text": "Submitting remote run.\n"
        },
        {
          "output_type": "display_data",
          "data": {
            "text/plain": "<IPython.core.display.HTML object>",
            "text/html": "<table style=\"width:100%\"><tr><th>Experiment</th><th>Id</th><th>Type</th><th>Status</th><th>Details Page</th><th>Docs Page</th></tr><tr><td>automl_experiment</td><td>AutoML_7cb00053-71eb-430d-810f-c18bcc422676</td><td>automl</td><td>NotStarted</td><td><a href=\"https://ml.azure.com/runs/AutoML_7cb00053-71eb-430d-810f-c18bcc422676?wsid=/subscriptions/adf28760-4783-41dd-bbd5-bbe3210d5965/resourcegroups/ml-ops/workspaces/telemetry-ws&amp;tid=3c2a020d-f343-4ca1-b6ef-91768380352f\" target=\"_blank\" rel=\"noopener\">Link to Azure Machine Learning studio</a></td><td><a href=\"https://docs.microsoft.com/en-us/python/api/overview/azure/ml/intro?view=azure-ml-py\" target=\"_blank\" rel=\"noopener\">Link to Documentation</a></td></tr></table>"
          },
          "metadata": {}
        },
        {
          "output_type": "display_data",
          "data": {
            "text/plain": "_AutoMLWidget(widget_settings={'childWidgetDisplay': 'popup', 'send_telemetry': False, 'log_level': 'INFO', 's…",
            "application/vnd.jupyter.widget-view+json": {
              "version_major": 2,
              "version_minor": 0,
              "model_id": "53520aee4b884376a561a57d1fd1eaef"
            }
          },
          "metadata": {}
        },
        {
          "output_type": "display_data",
          "data": {
            "application/aml.mini.widget.v1": "{\"status\": \"Completed\", \"workbench_run_details_uri\": \"https://ml.azure.com/runs/AutoML_7cb00053-71eb-430d-810f-c18bcc422676?wsid=/subscriptions/adf28760-4783-41dd-bbd5-bbe3210d5965/resourcegroups/ml-ops/workspaces/telemetry-ws&tid=3c2a020d-f343-4ca1-b6ef-91768380352f\", \"run_id\": \"AutoML_7cb00053-71eb-430d-810f-c18bcc422676\", \"run_properties\": {\"run_id\": \"AutoML_7cb00053-71eb-430d-810f-c18bcc422676\", \"created_utc\": \"2022-06-15T03:56:45.08569Z\", \"properties\": {\"num_iterations\": \"1000\", \"training_type\": \"TrainFull\", \"acquisition_function\": \"EI\", \"primary_metric\": \"AUC_weighted\", \"train_split\": \"0\", \"acquisition_parameter\": \"0\", \"num_cross_validation\": null, \"target\": \"azuremlCluster\", \"AMLSettingsJsonString\": \"{\\\"path\\\":null,\\\"name\\\":\\\"automl_experiment\\\",\\\"subscription_id\\\":\\\"adf28760-4783-41dd-bbd5-bbe3210d5965\\\",\\\"resource_group\\\":\\\"ml-ops\\\",\\\"workspace_name\\\":\\\"telemetry-ws\\\",\\\"region\\\":\\\"eastus\\\",\\\"compute_target\\\":\\\"azuremlCluster\\\",\\\"spark_service\\\":null,\\\"azure_service\\\":\\\"remote\\\",\\\"many_models\\\":false,\\\"pipeline_fetch_max_batch_size\\\":1,\\\"enable_batch_run\\\":true,\\\"enable_run_restructure\\\":false,\\\"start_auxiliary_runs_before_parent_complete\\\":false,\\\"enable_code_generation\\\":false,\\\"iterations\\\":1000,\\\"primary_metric\\\":\\\"AUC_weighted\\\",\\\"task_type\\\":\\\"classification\\\",\\\"data_script\\\":null,\\\"test_size\\\":0.0,\\\"test_include_predictions_only\\\":false,\\\"validation_size\\\":0.0,\\\"n_cross_validations\\\":null,\\\"y_min\\\":null,\\\"y_max\\\":null,\\\"num_classes\\\":null,\\\"featurization\\\":\\\"auto\\\",\\\"_ignore_package_version_incompatibilities\\\":false,\\\"is_timeseries\\\":false,\\\"max_cores_per_iteration\\\":1,\\\"max_concurrent_iterations\\\":4,\\\"iteration_timeout_minutes\\\":null,\\\"mem_in_mb\\\":null,\\\"enforce_time_on_windows\\\":false,\\\"experiment_timeout_minutes\\\":20,\\\"experiment_exit_score\\\":null,\\\"whitelist_models\\\":null,\\\"blacklist_algos\\\":[\\\"TensorFlowLinearClassifier\\\",\\\"TensorFlowDNN\\\"],\\\"supported_models\\\":[\\\"SGD\\\",\\\"TensorFlowDNN\\\",\\\"KNN\\\",\\\"BernoulliNaiveBayes\\\",\\\"MultinomialNaiveBayes\\\",\\\"LogisticRegression\\\",\\\"DecisionTree\\\",\\\"ExtremeRandomTrees\\\",\\\"RandomForest\\\",\\\"TensorFlowLinearClassifier\\\",\\\"LinearSVM\\\",\\\"AveragedPerceptronClassifier\\\",\\\"LightGBM\\\",\\\"XGBoostClassifier\\\",\\\"GradientBoosting\\\",\\\"SVM\\\"],\\\"private_models\\\":[],\\\"auto_blacklist\\\":true,\\\"blacklist_samples_reached\\\":false,\\\"exclude_nan_labels\\\":true,\\\"verbosity\\\":20,\\\"_debug_log\\\":\\\"azureml_automl.log\\\",\\\"show_warnings\\\":false,\\\"model_explainability\\\":true,\\\"service_url\\\":null,\\\"sdk_url\\\":null,\\\"sdk_packages\\\":null,\\\"enable_onnx_compatible_models\\\":false,\\\"enable_split_onnx_featurizer_estimator_models\\\":false,\\\"vm_type\\\":\\\"STANDARD_D2_V2\\\",\\\"telemetry_verbosity\\\":20,\\\"send_telemetry\\\":true,\\\"enable_dnn\\\":false,\\\"scenario\\\":\\\"SDK-1.13.0\\\",\\\"environment_label\\\":null,\\\"save_mlflow\\\":false,\\\"force_text_dnn\\\":false,\\\"enable_feature_sweeping\\\":true,\\\"enable_early_stopping\\\":true,\\\"early_stopping_n_iters\\\":10,\\\"metrics\\\":null,\\\"enable_metric_confidence\\\":false,\\\"enable_ensembling\\\":true,\\\"enable_stack_ensembling\\\":true,\\\"ensemble_iterations\\\":15,\\\"enable_tf\\\":false,\\\"enable_subsampling\\\":null,\\\"subsample_seed\\\":null,\\\"enable_nimbusml\\\":false,\\\"enable_streaming\\\":false,\\\"force_streaming\\\":false,\\\"track_child_runs\\\":true,\\\"allowed_private_models\\\":[],\\\"label_column_name\\\":\\\"stroke\\\",\\\"weight_column_name\\\":null,\\\"cv_split_column_names\\\":null,\\\"positive_label\\\":null,\\\"enable_local_managed\\\":false,\\\"_local_managed_run_id\\\":null,\\\"cost_mode\\\":1,\\\"lag_length\\\":0,\\\"metric_operation\\\":\\\"maximize\\\",\\\"preprocess\\\":true,\\\"dataset_id\\\":\\\"e985c1b4-a8d6-4c85-a165-13e58ca7eb7c\\\"}\", \"DataPrepJsonString\": \"{\\\\\\\"training_data\\\\\\\": {\\\\\\\"datasetId\\\\\\\": \\\\\\\"e985c1b4-a8d6-4c85-a165-13e58ca7eb7c\\\\\\\"}, \\\\\\\"datasets\\\\\\\": 0}\", \"EnableSubsampling\": null, \"runTemplate\": \"AutoML\", \"azureml.runsource\": \"automl\", \"display_task_type\": \"classification\", \"dependencies_versions\": \"{\\\"azureml-widgets\\\": \\\"1.34.0\\\", \\\"azureml-train\\\": \\\"1.34.0\\\", \\\"azureml-train-restclients-hyperdrive\\\": \\\"1.34.0\\\", \\\"azureml-train-core\\\": \\\"1.34.0\\\", \\\"azureml-train-automl\\\": \\\"1.34.0\\\", \\\"azureml-train-automl-runtime\\\": \\\"1.34.0\\\", \\\"azureml-train-automl-client\\\": \\\"1.34.0\\\", \\\"azureml-tensorboard\\\": \\\"1.34.0\\\", \\\"azureml-telemetry\\\": \\\"1.34.0\\\", \\\"azureml-sdk\\\": \\\"1.34.0\\\", \\\"azureml-samples\\\": \\\"0+unknown\\\", \\\"azureml-responsibleai\\\": \\\"1.34.0\\\", \\\"azureml-pipeline\\\": \\\"1.34.0\\\", \\\"azureml-pipeline-steps\\\": \\\"1.34.0\\\", \\\"azureml-pipeline-core\\\": \\\"1.34.0\\\", \\\"azureml-opendatasets\\\": \\\"1.34.0\\\", \\\"azureml-mlflow\\\": \\\"1.34.0\\\", \\\"azureml-interpret\\\": \\\"1.34.0\\\", \\\"azureml-inference-server-http\\\": \\\"0.3.1\\\", \\\"azureml-explain-model\\\": \\\"1.34.0\\\", \\\"azureml-defaults\\\": \\\"1.34.0\\\", \\\"azureml-dataset-runtime\\\": \\\"1.34.0\\\", \\\"azureml-dataprep\\\": \\\"2.22.2\\\", \\\"azureml-dataprep-rslex\\\": \\\"1.20.1\\\", \\\"azureml-dataprep-native\\\": \\\"38.0.0\\\", \\\"azureml-datadrift\\\": \\\"1.34.0\\\", \\\"azureml-core\\\": \\\"1.34.0\\\", \\\"azureml-contrib-services\\\": \\\"1.34.0\\\", \\\"azureml-contrib-server\\\": \\\"1.34.0\\\", \\\"azureml-contrib-reinforcementlearning\\\": \\\"1.34.0\\\", \\\"azureml-contrib-pipeline-steps\\\": \\\"1.34.0\\\", \\\"azureml-contrib-notebook\\\": \\\"1.34.0\\\", \\\"azureml-contrib-fairness\\\": \\\"1.34.0\\\", \\\"azureml-contrib-dataset\\\": \\\"1.34.0\\\", \\\"azureml-contrib-automl-pipeline-steps\\\": \\\"1.34.0\\\", \\\"azureml-cli-common\\\": \\\"1.34.0\\\", \\\"azureml-automl-runtime\\\": \\\"1.34.0\\\", \\\"azureml-automl-dnn-nlp\\\": \\\"1.34.0\\\", \\\"azureml-automl-core\\\": \\\"1.34.0\\\", \\\"azureml-accel-models\\\": \\\"1.34.0\\\"}\", \"_aml_system_scenario_identification\": \"Remote.Parent\", \"ClientType\": \"SDK\", \"environment_cpu_name\": \"AzureML-AutoML\", \"environment_cpu_label\": \"py36\", \"environment_gpu_name\": \"AzureML-AutoML-GPU\", \"environment_gpu_label\": \"py36\", \"root_attribution\": \"automl\", \"attribution\": \"AutoML\", \"Orchestrator\": \"AutoML\", \"CancelUri\": \"https://eastus.api.azureml.ms/jasmine/v1.0/subscriptions/adf28760-4783-41dd-bbd5-bbe3210d5965/resourceGroups/ml-ops/providers/Microsoft.MachineLearningServices/workspaces/telemetry-ws/experimentids/602e2fab-d64d-4f47-b7a6-c4a47ce88f18/cancel/AutoML_7cb00053-71eb-430d-810f-c18bcc422676\", \"azureml.git.repository_uri\": \"https://github.com/puter/nd00333-capstone.git\", \"mlflow.source.git.repoURL\": \"https://github.com/puter/nd00333-capstone.git\", \"azureml.git.branch\": \"master\", \"mlflow.source.git.branch\": \"master\", \"azureml.git.commit\": \"e6b23c7465dec6d1efe27b3d1312313b8124b37c\", \"mlflow.source.git.commit\": \"e6b23c7465dec6d1efe27b3d1312313b8124b37c\", \"azureml.git.dirty\": \"True\", \"ClientSdkVersion\": \"1.38.0\", \"snapshotId\": \"00000000-0000-0000-0000-000000000000\", \"SetupRunId\": \"AutoML_7cb00053-71eb-430d-810f-c18bcc422676_setup\", \"SetupRunContainerId\": \"dcid.AutoML_7cb00053-71eb-430d-810f-c18bcc422676_setup\", \"FeaturizationRunJsonPath\": \"featurizer_container.json\", \"FeaturizationRunId\": \"AutoML_7cb00053-71eb-430d-810f-c18bcc422676_featurize\", \"ProblemInfoJsonString\": \"{\\\"dataset_num_categorical\\\": 0, \\\"is_sparse\\\": true, \\\"subsampling\\\": false, \\\"has_extra_col\\\": true, \\\"dataset_classes\\\": 2, \\\"dataset_features\\\": 19, \\\"dataset_samples\\\": 4909, \\\"single_frequency_class_detected\\\": false}\", \"ModelExplainRunId\": \"AutoML_7cb00053-71eb-430d-810f-c18bcc422676_ModelExplain\"}, \"tags\": {\"model_explain_run\": \"best_run\", \"_aml_system_automl_run_workspace_id\": \"f0b5fa42-6c26-4575-bef7-7cb2c9b0c3ac\", \"_aml_system_azureml.automlComponent\": \"AutoML\", \"pipeline_id\": \"\", \"score\": \"\", \"predicted_cost\": \"\", \"fit_time\": \"\", \"training_percent\": \"\", \"iteration\": \"\", \"run_preprocessor\": \"\", \"run_algorithm\": \"\", \"dynamic_allowlisting_iterations\": \"<25>;<30>;<35>;\", \"_aml_system_azureml.automl_early_exit_message\": \"No scores improved over last 10 iterations, so experiment stopped early. This early stopping behavior can be disabled by setting enable_early_stopping = False in AutoMLConfig for notebook/python SDK runs.\", \"automl_best_child_run_id\": \"AutoML_7cb00053-71eb-430d-810f-c18bcc422676_36\", \"model_explain_best_run_child_id\": \"AutoML_7cb00053-71eb-430d-810f-c18bcc422676_36\"}, \"end_time_utc\": \"2022-06-15T04:11:12.463908Z\", \"status\": \"Completed\", \"log_files\": {}, \"log_groups\": [], \"run_duration\": \"0:14:27\", \"run_number\": \"1655265405\", \"run_queued_details\": {\"status\": \"Completed\", \"details\": null}}, \"child_runs\": [{\"run_id\": \"AutoML_7cb00053-71eb-430d-810f-c18bcc422676_setup\", \"run_number\": 1655265419, \"metric\": null, \"status\": \"Completed\", \"run_type\": \"azureml.scriptrun\", \"training_percent\": null, \"start_time\": \"2022-06-15T03:57:43.451552Z\", \"end_time\": \"2022-06-15T03:57:47.251494Z\", \"created_time\": \"2022-06-15T03:56:59.671098Z\", \"created_time_dt\": \"2022-06-15T03:56:59.671098Z\", \"duration\": \"0:00:47\", \"iteration\": null, \"goal\": null, \"run_name\": \"Completed\", \"run_properties\": null}, {\"run_id\": \"AutoML_7cb00053-71eb-430d-810f-c18bcc422676_featurize\", \"run_number\": 1655265467, \"metric\": null, \"status\": \"Completed\", \"run_type\": \"automl.featurization\", \"training_percent\": null, \"start_time\": \"2022-06-15T03:57:47.943136Z\", \"end_time\": \"2022-06-15T03:59:11.26925Z\", \"created_time\": \"2022-06-15T03:57:47.663326Z\", \"created_time_dt\": \"2022-06-15T03:57:47.663326Z\", \"duration\": \"0:01:23\", \"iteration\": null, \"goal\": null, \"run_name\": \"Completed\", \"run_properties\": null}, {\"run_id\": \"AutoML_7cb00053-71eb-430d-810f-c18bcc422676_0\", \"run_number\": 1655265552, \"metric\": null, \"status\": \"Completed\", \"run_type\": null, \"training_percent\": \"100\", \"start_time\": \"2022-06-15T03:59:38.25828Z\", \"end_time\": \"2022-06-15T03:59:46.668843Z\", \"created_time\": \"2022-06-15T03:59:12.337604Z\", \"created_time_dt\": \"2022-06-15T03:59:12.337604Z\", \"duration\": \"0:00:34\", \"iteration\": \"0\", \"goal\": \"AUC_weighted_max\", \"run_name\": \"MaxAbsScaler, LightGBM\", \"run_properties\": \"copy=True\", \"primary_metric\": 0.80483527, \"best_metric\": 0.80483527}, {\"run_id\": \"AutoML_7cb00053-71eb-430d-810f-c18bcc422676_2\", \"run_number\": 1655265553, \"metric\": null, \"status\": \"Completed\", \"run_type\": null, \"training_percent\": \"100\", \"start_time\": \"2022-06-15T03:59:55.780248Z\", \"end_time\": \"2022-06-15T04:00:07.800224Z\", \"created_time\": \"2022-06-15T03:59:13.018048Z\", \"created_time_dt\": \"2022-06-15T03:59:13.018048Z\", \"duration\": \"0:00:54\", \"iteration\": \"2\", \"goal\": \"AUC_weighted_max\", \"run_name\": \"MaxAbsScaler, ExtremeRandomTrees\", \"run_properties\": \"copy=True\", \"primary_metric\": 0.83630987, \"best_metric\": 0.83630987}, {\"run_id\": \"AutoML_7cb00053-71eb-430d-810f-c18bcc422676_5\", \"run_number\": 1655265554, \"metric\": null, \"status\": \"Completed\", \"run_type\": null, \"training_percent\": \"100\", \"start_time\": \"2022-06-15T04:00:16.686588Z\", \"end_time\": \"2022-06-15T04:00:25.394742Z\", \"created_time\": \"2022-06-15T03:59:14.141127Z\", \"created_time_dt\": \"2022-06-15T03:59:14.141127Z\", \"duration\": \"0:01:11\", \"iteration\": \"5\", \"goal\": \"AUC_weighted_max\", \"run_name\": \"SparseNormalizer, XGBoostClassifier\", \"run_properties\": \"copy=True, norm='max'\", \"primary_metric\": 0.81469456, \"best_metric\": 0.83630987}, {\"run_id\": \"AutoML_7cb00053-71eb-430d-810f-c18bcc422676_10\", \"run_number\": 1655265555, \"metric\": null, \"status\": \"Completed\", \"run_type\": null, \"training_percent\": \"100\", \"start_time\": \"2022-06-15T03:59:40.36787Z\", \"end_time\": \"2022-06-15T03:59:48.607724Z\", \"created_time\": \"2022-06-15T03:59:15.963705Z\", \"created_time_dt\": \"2022-06-15T03:59:15.963705Z\", \"duration\": \"0:00:32\", \"iteration\": \"10\", \"goal\": \"AUC_weighted_max\", \"run_name\": \"SparseNormalizer, LightGBM\", \"run_properties\": \"copy=True, norm='l1'\", \"primary_metric\": 0.82182334, \"best_metric\": 0.83630987}, {\"run_id\": \"AutoML_7cb00053-71eb-430d-810f-c18bcc422676_11\", \"run_number\": 1655265556, \"metric\": null, \"status\": \"Completed\", \"run_type\": null, \"training_percent\": \"100\", \"start_time\": \"2022-06-15T03:59:48.857555Z\", \"end_time\": \"2022-06-15T04:00:03.132753Z\", \"created_time\": \"2022-06-15T03:59:16.465833Z\", \"created_time_dt\": \"2022-06-15T03:59:16.465833Z\", \"duration\": \"0:00:46\", \"iteration\": \"11\", \"goal\": \"AUC_weighted_max\", \"run_name\": \"MaxAbsScaler, ExtremeRandomTrees\", \"run_properties\": \"copy=True\", \"primary_metric\": 0.8306783, \"best_metric\": 0.83630987}, {\"run_id\": \"AutoML_7cb00053-71eb-430d-810f-c18bcc422676_13\", \"run_number\": 1655265557, \"metric\": null, \"status\": \"Completed\", \"run_type\": null, \"training_percent\": \"100\", \"start_time\": \"2022-06-15T04:00:12.797869Z\", \"end_time\": \"2022-06-15T04:00:20.973457Z\", \"created_time\": \"2022-06-15T03:59:17.139978Z\", \"created_time_dt\": \"2022-06-15T03:59:17.139978Z\", \"duration\": \"0:01:03\", \"iteration\": \"13\", \"goal\": \"AUC_weighted_max\", \"run_name\": \"StandardScalerWrapper, ExtremeRandomTrees\", \"run_properties\": \"\\n    copy=True,\\n    with_mean=False,\\n    with_std=False\\n\", \"primary_metric\": 0.80580749, \"best_metric\": 0.83630987}, {\"run_id\": \"AutoML_7cb00053-71eb-430d-810f-c18bcc422676_15\", \"run_number\": 1655265558, \"metric\": null, \"status\": \"Completed\", \"run_type\": null, \"training_percent\": \"100\", \"start_time\": \"2022-06-15T03:59:38.900478Z\", \"end_time\": \"2022-06-15T03:59:47.082753Z\", \"created_time\": \"2022-06-15T03:59:18.027457Z\", \"created_time_dt\": \"2022-06-15T03:59:18.027457Z\", \"duration\": \"0:00:29\", \"iteration\": \"15\", \"goal\": \"AUC_weighted_max\", \"run_name\": \"MaxAbsScaler, LightGBM\", \"run_properties\": \"copy=True\", \"primary_metric\": 0.84386009, \"best_metric\": 0.84386009}, {\"run_id\": \"AutoML_7cb00053-71eb-430d-810f-c18bcc422676_18\", \"run_number\": 1655265559, \"metric\": null, \"status\": \"Completed\", \"run_type\": null, \"training_percent\": \"100\", \"start_time\": \"2022-06-15T04:00:08.2227Z\", \"end_time\": \"2022-06-15T04:00:16.264712Z\", \"created_time\": \"2022-06-15T03:59:19.252658Z\", \"created_time_dt\": \"2022-06-15T03:59:19.252658Z\", \"duration\": \"0:00:57\", \"iteration\": \"18\", \"goal\": \"AUC_weighted_max\", \"run_name\": \"StandardScalerWrapper, XGBoostClassifier\", \"run_properties\": \"\\n    copy=True,\\n    with_mean=False,\\n    with_std=False\\n\", \"primary_metric\": 0.8200117, \"best_metric\": 0.84386009}, {\"run_id\": \"AutoML_7cb00053-71eb-430d-810f-c18bcc422676_20\", \"run_number\": 1655265638, \"metric\": null, \"status\": \"Completed\", \"run_type\": \"azureml.scriptrun\", \"training_percent\": \"100\", \"start_time\": \"2022-06-15T04:01:54.635114Z\", \"end_time\": \"2022-06-15T04:01:58.522327Z\", \"created_time\": \"2022-06-15T04:00:38.252419Z\", \"created_time_dt\": \"2022-06-15T04:00:38.252419Z\", \"duration\": \"0:01:20\", \"iteration\": \"20\", \"goal\": \"AUC_weighted_max\", \"run_name\": \"MaxAbsScaler, LogisticRegression\", \"run_properties\": \"copy=True\", \"primary_metric\": 0.84384894, \"best_metric\": 0.84386009}, {\"run_id\": \"AutoML_7cb00053-71eb-430d-810f-c18bcc422676_22\", \"run_number\": 1655265646, \"metric\": null, \"status\": \"Completed\", \"run_type\": \"azureml.scriptrun\", \"training_percent\": \"100\", \"start_time\": \"2022-06-15T04:02:01.228866Z\", \"end_time\": \"2022-06-15T04:02:05.104379Z\", \"created_time\": \"2022-06-15T04:00:46.897296Z\", \"created_time_dt\": \"2022-06-15T04:00:46.897296Z\", \"duration\": \"0:01:18\", \"iteration\": \"22\", \"goal\": \"AUC_weighted_max\", \"run_name\": \"StandardScalerWrapper, XGBoostClassifier\", \"run_properties\": \"\\n    copy=True,\\n    with_mean=False,\\n    with_std=False\\n\", \"primary_metric\": 0.83855748, \"best_metric\": 0.84386009}, {\"run_id\": \"AutoML_7cb00053-71eb-430d-810f-c18bcc422676_23\", \"run_number\": 1655265707, \"metric\": null, \"status\": \"Completed\", \"run_type\": \"azureml.scriptrun\", \"training_percent\": \"100\", \"start_time\": \"2022-06-15T04:02:36.965028Z\", \"end_time\": \"2022-06-15T04:02:40.80408Z\", \"created_time\": \"2022-06-15T04:01:47.50499Z\", \"created_time_dt\": \"2022-06-15T04:01:47.50499Z\", \"duration\": \"0:00:53\", \"iteration\": \"23\", \"goal\": \"AUC_weighted_max\", \"run_name\": \"MaxAbsScaler, RandomForest\", \"run_properties\": \"copy=True\", \"primary_metric\": 0.81613534, \"best_metric\": 0.84386009}, {\"run_id\": \"AutoML_7cb00053-71eb-430d-810f-c18bcc422676_24\", \"run_number\": 1655265720, \"metric\": null, \"status\": \"Completed\", \"run_type\": \"azureml.scriptrun\", \"training_percent\": \"100\", \"start_time\": \"2022-06-15T04:03:49.091493Z\", \"end_time\": \"2022-06-15T04:03:56.798753Z\", \"created_time\": \"2022-06-15T04:02:00.75895Z\", \"created_time_dt\": \"2022-06-15T04:02:00.75895Z\", \"duration\": \"0:01:56\", \"iteration\": \"24\", \"goal\": \"AUC_weighted_max\", \"run_name\": \"SparseNormalizer, XGBoostClassifier\", \"run_properties\": \"copy=True, norm='max'\", \"primary_metric\": 0.78530815, \"best_metric\": 0.84386009}, {\"run_id\": \"AutoML_7cb00053-71eb-430d-810f-c18bcc422676_25\", \"run_number\": 1655265727, \"metric\": null, \"status\": \"Completed\", \"run_type\": \"azureml.scriptrun\", \"training_percent\": \"100\", \"start_time\": \"2022-06-15T04:03:51.764605Z\", \"end_time\": \"2022-06-15T04:03:59.619852Z\", \"created_time\": \"2022-06-15T04:02:07.81537Z\", \"created_time_dt\": \"2022-06-15T04:02:07.81537Z\", \"duration\": \"0:01:51\", \"iteration\": \"25\", \"goal\": \"AUC_weighted_max\", \"run_name\": \"StandardScalerWrapper, LightGBM\", \"run_properties\": \"\\n    copy=True,\\n    with_mean=False,\\n    with_std=True\\n\", \"primary_metric\": 0.72832185, \"best_metric\": 0.84386009}, {\"run_id\": \"AutoML_7cb00053-71eb-430d-810f-c18bcc422676_26\", \"run_number\": 1655265729, \"metric\": null, \"status\": \"Completed\", \"run_type\": \"azureml.scriptrun\", \"training_percent\": \"100\", \"start_time\": \"2022-06-15T04:04:10.429309Z\", \"end_time\": \"2022-06-15T04:04:17.418366Z\", \"created_time\": \"2022-06-15T04:02:09.983041Z\", \"created_time_dt\": \"2022-06-15T04:02:09.983041Z\", \"duration\": \"0:02:07\", \"iteration\": \"26\", \"goal\": \"AUC_weighted_max\", \"run_name\": \"SparseNormalizer, XGBoostClassifier\", \"run_properties\": \"copy=True, norm='l2'\", \"primary_metric\": 0.82216983, \"best_metric\": 0.84386009}, {\"run_id\": \"AutoML_7cb00053-71eb-430d-810f-c18bcc422676_27\", \"run_number\": 1655265762, \"metric\": null, \"status\": \"Completed\", \"run_type\": \"azureml.scriptrun\", \"training_percent\": \"100\", \"start_time\": \"2022-06-15T04:04:48.646517Z\", \"end_time\": \"2022-06-15T04:04:56.293592Z\", \"created_time\": \"2022-06-15T04:02:42.146544Z\", \"created_time_dt\": \"2022-06-15T04:02:42.146544Z\", \"duration\": \"0:02:14\", \"iteration\": \"27\", \"goal\": \"AUC_weighted_max\", \"run_name\": \"StandardScalerWrapper, RandomForest\", \"run_properties\": \"\\n    copy=True,\\n    with_mean=False,\\n    with_std=True\\n\", \"primary_metric\": 0.83786784, \"best_metric\": 0.84386009}, {\"run_id\": \"AutoML_7cb00053-71eb-430d-810f-c18bcc422676_28\", \"run_number\": 1655265838, \"metric\": null, \"status\": \"Completed\", \"run_type\": \"azureml.scriptrun\", \"training_percent\": \"100\", \"start_time\": \"2022-06-15T04:05:52.955336Z\", \"end_time\": \"2022-06-15T04:05:56.780647Z\", \"created_time\": \"2022-06-15T04:03:58.345725Z\", \"created_time_dt\": \"2022-06-15T04:03:58.345725Z\", \"duration\": \"0:01:58\", \"iteration\": \"28\", \"goal\": \"AUC_weighted_max\", \"run_name\": \"MaxAbsScaler, GradientBoosting\", \"run_properties\": \"copy=True\", \"primary_metric\": 0.81757894, \"best_metric\": 0.84386009}, {\"run_id\": \"AutoML_7cb00053-71eb-430d-810f-c18bcc422676_29\", \"run_number\": 1655265841, \"metric\": null, \"status\": \"Completed\", \"run_type\": \"azureml.scriptrun\", \"training_percent\": \"100\", \"start_time\": \"2022-06-15T04:05:59.607678Z\", \"end_time\": \"2022-06-15T04:06:03.810921Z\", \"created_time\": \"2022-06-15T04:04:01.187829Z\", \"created_time_dt\": \"2022-06-15T04:04:01.187829Z\", \"duration\": \"0:02:02\", \"iteration\": \"29\", \"goal\": \"AUC_weighted_max\", \"run_name\": \"StandardScalerWrapper, RandomForest\", \"run_properties\": \"\\n    copy=True,\\n    with_mean=False,\\n    with_std=True\\n\", \"primary_metric\": 0.82414331, \"best_metric\": 0.84386009}, {\"run_id\": \"AutoML_7cb00053-71eb-430d-810f-c18bcc422676_30\", \"run_number\": 1655265862, \"metric\": null, \"status\": \"Completed\", \"run_type\": \"azureml.scriptrun\", \"training_percent\": \"100\", \"start_time\": \"2022-06-15T04:06:08.639097Z\", \"end_time\": \"2022-06-15T04:06:12.64139Z\", \"created_time\": \"2022-06-15T04:04:22.874856Z\", \"created_time_dt\": \"2022-06-15T04:04:22.874856Z\", \"duration\": \"0:01:49\", \"iteration\": \"30\", \"goal\": \"AUC_weighted_max\", \"run_name\": \"MaxAbsScaler, LightGBM\", \"run_properties\": \"copy=True\", \"primary_metric\": 0.83322742, \"best_metric\": 0.84386009}, {\"run_id\": \"AutoML_7cb00053-71eb-430d-810f-c18bcc422676_31\", \"run_number\": 1655265898, \"metric\": null, \"status\": \"Completed\", \"run_type\": \"azureml.scriptrun\", \"training_percent\": \"100\", \"start_time\": \"2022-06-15T04:06:37.877273Z\", \"end_time\": \"2022-06-15T04:06:41.618917Z\", \"created_time\": \"2022-06-15T04:04:58.364525Z\", \"created_time_dt\": \"2022-06-15T04:04:58.364525Z\", \"duration\": \"0:01:43\", \"iteration\": \"31\", \"goal\": \"AUC_weighted_max\", \"run_name\": \"StandardScalerWrapper, XGBoostClassifier\", \"run_properties\": \"\\n    copy=True,\\n    with_mean=False,\\n    with_std=False\\n\", \"primary_metric\": 0.83280255, \"best_metric\": 0.84386009}, {\"run_id\": \"AutoML_7cb00053-71eb-430d-810f-c18bcc422676_32\", \"run_number\": 1655265958, \"metric\": null, \"status\": \"Canceled\", \"run_type\": \"azureml.scriptrun\", \"training_percent\": \"100\", \"start_time\": \"2022-06-15T04:08:12.654816Z\", \"end_time\": \"2022-06-15T04:08:13.197956Z\", \"created_time\": \"2022-06-15T04:05:58.350602Z\", \"created_time_dt\": \"2022-06-15T04:05:58.350602Z\", \"duration\": \"0:02:14\", \"iteration\": \"32\", \"goal\": \"AUC_weighted_max\", \"run_name\": \"StandardScalerWrapper, XGBoostClassifier\", \"run_properties\": \"\\n    copy=True,\\n    with_mean=False,\\n    with_std=False\\n\", \"primary_metric\": 0.82024323, \"best_metric\": 0.84386009}, {\"run_id\": \"AutoML_7cb00053-71eb-430d-810f-c18bcc422676_33\", \"run_number\": 1655265969, \"metric\": null, \"status\": \"Completed\", \"run_type\": \"azureml.scriptrun\", \"training_percent\": \"100\", \"start_time\": \"2022-06-15T04:08:04.814002Z\", \"end_time\": \"2022-06-15T04:08:08.739157Z\", \"created_time\": \"2022-06-15T04:06:09.21214Z\", \"created_time_dt\": \"2022-06-15T04:06:09.21214Z\", \"duration\": \"0:01:59\", \"iteration\": \"33\", \"goal\": \"AUC_weighted_max\", \"run_name\": \"TruncatedSVDWrapper, XGBoostClassifier\", \"run_properties\": \"n_components=0.95, random_state=None\", \"primary_metric\": 0.79053805, \"best_metric\": 0.84386009}, {\"run_id\": \"AutoML_7cb00053-71eb-430d-810f-c18bcc422676_34\", \"run_number\": 1655265973, \"metric\": null, \"status\": \"Completed\", \"run_type\": \"azureml.scriptrun\", \"training_percent\": \"100\", \"start_time\": \"2022-06-15T04:08:03.827566Z\", \"end_time\": \"2022-06-15T04:08:09.79207Z\", \"created_time\": \"2022-06-15T04:06:13.87778Z\", \"created_time_dt\": \"2022-06-15T04:06:13.87778Z\", \"duration\": \"0:01:55\", \"iteration\": \"34\", \"goal\": \"AUC_weighted_max\", \"run_name\": \"TruncatedSVDWrapper, XGBoostClassifier\", \"run_properties\": \"n_components=0.8510526315789474, random_state=None\", \"primary_metric\": 0.80778385, \"best_metric\": 0.84386009}, {\"run_id\": \"AutoML_7cb00053-71eb-430d-810f-c18bcc422676_35\", \"run_number\": 1655266003, \"metric\": null, \"status\": \"Canceled\", \"run_type\": \"azureml.scriptrun\", \"training_percent\": \"100\", \"start_time\": \"2022-06-15T04:08:12.730206Z\", \"end_time\": \"2022-06-15T04:08:12.934597Z\", \"created_time\": \"2022-06-15T04:06:43.767783Z\", \"created_time_dt\": \"2022-06-15T04:06:43.767783Z\", \"duration\": \"0:01:29\", \"iteration\": \"35\", \"goal\": null, \"run_name\": \"Canceled\", \"run_properties\": null}, {\"run_id\": \"AutoML_7cb00053-71eb-430d-810f-c18bcc422676_37\", \"run_number\": 1655266093, \"metric\": null, \"status\": \"Completed\", \"run_type\": \"azureml.scriptrun\", \"training_percent\": \"100\", \"start_time\": \"2022-06-15T04:09:59.692619Z\", \"end_time\": \"2022-06-15T04:10:03.953275Z\", \"created_time\": \"2022-06-15T04:08:13.891734Z\", \"created_time_dt\": \"2022-06-15T04:08:13.891734Z\", \"duration\": \"0:01:50\", \"iteration\": \"37\", \"goal\": \"AUC_weighted_max\", \"run_name\": \"StackEnsemble\", \"run_properties\": \"\\n    base_learners=[('15', Pipeline(\\n        memory=None,\\n        steps=[('maxabsscaler', MaxAbsScaler(\\n            copy=True\\n        \", \"primary_metric\": 0.84665385, \"best_metric\": 0.84665385}], \"children_metrics\": {\"categories\": [0], \"series\": {\"AUC_weighted\": [{\"categories\": [\"0\", \"2\", \"5\", \"10\", \"11\", \"13\", \"15\", \"18\", \"20\", \"22\", \"23\", \"24\", \"25\", \"26\", \"27\", \"28\", \"29\", \"30\", \"31\", \"32\", \"33\", \"34\", \"37\"], \"mode\": \"markers\", \"name\": \"AUC_weighted\", \"stepped\": false, \"type\": \"scatter\", \"data\": [0.8048352654439767, 0.8363098740519841, 0.814694559991698, 0.8218233368724513, 0.8306782972906007, 0.805807491869309, 0.8438600935285557, 0.8200116959425877, 0.8438489419682903, 0.8385574799230803, 0.8161353352634455, 0.7853081520519926, 0.7283218451866741, 0.8221698349433567, 0.837867842532857, 0.8175789442002462, 0.8241433133694499, 0.8332274193289889, 0.8328025529024449, 0.8202432270468271, 0.7905380520438662, 0.8077838463069775, 0.8466538459283623]}, {\"categories\": [\"0\", \"2\", \"5\", \"10\", \"11\", \"13\", \"15\", \"18\", \"20\", \"22\", \"23\", \"24\", \"25\", \"26\", \"27\", \"28\", \"29\", \"30\", \"31\", \"32\", \"33\", \"34\", \"37\"], \"mode\": \"lines\", \"name\": \"AUC_weighted_max\", \"stepped\": true, \"type\": \"scatter\", \"data\": [0.8048352654439767, 0.8363098740519841, 0.8363098740519841, 0.8363098740519841, 0.8363098740519841, 0.8363098740519841, 0.8438600935285557, 0.8438600935285557, 0.8438600935285557, 0.8438600935285557, 0.8438600935285557, 0.8438600935285557, 0.8438600935285557, 0.8438600935285557, 0.8438600935285557, 0.8438600935285557, 0.8438600935285557, 0.8438600935285557, 0.8438600935285557, 0.8438600935285557, 0.8438600935285557, 0.8438600935285557, 0.8466538459283623]}], \"log_loss\": [{\"categories\": [\"0\", \"2\", \"5\", \"10\", \"11\", \"13\", \"15\", \"18\", \"20\", \"22\", \"23\", \"24\", \"25\", \"26\", \"27\", \"28\", \"29\", \"30\", \"31\", \"32\", \"33\", \"34\", \"37\"], \"mode\": \"markers\", \"name\": \"log_loss\", \"stepped\": false, \"type\": \"scatter\", \"data\": [0.19165189333340296, 0.1496879916446953, 0.28061461709338037, 0.14926539570439937, 0.481102224709766, 0.16125513436612926, 0.14894274023122966, 0.2812318155366525, 0.14352207064451625, 0.14613171225970414, 0.503310359042659, 0.2832559727867822, 0.15493238203111012, 0.15623975940058552, 0.14552750532332845, 0.1475102914651879, 0.5190205759622586, 0.17589141782338877, 0.14855252777924435, 0.15403209946814653, 0.28350947905834717, 0.16220767394604363, 0.16306696979901128]}, {\"categories\": [\"0\", \"2\", \"5\", \"10\", \"11\", \"13\", \"15\", \"18\", \"20\", \"22\", \"23\", \"24\", \"25\", \"26\", \"27\", \"28\", \"29\", \"30\", \"31\", \"32\", \"33\", \"34\", \"37\"], \"mode\": \"lines\", \"name\": \"log_loss_min\", \"stepped\": true, \"type\": \"scatter\", \"data\": [0.19165189333340296, 0.1496879916446953, 0.1496879916446953, 0.14926539570439937, 0.14926539570439937, 0.14926539570439937, 0.14894274023122966, 0.14894274023122966, 0.14352207064451625, 0.14352207064451625, 0.14352207064451625, 0.14352207064451625, 0.14352207064451625, 0.14352207064451625, 0.14352207064451625, 0.14352207064451625, 0.14352207064451625, 0.14352207064451625, 0.14352207064451625, 0.14352207064451625, 0.14352207064451625, 0.14352207064451625, 0.14352207064451625]}], \"f1_score_micro\": [{\"categories\": [\"0\", \"2\", \"5\", \"10\", \"11\", \"13\", \"15\", \"18\", \"20\", \"22\", \"23\", \"24\", \"25\", \"26\", \"27\", \"28\", \"29\", \"30\", \"31\", \"32\", \"33\", \"34\", \"37\"], \"mode\": \"markers\", \"name\": \"f1_score_micro\", \"stepped\": false, \"type\": \"scatter\", \"data\": [0.9521281998049388, 0.9574246775986645, 0.9568134306548992, 0.9574246775986645, 0.7341594813101072, 0.9574246775986645, 0.9574246775986645, 0.9576284265799195, 0.9574248020635278, 0.9570171796361544, 0.6919993736928077, 0.9574246775986645, 0.9576283021150562, 0.9547766876315281, 0.9574246775986645, 0.9574246775986645, 0.6514624123580665, 0.9574246775986645, 0.957017428565881, 0.9555911856970954, 0.9568136795846259, 0.9545726897205465, 0.9574246775986645]}, {\"categories\": [\"0\", \"2\", \"5\", \"10\", \"11\", \"13\", \"15\", \"18\", \"20\", \"22\", \"23\", \"24\", \"25\", \"26\", \"27\", \"28\", \"29\", \"30\", \"31\", \"32\", \"33\", \"34\", \"37\"], \"mode\": \"lines\", \"name\": \"f1_score_micro_max\", \"stepped\": true, \"type\": \"scatter\", \"data\": [0.9521281998049388, 0.9574246775986645, 0.9574246775986645, 0.9574246775986645, 0.9574246775986645, 0.9574246775986645, 0.9574246775986645, 0.9576284265799195, 0.9576284265799195, 0.9576284265799195, 0.9576284265799195, 0.9576284265799195, 0.9576284265799195, 0.9576284265799195, 0.9576284265799195, 0.9576284265799195, 0.9576284265799195, 0.9576284265799195, 0.9576284265799195, 0.9576284265799195, 0.9576284265799195, 0.9576284265799195, 0.9576284265799195]}], \"precision_score_macro\": [{\"categories\": [\"0\", \"2\", \"5\", \"10\", \"11\", \"13\", \"15\", \"18\", \"20\", \"22\", \"23\", \"24\", \"25\", \"26\", \"27\", \"28\", \"29\", \"30\", \"31\", \"32\", \"33\", \"34\", \"37\"], \"mode\": \"markers\", \"name\": \"precision_score_macro\", \"stepped\": false, \"type\": \"scatter\", \"data\": [0.595281403476362, 0.4787123387993322, 0.520457978354886, 0.4787123387993322, 0.552819611133554, 0.4787123387993322, 0.4787123387993322, 0.6454762068148546, 0.645472099474365, 0.5900008100922279, 0.5455422243930742, 0.4787123387993322, 0.6454767726161369, 0.5904232894123651, 0.4787123387993322, 0.4787123387993322, 0.5442132561745594, 0.4787123387993322, 0.666765099342339, 0.5576580896073691, 0.5621258002413044, 0.581897311741079, 0.4787123387993322]}, {\"categories\": [\"0\", \"2\", \"5\", \"10\", \"11\", \"13\", \"15\", \"18\", \"20\", \"22\", \"23\", \"24\", \"25\", \"26\", \"27\", \"28\", \"29\", \"30\", \"31\", \"32\", \"33\", \"34\", \"37\"], \"mode\": \"lines\", \"name\": \"precision_score_macro_max\", \"stepped\": true, \"type\": \"scatter\", \"data\": [0.595281403476362, 0.595281403476362, 0.595281403476362, 0.595281403476362, 0.595281403476362, 0.595281403476362, 0.595281403476362, 0.6454762068148546, 0.6454762068148546, 0.6454762068148546, 0.6454762068148546, 0.6454762068148546, 0.6454767726161369, 0.6454767726161369, 0.6454767726161369, 0.6454767726161369, 0.6454767726161369, 0.6454767726161369, 0.666765099342339, 0.666765099342339, 0.666765099342339, 0.666765099342339, 0.666765099342339]}], \"norm_macro_recall\": [{\"categories\": [\"0\", \"2\", \"5\", \"10\", \"11\", \"13\", \"15\", \"18\", \"20\", \"22\", \"23\", \"24\", \"25\", \"26\", \"27\", \"28\", \"29\", \"30\", \"31\", \"32\", \"33\", \"34\", \"37\"], \"mode\": \"markers\", \"name\": \"norm_macro_recall\", \"stepped\": false, \"type\": \"scatter\", \"data\": [0.04004138525651091, 0.0, 0.0037449392712550398, 0.0, 0.5347941100943506, 0.0, 0.0, 0.004385964912280678, 0.004385964912280678, 0.008558254610886218, 0.4964837103964252, 0.0, 0.005050505050505046, 0.030076744621360785, 0.0, 0.0, 0.5092128642934274, 0.0, 0.02680734494132782, 0.012208041224839613, 0.004172289698605465, 0.019730140607652363, 0.0]}, {\"categories\": [\"0\", \"2\", \"5\", \"10\", \"11\", \"13\", \"15\", \"18\", \"20\", \"22\", \"23\", \"24\", \"25\", \"26\", \"27\", \"28\", \"29\", \"30\", \"31\", \"32\", \"33\", \"34\", \"37\"], \"mode\": \"lines\", \"name\": \"norm_macro_recall_max\", \"stepped\": true, \"type\": \"scatter\", \"data\": [0.04004138525651091, 0.04004138525651091, 0.04004138525651091, 0.04004138525651091, 0.5347941100943506, 0.5347941100943506, 0.5347941100943506, 0.5347941100943506, 0.5347941100943506, 0.5347941100943506, 0.5347941100943506, 0.5347941100943506, 0.5347941100943506, 0.5347941100943506, 0.5347941100943506, 0.5347941100943506, 0.5347941100943506, 0.5347941100943506, 0.5347941100943506, 0.5347941100943506, 0.5347941100943506, 0.5347941100943506, 0.5347941100943506]}], \"recall_score_weighted\": [{\"categories\": [\"0\", \"2\", \"5\", \"10\", \"11\", \"13\", \"15\", \"18\", \"20\", \"22\", \"23\", \"24\", \"25\", \"26\", \"27\", \"28\", \"29\", \"30\", \"31\", \"32\", \"33\", \"34\", \"37\"], \"mode\": \"markers\", \"name\": \"recall_score_weighted\", \"stepped\": false, \"type\": \"scatter\", \"data\": [0.9521281998049388, 0.9574246775986645, 0.9568134306548992, 0.9574246775986645, 0.7341594813101073, 0.9574246775986645, 0.9574246775986645, 0.9576284265799195, 0.9574248020635278, 0.9570171796361544, 0.6919993736928077, 0.9574246775986645, 0.9576283021150562, 0.9547766876315281, 0.9574246775986645, 0.9574246775986645, 0.6514624123580665, 0.9574246775986645, 0.957017428565881, 0.9555911856970954, 0.9568136795846259, 0.9545726897205465, 0.9574246775986645]}, {\"categories\": [\"0\", \"2\", \"5\", \"10\", \"11\", \"13\", \"15\", \"18\", \"20\", \"22\", \"23\", \"24\", \"25\", \"26\", \"27\", \"28\", \"29\", \"30\", \"31\", \"32\", \"33\", \"34\", \"37\"], \"mode\": \"lines\", \"name\": \"recall_score_weighted_max\", \"stepped\": true, \"type\": \"scatter\", \"data\": [0.9521281998049388, 0.9574246775986645, 0.9574246775986645, 0.9574246775986645, 0.9574246775986645, 0.9574246775986645, 0.9574246775986645, 0.9576284265799195, 0.9576284265799195, 0.9576284265799195, 0.9576284265799195, 0.9576284265799195, 0.9576284265799195, 0.9576284265799195, 0.9576284265799195, 0.9576284265799195, 0.9576284265799195, 0.9576284265799195, 0.9576284265799195, 0.9576284265799195, 0.9576284265799195, 0.9576284265799195, 0.9576284265799195]}], \"weighted_accuracy\": [{\"categories\": [\"0\", \"2\", \"5\", \"10\", \"11\", \"13\", \"15\", \"18\", \"20\", \"22\", \"23\", \"24\", \"25\", \"26\", \"27\", \"28\", \"29\", \"30\", \"31\", \"32\", \"33\", \"34\", \"37\"], \"mode\": \"markers\", \"name\": \"weighted_accuracy\", \"stepped\": false, \"type\": \"scatter\", \"data\": [0.9904719407763061, 0.9980167186824357, 0.997175533194968, 0.9980167186824357, 0.7312114056579663, 0.9980167186824357, 0.9980167186824357, 0.9980271038519763, 0.9978152986011746, 0.9971881312066363, 0.6870550192981074, 0.9980167186824357, 0.9980256169297642, 0.9938377466163587, 0.9980167186824357, 0.9980167186824357, 0.6424107628237211, 0.9980167186824357, 0.9963779469288055, 0.9954976567700665, 0.9971782612324004, 0.9940299537775216, 0.9980167186824357]}, {\"categories\": [\"0\", \"2\", \"5\", \"10\", \"11\", \"13\", \"15\", \"18\", \"20\", \"22\", \"23\", \"24\", \"25\", \"26\", \"27\", \"28\", \"29\", \"30\", \"31\", \"32\", \"33\", \"34\", \"37\"], \"mode\": \"lines\", \"name\": \"weighted_accuracy_max\", \"stepped\": true, \"type\": \"scatter\", \"data\": [0.9904719407763061, 0.9980167186824357, 0.9980167186824357, 0.9980167186824357, 0.9980167186824357, 0.9980167186824357, 0.9980167186824357, 0.9980271038519763, 0.9980271038519763, 0.9980271038519763, 0.9980271038519763, 0.9980271038519763, 0.9980271038519763, 0.9980271038519763, 0.9980271038519763, 0.9980271038519763, 0.9980271038519763, 0.9980271038519763, 0.9980271038519763, 0.9980271038519763, 0.9980271038519763, 0.9980271038519763, 0.9980271038519763]}], \"AUC_macro\": [{\"categories\": [\"0\", \"2\", \"5\", \"10\", \"11\", \"13\", \"15\", \"18\", \"20\", \"22\", \"23\", \"24\", \"25\", \"26\", \"27\", \"28\", \"29\", \"30\", \"31\", \"32\", \"33\", \"34\", \"37\"], \"mode\": \"markers\", \"name\": \"AUC_macro\", \"stepped\": false, \"type\": \"scatter\", \"data\": [0.8048352654439767, 0.8363098740519841, 0.814694559991698, 0.8218233368724513, 0.8306782972906005, 0.805807491869309, 0.8438600935285555, 0.8200116959425877, 0.8438489419682901, 0.8385574799230802, 0.8161353352634455, 0.7853081520519926, 0.7283218451866741, 0.8221698349433567, 0.837867842532857, 0.8175789442002465, 0.8241433133694499, 0.8332274193289891, 0.8328025529024449, 0.8202432270468271, 0.7905380520438662, 0.8077838463069775, 0.8466538459283625]}, {\"categories\": [\"0\", \"2\", \"5\", \"10\", \"11\", \"13\", \"15\", \"18\", \"20\", \"22\", \"23\", \"24\", \"25\", \"26\", \"27\", \"28\", \"29\", \"30\", \"31\", \"32\", \"33\", \"34\", \"37\"], \"mode\": \"lines\", \"name\": \"AUC_macro_max\", \"stepped\": true, \"type\": \"scatter\", \"data\": [0.8048352654439767, 0.8363098740519841, 0.8363098740519841, 0.8363098740519841, 0.8363098740519841, 0.8363098740519841, 0.8438600935285555, 0.8438600935285555, 0.8438600935285555, 0.8438600935285555, 0.8438600935285555, 0.8438600935285555, 0.8438600935285555, 0.8438600935285555, 0.8438600935285555, 0.8438600935285555, 0.8438600935285555, 0.8438600935285555, 0.8438600935285555, 0.8438600935285555, 0.8438600935285555, 0.8438600935285555, 0.8466538459283625]}], \"accuracy\": [{\"categories\": [\"0\", \"2\", \"5\", \"10\", \"11\", \"13\", \"15\", \"18\", \"20\", \"22\", \"23\", \"24\", \"25\", \"26\", \"27\", \"28\", \"29\", \"30\", \"31\", \"32\", \"33\", \"34\", \"37\"], \"mode\": \"markers\", \"name\": \"accuracy\", \"stepped\": false, \"type\": \"scatter\", \"data\": [0.9521281998049388, 0.9574246775986645, 0.9568134306548992, 0.9574246775986645, 0.7341594813101073, 0.9574246775986645, 0.9574246775986645, 0.9576284265799195, 0.9574248020635278, 0.9570171796361544, 0.6919993736928077, 0.9574246775986645, 0.9576283021150562, 0.9547766876315281, 0.9574246775986645, 0.9574246775986645, 0.6514624123580665, 0.9574246775986645, 0.957017428565881, 0.9555911856970954, 0.9568136795846259, 0.9545726897205465, 0.9574246775986645]}, {\"categories\": [\"0\", \"2\", \"5\", \"10\", \"11\", \"13\", \"15\", \"18\", \"20\", \"22\", \"23\", \"24\", \"25\", \"26\", \"27\", \"28\", \"29\", \"30\", \"31\", \"32\", \"33\", \"34\", \"37\"], \"mode\": \"lines\", \"name\": \"accuracy_max\", \"stepped\": true, \"type\": \"scatter\", \"data\": [0.9521281998049388, 0.9574246775986645, 0.9574246775986645, 0.9574246775986645, 0.9574246775986645, 0.9574246775986645, 0.9574246775986645, 0.9576284265799195, 0.9576284265799195, 0.9576284265799195, 0.9576284265799195, 0.9576284265799195, 0.9576284265799195, 0.9576284265799195, 0.9576284265799195, 0.9576284265799195, 0.9576284265799195, 0.9576284265799195, 0.9576284265799195, 0.9576284265799195, 0.9576284265799195, 0.9576284265799195, 0.9576284265799195]}], \"f1_score_macro\": [{\"categories\": [\"0\", \"2\", \"5\", \"10\", \"11\", \"13\", \"15\", \"18\", \"20\", \"22\", \"23\", \"24\", \"25\", \"26\", \"27\", \"28\", \"29\", \"30\", \"31\", \"32\", \"33\", \"34\", \"37\"], \"mode\": \"markers\", \"name\": \"f1_score_macro\", \"stepped\": false, \"type\": \"scatter\", \"data\": [0.5269674255039404, 0.4891236455109908, 0.4931278121713292, 0.4891236455109908, 0.5225398316627629, 0.4891236455109908, 0.4891236455109908, 0.4935035742153391, 0.4934505353645915, 0.49745152111896873, 0.49653633458284424, 0.4891236455109908, 0.4941496703378017, 0.51705729469413, 0.4891236455109908, 0.4891236455109908, 0.47703634331968847, 0.4891236455109908, 0.5148373463293915, 0.5015761829507227, 0.4932354515431987, 0.5095902062469136, 0.4891236455109908]}, {\"categories\": [\"0\", \"2\", \"5\", \"10\", \"11\", \"13\", \"15\", \"18\", \"20\", \"22\", \"23\", \"24\", \"25\", \"26\", \"27\", \"28\", \"29\", \"30\", \"31\", \"32\", \"33\", \"34\", \"37\"], \"mode\": \"lines\", \"name\": \"f1_score_macro_max\", \"stepped\": true, \"type\": \"scatter\", \"data\": [0.5269674255039404, 0.5269674255039404, 0.5269674255039404, 0.5269674255039404, 0.5269674255039404, 0.5269674255039404, 0.5269674255039404, 0.5269674255039404, 0.5269674255039404, 0.5269674255039404, 0.5269674255039404, 0.5269674255039404, 0.5269674255039404, 0.5269674255039404, 0.5269674255039404, 0.5269674255039404, 0.5269674255039404, 0.5269674255039404, 0.5269674255039404, 0.5269674255039404, 0.5269674255039404, 0.5269674255039404, 0.5269674255039404]}], \"matthews_correlation\": [{\"categories\": [\"0\", \"2\", \"5\", \"10\", \"11\", \"13\", \"15\", \"18\", \"20\", \"22\", \"23\", \"24\", \"25\", \"26\", \"27\", \"28\", \"29\", \"30\", \"31\", \"32\", \"33\", \"34\", \"37\"], \"mode\": \"markers\", \"name\": \"matthews_correlation\", \"stepped\": false, \"type\": \"scatter\", \"data\": [0.08680409098396275, 0.0, 0.014256151783048945, 0.0, 0.23755315087591197, 0.0, 0.0, 0.03734868967473357, 0.03565952896584491, 0.039149412014675124, 0.21253161808264054, 0.0, 0.040207143540365024, 0.07192096042747956, 0.0, 0.0, 0.21203026923858626, 0.0, 0.09215995981574544, 0.03624594333781972, 0.021037502115093015, 0.05656307857094902, 0.0]}, {\"categories\": [\"0\", \"2\", \"5\", \"10\", \"11\", \"13\", \"15\", \"18\", \"20\", \"22\", \"23\", \"24\", \"25\", \"26\", \"27\", \"28\", \"29\", \"30\", \"31\", \"32\", \"33\", \"34\", \"37\"], \"mode\": \"lines\", \"name\": \"matthews_correlation_max\", \"stepped\": true, \"type\": \"scatter\", \"data\": [0.08680409098396275, 0.08680409098396275, 0.08680409098396275, 0.08680409098396275, 0.23755315087591197, 0.23755315087591197, 0.23755315087591197, 0.23755315087591197, 0.23755315087591197, 0.23755315087591197, 0.23755315087591197, 0.23755315087591197, 0.23755315087591197, 0.23755315087591197, 0.23755315087591197, 0.23755315087591197, 0.23755315087591197, 0.23755315087591197, 0.23755315087591197, 0.23755315087591197, 0.23755315087591197, 0.23755315087591197, 0.23755315087591197]}], \"precision_score_micro\": [{\"categories\": [\"0\", \"2\", \"5\", \"10\", \"11\", \"13\", \"15\", \"18\", \"20\", \"22\", \"23\", \"24\", \"25\", \"26\", \"27\", \"28\", \"29\", \"30\", \"31\", \"32\", \"33\", \"34\", \"37\"], \"mode\": \"markers\", \"name\": \"precision_score_micro\", \"stepped\": false, \"type\": \"scatter\", \"data\": [0.9521281998049388, 0.9574246775986645, 0.9568134306548992, 0.9574246775986645, 0.7341594813101073, 0.9574246775986645, 0.9574246775986645, 0.9576284265799195, 0.9574248020635278, 0.9570171796361544, 0.6919993736928077, 0.9574246775986645, 0.9576283021150562, 0.9547766876315281, 0.9574246775986645, 0.9574246775986645, 0.6514624123580665, 0.9574246775986645, 0.957017428565881, 0.9555911856970954, 0.9568136795846259, 0.9545726897205465, 0.9574246775986645]}, {\"categories\": [\"0\", \"2\", \"5\", \"10\", \"11\", \"13\", \"15\", \"18\", \"20\", \"22\", \"23\", \"24\", \"25\", \"26\", \"27\", \"28\", \"29\", \"30\", \"31\", \"32\", \"33\", \"34\", \"37\"], \"mode\": \"lines\", \"name\": \"precision_score_micro_max\", \"stepped\": true, \"type\": \"scatter\", \"data\": [0.9521281998049388, 0.9574246775986645, 0.9574246775986645, 0.9574246775986645, 0.9574246775986645, 0.9574246775986645, 0.9574246775986645, 0.9576284265799195, 0.9576284265799195, 0.9576284265799195, 0.9576284265799195, 0.9576284265799195, 0.9576284265799195, 0.9576284265799195, 0.9576284265799195, 0.9576284265799195, 0.9576284265799195, 0.9576284265799195, 0.9576284265799195, 0.9576284265799195, 0.9576284265799195, 0.9576284265799195, 0.9576284265799195]}], \"average_precision_score_macro\": [{\"categories\": [\"0\", \"2\", \"5\", \"10\", \"11\", \"13\", \"15\", \"18\", \"20\", \"22\", \"23\", \"24\", \"25\", \"26\", \"27\", \"28\", \"29\", \"30\", \"31\", \"32\", \"33\", \"34\", \"37\"], \"mode\": \"markers\", \"name\": \"average_precision_score_macro\", \"stepped\": false, \"type\": \"scatter\", \"data\": [0.5622640890241352, 0.5783648109141093, 0.5722284103422746, 0.5687910249490625, 0.5781854950794475, 0.5665287228755657, 0.5825416600353499, 0.576500923767944, 0.5915873820603375, 0.5797907571560682, 0.5739618978713329, 0.5597912183114331, 0.5559586628782979, 0.5793482209177311, 0.5881991766936373, 0.5649756878280477, 0.5741461285293862, 0.5808578936870669, 0.5803365105470067, 0.5707502941166605, 0.5575744973582738, 0.5680196602356445, 0.5895720079058989]}, {\"categories\": [\"0\", \"2\", \"5\", \"10\", \"11\", \"13\", \"15\", \"18\", \"20\", \"22\", \"23\", \"24\", \"25\", \"26\", \"27\", \"28\", \"29\", \"30\", \"31\", \"32\", \"33\", \"34\", \"37\"], \"mode\": \"lines\", \"name\": \"average_precision_score_macro_max\", \"stepped\": true, \"type\": \"scatter\", \"data\": [0.5622640890241352, 0.5783648109141093, 0.5783648109141093, 0.5783648109141093, 0.5783648109141093, 0.5783648109141093, 0.5825416600353499, 0.5825416600353499, 0.5915873820603375, 0.5915873820603375, 0.5915873820603375, 0.5915873820603375, 0.5915873820603375, 0.5915873820603375, 0.5915873820603375, 0.5915873820603375, 0.5915873820603375, 0.5915873820603375, 0.5915873820603375, 0.5915873820603375, 0.5915873820603375, 0.5915873820603375, 0.5915873820603375]}], \"AUC_micro\": [{\"categories\": [\"0\", \"2\", \"5\", \"10\", \"11\", \"13\", \"15\", \"18\", \"20\", \"22\", \"23\", \"24\", \"25\", \"26\", \"27\", \"28\", \"29\", \"30\", \"31\", \"32\", \"33\", \"34\", \"37\"], \"mode\": \"markers\", \"name\": \"AUC_micro\", \"stepped\": false, \"type\": \"scatter\", \"data\": [0.9820875093711159, 0.9848272037584568, 0.9830482468333205, 0.9836588801990854, 0.8376989253050379, 0.9822425145487764, 0.9854217383345923, 0.9834916683359252, 0.9854150738921114, 0.9849994440715375, 0.8239501851450597, 0.9806276609829133, 0.9752241417138982, 0.9836021901129669, 0.9849389602971916, 0.9832289818274059, 0.8162214011903325, 0.9845574517286074, 0.9845265243528258, 0.9835100028921181, 0.9810745982287292, 0.9824773568969493, 0.9856510230385132]}, {\"categories\": [\"0\", \"2\", \"5\", \"10\", \"11\", \"13\", \"15\", \"18\", \"20\", \"22\", \"23\", \"24\", \"25\", \"26\", \"27\", \"28\", \"29\", \"30\", \"31\", \"32\", \"33\", \"34\", \"37\"], \"mode\": \"lines\", \"name\": \"AUC_micro_max\", \"stepped\": true, \"type\": \"scatter\", \"data\": [0.9820875093711159, 0.9848272037584568, 0.9848272037584568, 0.9848272037584568, 0.9848272037584568, 0.9848272037584568, 0.9854217383345923, 0.9854217383345923, 0.9854217383345923, 0.9854217383345923, 0.9854217383345923, 0.9854217383345923, 0.9854217383345923, 0.9854217383345923, 0.9854217383345923, 0.9854217383345923, 0.9854217383345923, 0.9854217383345923, 0.9854217383345923, 0.9854217383345923, 0.9854217383345923, 0.9854217383345923, 0.9856510230385132]}], \"average_precision_score_micro\": [{\"categories\": [\"0\", \"2\", \"5\", \"10\", \"11\", \"13\", \"15\", \"18\", \"20\", \"22\", \"23\", \"24\", \"25\", \"26\", \"27\", \"28\", \"29\", \"30\", \"31\", \"32\", \"33\", \"34\", \"37\"], \"mode\": \"markers\", \"name\": \"average_precision_score_micro\", \"stepped\": false, \"type\": \"scatter\", \"data\": [0.9817121206722429, 0.9843963618085411, 0.9821033152473307, 0.9834707288877046, 0.8496648604217513, 0.9818345960826176, 0.9854844960130794, 0.9805278215782782, 0.9854279848085822, 0.9851314384292355, 0.8428153812976283, 0.9770753101643628, 0.9681152746722854, 0.9834442137871635, 0.9849921528024396, 0.9830223609570208, 0.8402393197373472, 0.9845127431551228, 0.9846918122310163, 0.9836884694612015, 0.9793023842247565, 0.981793052941713, 0.9856338678321018]}, {\"categories\": [\"0\", \"2\", \"5\", \"10\", \"11\", \"13\", \"15\", \"18\", \"20\", \"22\", \"23\", \"24\", \"25\", \"26\", \"27\", \"28\", \"29\", \"30\", \"31\", \"32\", \"33\", \"34\", \"37\"], \"mode\": \"lines\", \"name\": \"average_precision_score_micro_max\", \"stepped\": true, \"type\": \"scatter\", \"data\": [0.9817121206722429, 0.9843963618085411, 0.9843963618085411, 0.9843963618085411, 0.9843963618085411, 0.9843963618085411, 0.9854844960130794, 0.9854844960130794, 0.9854844960130794, 0.9854844960130794, 0.9854844960130794, 0.9854844960130794, 0.9854844960130794, 0.9854844960130794, 0.9854844960130794, 0.9854844960130794, 0.9854844960130794, 0.9854844960130794, 0.9854844960130794, 0.9854844960130794, 0.9854844960130794, 0.9854844960130794, 0.9856338678321018]}], \"recall_score_macro\": [{\"categories\": [\"0\", \"2\", \"5\", \"10\", \"11\", \"13\", \"15\", \"18\", \"20\", \"22\", \"23\", \"24\", \"25\", \"26\", \"27\", \"28\", \"29\", \"30\", \"31\", \"32\", \"33\", \"34\", \"37\"], \"mode\": \"markers\", \"name\": \"recall_score_macro\", \"stepped\": false, \"type\": \"scatter\", \"data\": [0.5200206926282555, 0.5, 0.5017662448640108, 0.5, 0.7673970550471753, 0.5, 0.5, 0.5021929824561403, 0.5020868929165689, 0.5039604529905929, 0.7482418551982125, 0.5, 0.5025252525252525, 0.5144018350732521, 0.5, 0.5, 0.7546064321467137, 0.5, 0.513191493391521, 0.505891841533277, 0.5017677409985432, 0.5098650703038262, 0.5]}, {\"categories\": [\"0\", \"2\", \"5\", \"10\", \"11\", \"13\", \"15\", \"18\", \"20\", \"22\", \"23\", \"24\", \"25\", \"26\", \"27\", \"28\", \"29\", \"30\", \"31\", \"32\", \"33\", \"34\", \"37\"], \"mode\": \"lines\", \"name\": \"recall_score_macro_max\", \"stepped\": true, \"type\": \"scatter\", \"data\": [0.5200206926282555, 0.5200206926282555, 0.5200206926282555, 0.5200206926282555, 0.7673970550471753, 0.7673970550471753, 0.7673970550471753, 0.7673970550471753, 0.7673970550471753, 0.7673970550471753, 0.7673970550471753, 0.7673970550471753, 0.7673970550471753, 0.7673970550471753, 0.7673970550471753, 0.7673970550471753, 0.7673970550471753, 0.7673970550471753, 0.7673970550471753, 0.7673970550471753, 0.7673970550471753, 0.7673970550471753, 0.7673970550471753]}], \"balanced_accuracy\": [{\"categories\": [\"0\", \"2\", \"5\", \"10\", \"11\", \"13\", \"15\", \"18\", \"20\", \"22\", \"23\", \"24\", \"25\", \"26\", \"27\", \"28\", \"29\", \"30\", \"31\", \"32\", \"33\", \"34\", \"37\"], \"mode\": \"markers\", \"name\": \"balanced_accuracy\", \"stepped\": false, \"type\": \"scatter\", \"data\": [0.5200206926282555, 0.5, 0.5017662448640108, 0.5, 0.7673970550471753, 0.5, 0.5, 0.5021929824561403, 0.5020868929165689, 0.5039604529905929, 0.7482418551982125, 0.5, 0.5025252525252525, 0.5144018350732521, 0.5, 0.5, 0.7546064321467137, 0.5, 0.513191493391521, 0.505891841533277, 0.5017677409985432, 0.5098650703038262, 0.5]}, {\"categories\": [\"0\", \"2\", \"5\", \"10\", \"11\", \"13\", \"15\", \"18\", \"20\", \"22\", \"23\", \"24\", \"25\", \"26\", \"27\", \"28\", \"29\", \"30\", \"31\", \"32\", \"33\", \"34\", \"37\"], \"mode\": \"lines\", \"name\": \"balanced_accuracy_max\", \"stepped\": true, \"type\": \"scatter\", \"data\": [0.5200206926282555, 0.5200206926282555, 0.5200206926282555, 0.5200206926282555, 0.7673970550471753, 0.7673970550471753, 0.7673970550471753, 0.7673970550471753, 0.7673970550471753, 0.7673970550471753, 0.7673970550471753, 0.7673970550471753, 0.7673970550471753, 0.7673970550471753, 0.7673970550471753, 0.7673970550471753, 0.7673970550471753, 0.7673970550471753, 0.7673970550471753, 0.7673970550471753, 0.7673970550471753, 0.7673970550471753, 0.7673970550471753]}], \"f1_score_weighted\": [{\"categories\": [\"0\", \"2\", \"5\", \"10\", \"11\", \"13\", \"15\", \"18\", \"20\", \"22\", \"23\", \"24\", \"25\", \"26\", \"27\", \"28\", \"29\", \"30\", \"31\", \"32\", \"33\", \"34\", \"37\"], \"mode\": \"markers\", \"name\": \"f1_score_weighted\", \"stepped\": false, \"type\": \"scatter\", \"data\": [0.9372587548741151, 0.9366020641753475, 0.9366787007341403, 0.9366020641753475, 0.8133102105426886, 0.9366020641753475, 0.9366020641753475, 0.9371013873471581, 0.936999586449755, 0.9371727786578464, 0.7833419099064999, 0.9366020641753475, 0.9371009313883779, 0.9377196190056297, 0.9366020641753475, 0.9366020641753475, 0.7531814756677074, 0.9366020641753475, 0.9386248323631028, 0.9367764327236885, 0.9366888535771034, 0.9369709232677534, 0.9366020641753475]}, {\"categories\": [\"0\", \"2\", \"5\", \"10\", \"11\", \"13\", \"15\", \"18\", \"20\", \"22\", \"23\", \"24\", \"25\", \"26\", \"27\", \"28\", \"29\", \"30\", \"31\", \"32\", \"33\", \"34\", \"37\"], \"mode\": \"lines\", \"name\": \"f1_score_weighted_max\", \"stepped\": true, \"type\": \"scatter\", \"data\": [0.9372587548741151, 0.9372587548741151, 0.9372587548741151, 0.9372587548741151, 0.9372587548741151, 0.9372587548741151, 0.9372587548741151, 0.9372587548741151, 0.9372587548741151, 0.9372587548741151, 0.9372587548741151, 0.9372587548741151, 0.9372587548741151, 0.9377196190056297, 0.9377196190056297, 0.9377196190056297, 0.9377196190056297, 0.9377196190056297, 0.9386248323631028, 0.9386248323631028, 0.9386248323631028, 0.9386248323631028, 0.9386248323631028]}], \"average_precision_score_weighted\": [{\"categories\": [\"0\", \"2\", \"5\", \"10\", \"11\", \"13\", \"15\", \"18\", \"20\", \"22\", \"23\", \"24\", \"25\", \"26\", \"27\", \"28\", \"29\", \"30\", \"31\", \"32\", \"33\", \"34\", \"37\"], \"mode\": \"markers\", \"name\": \"average_precision_score_weighted\", \"stepped\": false, \"type\": \"scatter\", \"data\": [0.9526630560884907, 0.955562288199617, 0.9535934902424685, 0.9542354983574194, 0.9554667763659467, 0.9528193692478134, 0.9567901690324231, 0.9525652708297652, 0.957487931204786, 0.9564122860106848, 0.9544822333390764, 0.9488753983016904, 0.9428604274970757, 0.9551408441653897, 0.9569366575886126, 0.9536367639829614, 0.9550281613701523, 0.955913046537851, 0.9561868397129062, 0.9547620995572856, 0.950208010782999, 0.9529618241402683, 0.9574449888533954]}, {\"categories\": [\"0\", \"2\", \"5\", \"10\", \"11\", \"13\", \"15\", \"18\", \"20\", \"22\", \"23\", \"24\", \"25\", \"26\", \"27\", \"28\", \"29\", \"30\", \"31\", \"32\", \"33\", \"34\", \"37\"], \"mode\": \"lines\", \"name\": \"average_precision_score_weighted_max\", \"stepped\": true, \"type\": \"scatter\", \"data\": [0.9526630560884907, 0.955562288199617, 0.955562288199617, 0.955562288199617, 0.955562288199617, 0.955562288199617, 0.9567901690324231, 0.9567901690324231, 0.957487931204786, 0.957487931204786, 0.957487931204786, 0.957487931204786, 0.957487931204786, 0.957487931204786, 0.957487931204786, 0.957487931204786, 0.957487931204786, 0.957487931204786, 0.957487931204786, 0.957487931204786, 0.957487931204786, 0.957487931204786, 0.957487931204786]}], \"precision_score_weighted\": [{\"categories\": [\"0\", \"2\", \"5\", \"10\", \"11\", \"13\", \"15\", \"18\", \"20\", \"22\", \"23\", \"24\", \"25\", \"26\", \"27\", \"28\", \"29\", \"30\", \"31\", \"32\", \"33\", \"34\", \"37\"], \"mode\": \"markers\", \"name\": \"precision_score_weighted\", \"stepped\": false, \"type\": \"scatter\", \"data\": [0.9282932028780398, 0.916669605715812, 0.9206913988713997, 0.916669605715812, 0.9511813340006942, 0.916669605715812, 0.916669605715812, 0.932339900056743, 0.9323320165724313, 0.927330991380605, 0.9501515149725512, 0.916669605715812, 0.9302964746136334, 0.9275292469597779, 0.916669605715812, 0.916669605715812, 0.9528560486822011, 0.916669605715812, 0.9344595643680358, 0.9240377758572332, 0.9245647317332918, 0.9262902449185687, 0.916669605715812]}, {\"categories\": [\"0\", \"2\", \"5\", \"10\", \"11\", \"13\", \"15\", \"18\", \"20\", \"22\", \"23\", \"24\", \"25\", \"26\", \"27\", \"28\", \"29\", \"30\", \"31\", \"32\", \"33\", \"34\", \"37\"], \"mode\": \"lines\", \"name\": \"precision_score_weighted_max\", \"stepped\": true, \"type\": \"scatter\", \"data\": [0.9282932028780398, 0.9282932028780398, 0.9282932028780398, 0.9282932028780398, 0.9511813340006942, 0.9511813340006942, 0.9511813340006942, 0.9511813340006942, 0.9511813340006942, 0.9511813340006942, 0.9511813340006942, 0.9511813340006942, 0.9511813340006942, 0.9511813340006942, 0.9511813340006942, 0.9511813340006942, 0.9528560486822011, 0.9528560486822011, 0.9528560486822011, 0.9528560486822011, 0.9528560486822011, 0.9528560486822011, 0.9528560486822011]}], \"recall_score_micro\": [{\"categories\": [\"0\", \"2\", \"5\", \"10\", \"11\", \"13\", \"15\", \"18\", \"20\", \"22\", \"23\", \"24\", \"25\", \"26\", \"27\", \"28\", \"29\", \"30\", \"31\", \"32\", \"33\", \"34\", \"37\"], \"mode\": \"markers\", \"name\": \"recall_score_micro\", \"stepped\": false, \"type\": \"scatter\", \"data\": [0.9521281998049388, 0.9574246775986645, 0.9568134306548992, 0.9574246775986645, 0.7341594813101073, 0.9574246775986645, 0.9574246775986645, 0.9576284265799195, 0.9574248020635278, 0.9570171796361544, 0.6919993736928077, 0.9574246775986645, 0.9576283021150562, 0.9547766876315281, 0.9574246775986645, 0.9574246775986645, 0.6514624123580665, 0.9574246775986645, 0.957017428565881, 0.9555911856970954, 0.9568136795846259, 0.9545726897205465, 0.9574246775986645]}, {\"categories\": [\"0\", \"2\", \"5\", \"10\", \"11\", \"13\", \"15\", \"18\", \"20\", \"22\", \"23\", \"24\", \"25\", \"26\", \"27\", \"28\", \"29\", \"30\", \"31\", \"32\", \"33\", \"34\", \"37\"], \"mode\": \"lines\", \"name\": \"recall_score_micro_max\", \"stepped\": true, \"type\": \"scatter\", \"data\": [0.9521281998049388, 0.9574246775986645, 0.9574246775986645, 0.9574246775986645, 0.9574246775986645, 0.9574246775986645, 0.9574246775986645, 0.9576284265799195, 0.9576284265799195, 0.9576284265799195, 0.9576284265799195, 0.9576284265799195, 0.9576284265799195, 0.9576284265799195, 0.9576284265799195, 0.9576284265799195, 0.9576284265799195, 0.9576284265799195, 0.9576284265799195, 0.9576284265799195, 0.9576284265799195, 0.9576284265799195, 0.9576284265799195]}]}, \"metricName\": null, \"primaryMetricName\": \"AUC_weighted\", \"showLegend\": false}, \"run_metrics\": [{\"name\": \"experiment_status\", \"run_id\": \"AutoML_7cb00053-71eb-430d-810f-c18bcc422676\", \"categories\": [0, 1, 2, 3, 4, 5, 6, 7, 8, 9, 10, 11, 12, 13, 14], \"series\": [{\"data\": [\"DatasetEvaluation\", \"FeaturesGeneration\", \"DatasetFeaturization\", \"DatasetFeaturizationCompleted\", \"DatasetBalancing\", \"DatasetCrossValidationSplit\", \"ModelSelection\", \"BestRunExplainModel\", \"ModelExplanationDataSetSetup\", \"PickSurrogateModel\", \"EngineeredFeatureExplanations\", \"EngineeredFeatureExplanations\", \"RawFeaturesExplanations\", \"RawFeaturesExplanations\", \"BestRunExplainModel\"]}]}, {\"name\": \"experiment_status_description\", \"run_id\": \"AutoML_7cb00053-71eb-430d-810f-c18bcc422676\", \"categories\": [0, 1, 2, 3, 4, 5, 6, 7, 8, 9, 10, 11, 12, 13, 14], \"series\": [{\"data\": [\"Gathering dataset statistics.\", \"Generating features for the dataset.\", \"Beginning to fit featurizers and featurize the dataset.\", \"Completed fit featurizers and featurizing the dataset.\", \"Performing class balancing sweeping\", \"Generating individually featurized CV splits.\", \"Beginning model selection.\", \"Best run model explanations started\", \"Model explanations data setup completed\", \"Choosing LightGBM as the surrogate model for explanations\", \"Computation of engineered features started\", \"Computation of engineered features completed\", \"Computation of raw features started\", \"Computation of raw features completed\", \"Best run model explanations completed\"]}]}, {\"name\": \"precision_score_macro\", \"run_id\": \"AutoML_7cb00053-71eb-430d-810f-c18bcc422676\", \"categories\": [0], \"series\": [{\"data\": [0.6454762068148546]}]}, {\"name\": \"accuracy\", \"run_id\": \"AutoML_7cb00053-71eb-430d-810f-c18bcc422676\", \"categories\": [0], \"series\": [{\"data\": [0.9576284265799195]}]}, {\"name\": \"norm_macro_recall\", \"run_id\": \"AutoML_7cb00053-71eb-430d-810f-c18bcc422676\", \"categories\": [0], \"series\": [{\"data\": [0.004385964912280678]}]}, {\"name\": \"f1_score_micro\", \"run_id\": \"AutoML_7cb00053-71eb-430d-810f-c18bcc422676\", \"categories\": [0], \"series\": [{\"data\": [0.9576284265799195]}]}, {\"name\": \"recall_score_micro\", \"run_id\": \"AutoML_7cb00053-71eb-430d-810f-c18bcc422676\", \"categories\": [0], \"series\": [{\"data\": [0.9576284265799195]}]}, {\"name\": \"matthews_correlation\", \"run_id\": \"AutoML_7cb00053-71eb-430d-810f-c18bcc422676\", \"categories\": [0], \"series\": [{\"data\": [0.03734868967473357]}]}, {\"name\": \"AUC_micro\", \"run_id\": \"AutoML_7cb00053-71eb-430d-810f-c18bcc422676\", \"categories\": [0], \"series\": [{\"data\": [0.9858044980548021]}]}, {\"name\": \"average_precision_score_macro\", \"run_id\": \"AutoML_7cb00053-71eb-430d-810f-c18bcc422676\", \"categories\": [0], \"series\": [{\"data\": [0.5912843006627773]}]}, {\"name\": \"AUC_macro\", \"run_id\": \"AutoML_7cb00053-71eb-430d-810f-c18bcc422676\", \"categories\": [0], \"series\": [{\"data\": [0.8485172440280296]}]}, {\"name\": \"f1_score_macro\", \"run_id\": \"AutoML_7cb00053-71eb-430d-810f-c18bcc422676\", \"categories\": [0], \"series\": [{\"data\": [0.4935035742153391]}]}, {\"name\": \"recall_score_weighted\", \"run_id\": \"AutoML_7cb00053-71eb-430d-810f-c18bcc422676\", \"categories\": [0], \"series\": [{\"data\": [0.9576284265799195]}]}, {\"name\": \"weighted_accuracy\", \"run_id\": \"AutoML_7cb00053-71eb-430d-810f-c18bcc422676\", \"categories\": [0], \"series\": [{\"data\": [0.9980271038519763]}]}, {\"name\": \"f1_score_weighted\", \"run_id\": \"AutoML_7cb00053-71eb-430d-810f-c18bcc422676\", \"categories\": [0], \"series\": [{\"data\": [0.9371013873471581]}]}, {\"name\": \"recall_score_macro\", \"run_id\": \"AutoML_7cb00053-71eb-430d-810f-c18bcc422676\", \"categories\": [0], \"series\": [{\"data\": [0.5021929824561403]}]}, {\"name\": \"average_precision_score_weighted\", \"run_id\": \"AutoML_7cb00053-71eb-430d-810f-c18bcc422676\", \"categories\": [0], \"series\": [{\"data\": [0.9577280243124396]}]}, {\"name\": \"precision_score_weighted\", \"run_id\": \"AutoML_7cb00053-71eb-430d-810f-c18bcc422676\", \"categories\": [0], \"series\": [{\"data\": [0.932339900056743]}]}, {\"name\": \"log_loss\", \"run_id\": \"AutoML_7cb00053-71eb-430d-810f-c18bcc422676\", \"categories\": [0], \"series\": [{\"data\": [0.1703781214869016]}]}, {\"name\": \"average_precision_score_micro\", \"run_id\": \"AutoML_7cb00053-71eb-430d-810f-c18bcc422676\", \"categories\": [0], \"series\": [{\"data\": [0.9858142985764715]}]}, {\"name\": \"AUC_weighted\", \"run_id\": \"AutoML_7cb00053-71eb-430d-810f-c18bcc422676\", \"categories\": [0], \"series\": [{\"data\": [0.8485172440280295]}]}, {\"name\": \"balanced_accuracy\", \"run_id\": \"AutoML_7cb00053-71eb-430d-810f-c18bcc422676\", \"categories\": [0], \"series\": [{\"data\": [0.5021929824561403]}]}, {\"name\": \"precision_score_micro\", \"run_id\": \"AutoML_7cb00053-71eb-430d-810f-c18bcc422676\", \"categories\": [0], \"series\": [{\"data\": [0.9576284265799195]}]}], \"run_logs\": \"\\nRun is completed.\", \"graph\": {}, \"widget_settings\": {\"childWidgetDisplay\": \"popup\", \"send_telemetry\": false, \"log_level\": \"INFO\", \"sdk_version\": \"1.34.0\"}, \"loading\": false}"
          },
          "metadata": {}
        },
        {
          "output_type": "display_data",
          "data": {
            "text/plain": "<IPython.core.display.HTML object>",
            "text/html": "<table style=\"width:100%\"><tr><th>Experiment</th><th>Id</th><th>Type</th><th>Status</th><th>Details Page</th><th>Docs Page</th></tr><tr><td>automl_experiment</td><td>AutoML_7cb00053-71eb-430d-810f-c18bcc422676</td><td>automl</td><td>NotStarted</td><td><a href=\"https://ml.azure.com/runs/AutoML_7cb00053-71eb-430d-810f-c18bcc422676?wsid=/subscriptions/adf28760-4783-41dd-bbd5-bbe3210d5965/resourcegroups/ml-ops/workspaces/telemetry-ws&amp;tid=3c2a020d-f343-4ca1-b6ef-91768380352f\" target=\"_blank\" rel=\"noopener\">Link to Azure Machine Learning studio</a></td><td><a href=\"https://docs.microsoft.com/en-us/python/api/overview/azure/ml/intro?view=azure-ml-py\" target=\"_blank\" rel=\"noopener\">Link to Documentation</a></td></tr></table>"
          },
          "metadata": {}
        },
        {
          "output_type": "stream",
          "name": "stdout",
          "text": "\nCurrent status: FeaturesGeneration. Generating features for the dataset.\nCurrent status: DatasetBalancing. Performing class balancing sweeping\nCurrent status: DatasetCrossValidationSplit. Generating individually featurized CV splits.\nCurrent status: ModelSelection. Beginning model selection.\n\n****************************************************************************************************\nDATA GUARDRAILS: \n\nTYPE:         Cross validation\nSTATUS:       DONE\nDESCRIPTION:  Each iteration of the trained model was validated through cross-validation.\n              \nDETAILS:      \n+---------------------------------+\n|Number of folds                  |\n+=================================+\n|3                                |\n+---------------------------------+\n\n****************************************************************************************************\n\nTYPE:         Class balancing detection\nSTATUS:       ALERTED\nDESCRIPTION:  To decrease model bias, please cancel the current run and fix balancing problem.\n              Learn more about imbalanced data: https://aka.ms/AutomatedMLImbalancedData\nDETAILS:      Imbalanced data can lead to a falsely perceived positive effect of a model's accuracy because the input data has bias towards one class.\n+---------------------------------+---------------------------------+--------------------------------------+\n|Size of the smallest class       |Name/Label of the smallest class |Number of samples in the training data|\n+=================================+=================================+======================================+\n|209                              |1                                |4909                                  |\n+---------------------------------+---------------------------------+--------------------------------------+\n\n****************************************************************************************************\n\nTYPE:         Missing feature values imputation\nSTATUS:       PASSED\nDESCRIPTION:  No feature missing values were detected in the training data.\n              Learn more about missing value imputation: https://aka.ms/AutomatedMLFeaturization\n\n****************************************************************************************************\n\nTYPE:         High cardinality feature detection\nSTATUS:       PASSED\nDESCRIPTION:  Your inputs were analyzed, and no high cardinality features were detected.\n              Learn more about high cardinality feature handling: https://aka.ms/AutomatedMLFeaturization\n\n****************************************************************************************************\n\n****************************************************************************************************\nITERATION: The iteration being evaluated.\nPIPELINE: A summary description of the pipeline being evaluated.\nDURATION: Time taken for the current iteration.\nMETRIC: The result of computing score on the fitted pipeline.\nBEST: The best observed score thus far.\n****************************************************************************************************\n\n ITERATION   PIPELINE                                       DURATION      METRIC      BEST\n         0   MaxAbsScaler LightGBM                          0:00:08       0.8048    0.8048\n         1   MaxAbsScaler XGBoostClassifier                 0:00:09       0.8385    0.8385\n         2   MaxAbsScaler ExtremeRandomTrees                0:00:12       0.8363    0.8385\n         3   MaxAbsScaler RandomForest                      0:00:12       0.8255    0.8385\n         4   StandardScalerWrapper LightGBM                 0:00:12       0.8411    0.8411\n         5   SparseNormalizer XGBoostClassifier             0:00:09       0.8147    0.8411\n         6   SparseNormalizer RandomForest                  0:00:11       0.8330    0.8411\n        10   SparseNormalizer LightGBM                      0:00:08       0.8218    0.8411\n         7   StandardScalerWrapper XGBoostClassifier        0:00:08       0.8033    0.8411\n         8   SparseNormalizer XGBoostClassifier             0:00:07       0.7903    0.8411\n         9   MaxAbsScaler RandomForest                      0:00:08       0.8264    0.8411\n        11   MaxAbsScaler ExtremeRandomTrees                0:00:14       0.8307    0.8411\n        12   StandardScalerWrapper XGBoostClassifier        0:00:09       0.8315    0.8411\n        13   StandardScalerWrapper ExtremeRandomTrees       0:00:08       0.8058    0.8411\n        14   StandardScalerWrapper RandomForest             0:00:12       0.7823    0.8411\n        15   MaxAbsScaler LightGBM                          0:00:08       0.8439    0.8439\n        16   MaxAbsScaler LogisticRegression                0:00:09       0.8419    0.8439\n        17   StandardScalerWrapper ExtremeRandomTrees       0:00:11       0.8407    0.8439\n        18   StandardScalerWrapper XGBoostClassifier        0:00:08       0.8200    0.8439\n        19   MaxAbsScaler ExtremeRandomTrees                0:00:07       0.8134    0.8439\n        20   MaxAbsScaler LogisticRegression                0:00:04       0.8438    0.8439\n        21   StandardScalerWrapper XGBoostClassifier        0:00:01       0.8201    0.8439\n        22   StandardScalerWrapper XGBoostClassifier        0:00:04       0.8386    0.8439\n        23   MaxAbsScaler RandomForest                      0:00:04       0.8161    0.8439\n        24   SparseNormalizer XGBoostClassifier             0:00:08       0.7853    0.8439\n        25   StandardScalerWrapper LightGBM                 0:00:08       0.7283    0.8439\n        26   SparseNormalizer XGBoostClassifier             0:00:07       0.8222    0.8439\n        27   StandardScalerWrapper RandomForest             0:00:08       0.8379    0.8439\n        28   MaxAbsScaler GradientBoosting                  0:00:04       0.8176    0.8439\n        29   StandardScalerWrapper RandomForest             0:00:04       0.8241    0.8439\n        30   MaxAbsScaler LightGBM                          0:00:04       0.8332    0.8439\n        31   StandardScalerWrapper XGBoostClassifier        0:00:04       0.8328    0.8439\n        32   StandardScalerWrapper XGBoostClassifier        0:00:01       0.8202    0.8439\n        33   TruncatedSVDWrapper XGBoostClassifier          0:00:04       0.7905    0.8439\n        34   TruncatedSVDWrapper XGBoostClassifier          0:00:06       0.8078    0.8439\n        35                                                  0:00:00          nan    0.8439\n        37    StackEnsemble                                 0:00:04       0.8467    0.8467\n        36    VotingEnsemble                                0:00:41       0.8485    0.8485\n"
        },
        {
          "output_type": "execute_result",
          "execution_count": 9,
          "data": {
            "text/plain": "{'runId': 'AutoML_7cb00053-71eb-430d-810f-c18bcc422676',\n 'target': 'azuremlCluster',\n 'status': 'Completed',\n 'startTimeUtc': '2022-06-15T03:57:03.401342Z',\n 'endTimeUtc': '2022-06-15T04:11:12.463908Z',\n 'services': {},\n 'warnings': [{'source': 'JasmineService',\n   'message': 'No scores improved over last 10 iterations, so experiment stopped early. This early stopping behavior can be disabled by setting enable_early_stopping = False in AutoMLConfig for notebook/python SDK runs.'}],\n 'properties': {'num_iterations': '1000',\n  'training_type': 'TrainFull',\n  'acquisition_function': 'EI',\n  'primary_metric': 'AUC_weighted',\n  'train_split': '0',\n  'acquisition_parameter': '0',\n  'num_cross_validation': None,\n  'target': 'azuremlCluster',\n  'AMLSettingsJsonString': '{\"path\":null,\"name\":\"automl_experiment\",\"subscription_id\":\"adf28760-4783-41dd-bbd5-bbe3210d5965\",\"resource_group\":\"ml-ops\",\"workspace_name\":\"telemetry-ws\",\"region\":\"eastus\",\"compute_target\":\"azuremlCluster\",\"spark_service\":null,\"azure_service\":\"remote\",\"many_models\":false,\"pipeline_fetch_max_batch_size\":1,\"enable_batch_run\":true,\"enable_run_restructure\":false,\"start_auxiliary_runs_before_parent_complete\":false,\"enable_code_generation\":false,\"iterations\":1000,\"primary_metric\":\"AUC_weighted\",\"task_type\":\"classification\",\"data_script\":null,\"test_size\":0.0,\"test_include_predictions_only\":false,\"validation_size\":0.0,\"n_cross_validations\":null,\"y_min\":null,\"y_max\":null,\"num_classes\":null,\"featurization\":\"auto\",\"_ignore_package_version_incompatibilities\":false,\"is_timeseries\":false,\"max_cores_per_iteration\":1,\"max_concurrent_iterations\":4,\"iteration_timeout_minutes\":null,\"mem_in_mb\":null,\"enforce_time_on_windows\":false,\"experiment_timeout_minutes\":20,\"experiment_exit_score\":null,\"whitelist_models\":null,\"blacklist_algos\":[\"TensorFlowLinearClassifier\",\"TensorFlowDNN\"],\"supported_models\":[\"SGD\",\"TensorFlowDNN\",\"KNN\",\"BernoulliNaiveBayes\",\"MultinomialNaiveBayes\",\"LogisticRegression\",\"DecisionTree\",\"ExtremeRandomTrees\",\"RandomForest\",\"TensorFlowLinearClassifier\",\"LinearSVM\",\"AveragedPerceptronClassifier\",\"LightGBM\",\"XGBoostClassifier\",\"GradientBoosting\",\"SVM\"],\"private_models\":[],\"auto_blacklist\":true,\"blacklist_samples_reached\":false,\"exclude_nan_labels\":true,\"verbosity\":20,\"_debug_log\":\"azureml_automl.log\",\"show_warnings\":false,\"model_explainability\":true,\"service_url\":null,\"sdk_url\":null,\"sdk_packages\":null,\"enable_onnx_compatible_models\":false,\"enable_split_onnx_featurizer_estimator_models\":false,\"vm_type\":\"STANDARD_D2_V2\",\"telemetry_verbosity\":20,\"send_telemetry\":true,\"enable_dnn\":false,\"scenario\":\"SDK-1.13.0\",\"environment_label\":null,\"save_mlflow\":false,\"force_text_dnn\":false,\"enable_feature_sweeping\":true,\"enable_early_stopping\":true,\"early_stopping_n_iters\":10,\"metrics\":null,\"enable_metric_confidence\":false,\"enable_ensembling\":true,\"enable_stack_ensembling\":true,\"ensemble_iterations\":15,\"enable_tf\":false,\"enable_subsampling\":null,\"subsample_seed\":null,\"enable_nimbusml\":false,\"enable_streaming\":false,\"force_streaming\":false,\"track_child_runs\":true,\"allowed_private_models\":[],\"label_column_name\":\"stroke\",\"weight_column_name\":null,\"cv_split_column_names\":null,\"positive_label\":null,\"enable_local_managed\":false,\"_local_managed_run_id\":null,\"cost_mode\":1,\"lag_length\":0,\"metric_operation\":\"maximize\",\"preprocess\":true,\"dataset_id\":\"e985c1b4-a8d6-4c85-a165-13e58ca7eb7c\"}',\n  'DataPrepJsonString': '{\\\\\"training_data\\\\\": {\\\\\"datasetId\\\\\": \\\\\"e985c1b4-a8d6-4c85-a165-13e58ca7eb7c\\\\\"}, \\\\\"datasets\\\\\": 0}',\n  'EnableSubsampling': None,\n  'runTemplate': 'AutoML',\n  'azureml.runsource': 'automl',\n  'display_task_type': 'classification',\n  'dependencies_versions': '{\"azureml-widgets\": \"1.34.0\", \"azureml-train\": \"1.34.0\", \"azureml-train-restclients-hyperdrive\": \"1.34.0\", \"azureml-train-core\": \"1.34.0\", \"azureml-train-automl\": \"1.34.0\", \"azureml-train-automl-runtime\": \"1.34.0\", \"azureml-train-automl-client\": \"1.34.0\", \"azureml-tensorboard\": \"1.34.0\", \"azureml-telemetry\": \"1.34.0\", \"azureml-sdk\": \"1.34.0\", \"azureml-samples\": \"0+unknown\", \"azureml-responsibleai\": \"1.34.0\", \"azureml-pipeline\": \"1.34.0\", \"azureml-pipeline-steps\": \"1.34.0\", \"azureml-pipeline-core\": \"1.34.0\", \"azureml-opendatasets\": \"1.34.0\", \"azureml-mlflow\": \"1.34.0\", \"azureml-interpret\": \"1.34.0\", \"azureml-inference-server-http\": \"0.3.1\", \"azureml-explain-model\": \"1.34.0\", \"azureml-defaults\": \"1.34.0\", \"azureml-dataset-runtime\": \"1.34.0\", \"azureml-dataprep\": \"2.22.2\", \"azureml-dataprep-rslex\": \"1.20.1\", \"azureml-dataprep-native\": \"38.0.0\", \"azureml-datadrift\": \"1.34.0\", \"azureml-core\": \"1.34.0\", \"azureml-contrib-services\": \"1.34.0\", \"azureml-contrib-server\": \"1.34.0\", \"azureml-contrib-reinforcementlearning\": \"1.34.0\", \"azureml-contrib-pipeline-steps\": \"1.34.0\", \"azureml-contrib-notebook\": \"1.34.0\", \"azureml-contrib-fairness\": \"1.34.0\", \"azureml-contrib-dataset\": \"1.34.0\", \"azureml-contrib-automl-pipeline-steps\": \"1.34.0\", \"azureml-cli-common\": \"1.34.0\", \"azureml-automl-runtime\": \"1.34.0\", \"azureml-automl-dnn-nlp\": \"1.34.0\", \"azureml-automl-core\": \"1.34.0\", \"azureml-accel-models\": \"1.34.0\"}',\n  '_aml_system_scenario_identification': 'Remote.Parent',\n  'ClientType': 'SDK',\n  'environment_cpu_name': 'AzureML-AutoML',\n  'environment_cpu_label': 'py36',\n  'environment_gpu_name': 'AzureML-AutoML-GPU',\n  'environment_gpu_label': 'py36',\n  'root_attribution': 'automl',\n  'attribution': 'AutoML',\n  'Orchestrator': 'AutoML',\n  'CancelUri': 'https://eastus.api.azureml.ms/jasmine/v1.0/subscriptions/adf28760-4783-41dd-bbd5-bbe3210d5965/resourceGroups/ml-ops/providers/Microsoft.MachineLearningServices/workspaces/telemetry-ws/experimentids/602e2fab-d64d-4f47-b7a6-c4a47ce88f18/cancel/AutoML_7cb00053-71eb-430d-810f-c18bcc422676',\n  'azureml.git.repository_uri': 'https://github.com/puter/nd00333-capstone.git',\n  'mlflow.source.git.repoURL': 'https://github.com/puter/nd00333-capstone.git',\n  'azureml.git.branch': 'master',\n  'mlflow.source.git.branch': 'master',\n  'azureml.git.commit': 'e6b23c7465dec6d1efe27b3d1312313b8124b37c',\n  'mlflow.source.git.commit': 'e6b23c7465dec6d1efe27b3d1312313b8124b37c',\n  'azureml.git.dirty': 'True',\n  'ClientSdkVersion': '1.38.0',\n  'snapshotId': '00000000-0000-0000-0000-000000000000',\n  'SetupRunId': 'AutoML_7cb00053-71eb-430d-810f-c18bcc422676_setup',\n  'SetupRunContainerId': 'dcid.AutoML_7cb00053-71eb-430d-810f-c18bcc422676_setup',\n  'FeaturizationRunJsonPath': 'featurizer_container.json',\n  'FeaturizationRunId': 'AutoML_7cb00053-71eb-430d-810f-c18bcc422676_featurize',\n  'ProblemInfoJsonString': '{\"dataset_num_categorical\": 0, \"is_sparse\": true, \"subsampling\": false, \"has_extra_col\": true, \"dataset_classes\": 2, \"dataset_features\": 19, \"dataset_samples\": 4909, \"single_frequency_class_detected\": false}',\n  'ModelExplainRunId': 'AutoML_7cb00053-71eb-430d-810f-c18bcc422676_ModelExplain'},\n 'inputDatasets': [{'dataset': {'id': 'e985c1b4-a8d6-4c85-a165-13e58ca7eb7c'}, 'consumptionDetails': {'type': 'RunInput', 'inputName': 'training_data', 'mechanism': 'Direct'}}],\n 'outputDatasets': [],\n 'logFiles': {},\n 'submittedBy': 'Chad Puterbaugh'}"
          },
          "metadata": {}
        }
      ],
      "execution_count": 9,
      "metadata": {
        "gather": {
          "logged": 1655266292310
        },
        "jupyter": {
          "outputs_hidden": false,
          "source_hidden": false
        },
        "nteract": {
          "transient": {
            "deleting": false
          }
        }
      }
    },
    {
      "cell_type": "markdown",
      "source": [
        "## Best Model\n",
        "\n",
        "TODO: In the cell below, get the best model from the automl experiments and display all the properties of the model.\n",
        "\n"
      ],
      "metadata": {}
    },
    {
      "cell_type": "code",
      "source": [
        "best_run, best_model = run.get_output(return_onnx_model=False)\n",
        "\n",
        "print(best_run)\n",
        "print(best_model)\n",
        "\n",
        "if \"automl\" not in os.listdir():\n",
        "    os.mkdir(\"./automl/outputs\")\n",
        "\n",
        "best_run.download_files(output_directory='./automl')\n",
        "\n",
        "print(best_run.get_file_names())\n",
        "print(best_run.get_environment())\n",
        "\n",
        "best_run_metrics = best_run.get_metrics()\n",
        "\n",
        "print('Best Run Id: ', best_run.id)\n",
        "print('Accuracy: ', best_run_metrics['accuracy'])\n",
        "print('AUC_Weighted: ', best_run_metrics['AUC_weighted'])"
      ],
      "outputs": [
        {
          "output_type": "stream",
          "name": "stderr",
          "text": "WARNING:root:Received unrecognized parameter dataset_id\nWARNING:root:Received unrecognized parameter dataset_id\nWARNING:root:Received unrecognized parameter dataset_id\nWARNING:root:The version of the SDK does not match the version the model was trained on.\nWARNING:root:The consistency in the result may not be guaranteed.\nWARNING:root:Package:azureml-automl-core, training version:1.38.0, current version:1.34.0\nPackage:azureml-automl-runtime, training version:1.38.0, current version:1.34.0\nPackage:azureml-core, training version:1.38.0, current version:1.34.0\nPackage:azureml-dataprep, training version:2.26.0, current version:2.22.2\nPackage:azureml-dataprep-rslex, training version:2.2.0, current version:1.20.1\nPackage:azureml-dataset-runtime, training version:1.38.0, current version:1.34.0\nPackage:azureml-defaults, training version:1.38.0, current version:1.34.0\nPackage:azureml-inference-server-http, training version:0.4.2, current version:0.3.1\nPackage:azureml-interpret, training version:1.38.0, current version:1.34.0\nPackage:azureml-mlflow, training version:1.38.0, current version:1.34.0\nPackage:azureml-pipeline-core, training version:1.38.0, current version:1.34.0\nPackage:azureml-responsibleai, training version:1.38.0, current version:1.34.0\nPackage:azureml-telemetry, training version:1.38.0, current version:1.34.0\nPackage:azureml-train-automl-client, training version:1.38.0, current version:1.34.0\nPackage:azureml-train-automl-runtime, training version:1.38.0, current version:1.34.0\nPackage:azureml-train-core, training version:1.38.0, current version:1.34.0\nPackage:azureml-train-restclients-hyperdrive, training version:1.38.0, current version:1.34.0\nWARNING:root:Please ensure the version of your local conda dependencies match the version on which your model was trained in order to properly retrieve your model.\n"
        },
        {
          "output_type": "stream",
          "name": "stdout",
          "text": "Run(Experiment: automl_experiment,\nId: AutoML_7cb00053-71eb-430d-810f-c18bcc422676_36,\nType: azureml.scriptrun,\nStatus: Completed)\nPipeline(memory=None,\n         steps=[('datatransformer',\n                 DataTransformer(enable_dnn=False, enable_feature_sweeping=True, feature_sweeping_config={}, feature_sweeping_timeout=86400, featurization_config=None, force_text_dnn=False, is_cross_validation=True, is_onnx_compatible=False, observer=None, task='classification', working_dir='/mnt/batch/tasks/shared/LS_root/mount...\n), random_state=0, reg_alpha=0.8333333333333334, reg_lambda=1.9791666666666667, subsample=0.8, tree_method='auto'))], verbose=False))], flatten_transform=None, weights=[0.2, 0.06666666666666667, 0.06666666666666667, 0.06666666666666667, 0.06666666666666667, 0.06666666666666667, 0.06666666666666667, 0.06666666666666667, 0.06666666666666667, 0.2, 0.06666666666666667]))],\n         verbose=False)\n['accuracy_table', 'automl_driver.py', 'confusion_matrix', 'explanation/5a1505a7/classes.interpret.json', 'explanation/5a1505a7/eval_data_viz.interpret.json', 'explanation/5a1505a7/expected_values.interpret.json', 'explanation/5a1505a7/features.interpret.json', 'explanation/5a1505a7/global_names/0.interpret.json', 'explanation/5a1505a7/global_rank/0.interpret.json', 'explanation/5a1505a7/global_values/0.interpret.json', 'explanation/5a1505a7/local_importance_values.interpret.json', 'explanation/5a1505a7/per_class_names/0.interpret.json', 'explanation/5a1505a7/per_class_rank/0.interpret.json', 'explanation/5a1505a7/per_class_values/0.interpret.json', 'explanation/5a1505a7/rich_metadata.interpret.json', 'explanation/5a1505a7/true_ys_viz.interpret.json', 'explanation/5a1505a7/visualization_dict.interpret.json', 'explanation/5a1505a7/ys_pred_proba_viz.interpret.json', 'explanation/5a1505a7/ys_pred_viz.interpret.json', 'explanation/d0784873/classes.interpret.json', 'explanation/d0784873/expected_values.interpret.json', 'explanation/d0784873/features.interpret.json', 'explanation/d0784873/global_names/0.interpret.json', 'explanation/d0784873/global_rank/0.interpret.json', 'explanation/d0784873/global_values/0.interpret.json', 'explanation/d0784873/local_importance_values.interpret.json', 'explanation/d0784873/per_class_names/0.interpret.json', 'explanation/d0784873/per_class_rank/0.interpret.json', 'explanation/d0784873/per_class_values/0.interpret.json', 'explanation/d0784873/rich_metadata.interpret.json', 'explanation/d0784873/true_ys_viz.interpret.json', 'explanation/d0784873/visualization_dict.interpret.json', 'explanation/d0784873/ys_pred_proba_viz.interpret.json', 'explanation/d0784873/ys_pred_viz.interpret.json', 'logs/azureml/azureml_automl.log', 'outputs/conda_env_v_1_0_0.yml', 'outputs/engineered_feature_names.json', 'outputs/env_dependencies.json', 'outputs/featurization_summary.json', 'outputs/internal_cross_validated_models.pkl', 'outputs/model.pkl', 'outputs/pipeline_graph.json', 'outputs/scoring_file_v_1_0_0.py', 'outputs/scoring_file_v_2_0_0.py', 'system_logs/cs_capability/cs-capability.log', 'system_logs/hosttools_capability/hosttools-capability.log', 'system_logs/lifecycler/execution-wrapper.log', 'system_logs/lifecycler/lifecycler.log', 'system_logs/lifecycler/vm-bootstrapper.log', 'system_logs/metrics_capability/metrics-capability.log', 'user_logs/std_log.txt']\nEnvironment(Name: AzureML-AutoML,\nVersion: 98)\nBest Run Id:  AutoML_7cb00053-71eb-430d-810f-c18bcc422676_36\nAccuracy:  0.9576284265799195\nAUC_Weighted:  0.8485172440280295\n"
        }
      ],
      "execution_count": 14,
      "metadata": {
        "gather": {
          "logged": 1655266979781
        },
        "jupyter": {
          "outputs_hidden": false,
          "source_hidden": false
        },
        "nteract": {
          "transient": {
            "deleting": false
          }
        }
      }
    },
    {
      "cell_type": "code",
      "source": [
        "#TODO: Save the best model\n",
        "model_name = 'stroke-prediction-automl-model'\n",
        "# https://docs.microsoft.com/en-us/python/api/azureml-core/azureml.core.run.run?view=azure-ml-py#azureml-core-run-run-register-model\n",
        "\n",
        "model = run.register_model(model_name=model_name)"
      ],
      "outputs": [
        {
          "output_type": "stream",
          "name": "stderr",
          "text": "WARNING:root:Received unrecognized parameter dataset_id\nWARNING:root:Received unrecognized parameter dataset_id\n"
        }
      ],
      "execution_count": 15,
      "metadata": {
        "gather": {
          "logged": 1655267017745
        },
        "jupyter": {
          "outputs_hidden": false,
          "source_hidden": false
        },
        "nteract": {
          "transient": {
            "deleting": false
          }
        }
      }
    },
    {
      "cell_type": "markdown",
      "source": [
        "## Model Deployment\n",
        "\n",
        "Remember you have to deploy only one of the two models you trained but you still need to register both the models. Perform the steps in the rest of this notebook only if you wish to deploy this model.\n",
        "\n",
        "TODO: In the cell below, register the model, create an inference config and deploy the model as a web service."
      ],
      "metadata": {}
    },
    {
      "cell_type": "code",
      "source": [
        "from azureml.core import Environment\n",
        "from azureml.core.model import InferenceConfig\n",
        "\n",
        "env = name=best_run.get_environment()\n",
        "\n",
        "inference_config = InferenceConfig(environment=env, source_directory='./automl/outputs', entry_script='./scoring_file_v_2_0_0.py')"
      ],
      "outputs": [],
      "execution_count": 16,
      "metadata": {
        "gather": {
          "logged": 1655267024850
        }
      }
    },
    {
      "cell_type": "code",
      "source": [
        "from azureml.core.webservice import AciWebservice, Webservice\n",
        "from azureml.core.model import Model\n",
        "\n",
        "deployment_config = AciWebservice.deploy_configuration(cpu_cores = 1, memory_gb = 1, enable_app_insights=True)\n",
        "\n",
        "# Deploy \n",
        "service = Model.deploy(\n",
        "    ws,\n",
        "    \"strokepredictor\",\n",
        "    [model],\n",
        "    inference_config,\n",
        "    deployment_config,\n",
        "    overwrite=True,\n",
        ")\n",
        "service.wait_for_deployment(show_output=True)\n",
        "print(service.state)\n"
      ],
      "outputs": [
        {
          "output_type": "stream",
          "name": "stdout",
          "text": "Tips: You can try get_logs(): https://aka.ms/debugimage#dockerlog or local deployment: https://aka.ms/debugimage#debug-locally to debug if deployment takes longer than 10 minutes.\nRunning\n2022-06-15 04:24:03+00:00 Creating Container Registry if not exists.\n2022-06-15 04:24:03+00:00 Registering the environment.\n2022-06-15 04:24:04+00:00 Use the existing image.\n2022-06-15 04:24:04+00:00 Generating deployment configuration.\n2022-06-15 04:24:05+00:00 Submitting deployment to compute.\n2022-06-15 04:24:08+00:00 Checking the status of deployment strokepredictor..\n2022-06-15 04:30:07+00:00 Checking the status of inference endpoint strokepredictor.\nSucceeded\nACI service creation operation finished, operation \"Succeeded\"\nHealthy\n"
        }
      ],
      "execution_count": 17,
      "metadata": {
        "gather": {
          "logged": 1655267417028
        },
        "jupyter": {
          "outputs_hidden": false,
          "source_hidden": false
        },
        "nteract": {
          "transient": {
            "deleting": false
          }
        }
      }
    },
    {
      "cell_type": "markdown",
      "source": [
        "TODO: In the cell below, send a request to the web service you deployed to test it."
      ],
      "metadata": {
        "collapsed": true,
        "gather": {
          "logged": 1598431657736
        },
        "jupyter": {
          "outputs_hidden": false,
          "source_hidden": false
        },
        "nteract": {
          "transient": {
            "deleting": false
          }
        }
      }
    },
    {
      "cell_type": "code",
      "source": [
        "import requests\n",
        "import json\n",
        "\n",
        "uri = service.scoring_uri\n",
        "\n",
        "headers = {\"Content-Type\": \"application/json\"}\n",
        "data =  {\n",
        "  \"Inputs\": {\n",
        "    \"data\": [\n",
        "      {\n",
        "        \"gender\": \"Male\",\n",
        "        \"age\": 67,\n",
        "        \"hypertension\": 0,\n",
        "        \"heart_disease\": 1,\n",
        "        \"ever_married\": \"Yes\",\n",
        "        \"work_type\": \"Private\",\n",
        "        \"Residence_type\": \"Urban\",\n",
        "        \"avg_glucose_level\": 228.69,\n",
        "        \"bmi\": 36.6,\n",
        "        \"smoking_status\": \"formerly smoked\"\n",
        "      },\n",
        "      {\n",
        "        \"gender\": \"Female\",\n",
        "        \"age\": 102,\n",
        "        \"hypertension\": 1,\n",
        "        \"heart_disease\": 1,\n",
        "        \"ever_married\": \"No\",\n",
        "        \"work_type\": \"Self-employed\",\n",
        "        \"Residence_type\": \"Rural\",\n",
        "        \"avg_glucose_level\": 202.21,\n",
        "        \"bmi\": 38.5,\n",
        "        \"smoking_status\": \"never smoked\"\n",
        "      }\n",
        "    ]\n",
        "  },\n",
        "  \"GlobalParameters\": {\n",
        "    \"method\": \"predict\"\n",
        "  }\n",
        "}\n",
        "data = json.dumps(data)\n",
        "response = requests.post(uri, data=data, headers=headers)\n",
        "print(response.json())"
      ],
      "outputs": [
        {
          "output_type": "stream",
          "name": "stdout",
          "text": "{'Results': [0, 0]}\n"
        }
      ],
      "execution_count": 22,
      "metadata": {
        "gather": {
          "logged": 1655267894110
        },
        "jupyter": {
          "outputs_hidden": false,
          "source_hidden": false
        },
        "nteract": {
          "transient": {
            "deleting": false
          }
        }
      }
    },
    {
      "cell_type": "markdown",
      "source": [
        "TODO: In the cell below, print the logs of the web service and delete the service"
      ],
      "metadata": {
        "collapsed": true,
        "gather": {
          "logged": 1598432765711
        },
        "jupyter": {
          "outputs_hidden": false,
          "source_hidden": false
        },
        "nteract": {
          "transient": {
            "deleting": false
          }
        }
      }
    },
    {
      "cell_type": "code",
      "source": [
        "# Print logs\n",
        "logs = service.get_logs()\n",
        "\n",
        "for line in logs.split('\\n'):\n",
        "    print(line)\n",
        "\n",
        "# delete service\n",
        "service.delete()\n",
        "model.delete()"
      ],
      "outputs": [],
      "execution_count": 23,
      "metadata": {
        "jupyter": {
          "outputs_hidden": false,
          "source_hidden": false
        },
        "nteract": {
          "transient": {
            "deleting": false
          }
        }
      }
    },
    {
      "cell_type": "markdown",
      "source": [
        "**Submission Checklist**\n",
        "- I have registered the model.\n",
        "- I have deployed the model with the best accuracy as a webservice.\n",
        "- I have tested the webservice by sending a request to the model endpoint.\n",
        "- I have deleted the webservice and shutdown all the computes that I have used.\n",
        "- I have taken a screenshot showing the model endpoint as active.\n",
        "- The project includes a file containing the environment details.\n"
      ],
      "metadata": {}
    },
    {
      "cell_type": "markdown",
      "source": [],
      "metadata": {}
    }
  ],
  "metadata": {
    "kernel_info": {
      "name": "python3-azureml"
    },
    "kernelspec": {
      "display_name": "Python 3",
      "language": "python",
      "name": "python3"
    },
    "language_info": {
      "name": "python",
      "version": "3.6.9",
      "mimetype": "text/x-python",
      "codemirror_mode": {
        "name": "ipython",
        "version": 3
      },
      "pygments_lexer": "ipython3",
      "nbconvert_exporter": "python",
      "file_extension": ".py"
    },
    "nteract": {
      "version": "nteract-front-end@1.0.0"
    },
    "microsoft": {
      "host": {
        "AzureML": {
          "notebookHasBeenCompleted": true
        }
      }
    }
  },
  "nbformat": 4,
  "nbformat_minor": 2
}